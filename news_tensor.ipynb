{
 "cells": [
  {
   "cell_type": "code",
   "execution_count": 2,
   "id": "639a3d61-44fe-4fd9-9c09-c53ae4a45747",
   "metadata": {},
   "outputs": [
    {
     "name": "stdout",
     "output_type": "stream",
     "text": [
      "Epoch 1/5\n"
     ]
    },
    {
     "name": "stderr",
     "output_type": "stream",
     "text": [
      "D:\\python\\Lib\\site-packages\\keras\\src\\layers\\core\\embedding.py:97: UserWarning: Argument `input_length` is deprecated. Just remove it.\n",
      "  warnings.warn(\n"
     ]
    },
    {
     "name": "stdout",
     "output_type": "stream",
     "text": [
      "\u001b[1m563/563\u001b[0m \u001b[32m━━━━━━━━━━━━━━━━━━━━\u001b[0m\u001b[37m\u001b[0m \u001b[1m12s\u001b[0m 18ms/step - accuracy: 0.1881 - loss: 3.2545 - val_accuracy: 0.3270 - val_loss: 2.6153\n",
      "Epoch 2/5\n",
      "\u001b[1m563/563\u001b[0m \u001b[32m━━━━━━━━━━━━━━━━━━━━\u001b[0m\u001b[37m\u001b[0m \u001b[1m10s\u001b[0m 18ms/step - accuracy: 0.3565 - loss: 2.4844 - val_accuracy: 0.4347 - val_loss: 2.2109\n",
      "Epoch 3/5\n",
      "\u001b[1m563/563\u001b[0m \u001b[32m━━━━━━━━━━━━━━━━━━━━\u001b[0m\u001b[37m\u001b[0m \u001b[1m10s\u001b[0m 18ms/step - accuracy: 0.4799 - loss: 2.0128 - val_accuracy: 0.4639 - val_loss: 2.0794\n",
      "Epoch 4/5\n",
      "\u001b[1m563/563\u001b[0m \u001b[32m━━━━━━━━━━━━━━━━━━━━\u001b[0m\u001b[37m\u001b[0m \u001b[1m10s\u001b[0m 18ms/step - accuracy: 0.5419 - loss: 1.7319 - val_accuracy: 0.4692 - val_loss: 2.0523\n",
      "Epoch 5/5\n",
      "\u001b[1m563/563\u001b[0m \u001b[32m━━━━━━━━━━━━━━━━━━━━\u001b[0m\u001b[37m\u001b[0m \u001b[1m10s\u001b[0m 18ms/step - accuracy: 0.5806 - loss: 1.5576 - val_accuracy: 0.4803 - val_loss: 2.0571\n",
      "\u001b[1m625/625\u001b[0m \u001b[32m━━━━━━━━━━━━━━━━━━━━\u001b[0m\u001b[37m\u001b[0m \u001b[1m2s\u001b[0m 2ms/step - accuracy: 0.4763 - loss: 2.0632\n",
      "📊 Test Accuracy: 0.49\n",
      "\u001b[1m1/1\u001b[0m \u001b[32m━━━━━━━━━━━━━━━━━━━━\u001b[0m\u001b[37m\u001b[0m \u001b[1m0s\u001b[0m 158ms/step\n",
      "New study shows rising sea levels → WELLNESS\n",
      "Champions League final ends dramatic → SPORTS\n"
     ]
    }
   ],
   "source": [
    "import pandas as pd\n",
    "import numpy as np\n",
    "import tensorflow as tf\n",
    "from tensorflow.keras.preprocessing.text import Tokenizer\n",
    "from tensorflow.keras.preprocessing.sequence import pad_sequences\n",
    "from tensorflow.keras.utils import to_categorical\n",
    "from tensorflow.keras.models import Sequential\n",
    "from tensorflow.keras.layers import Embedding, LSTM, Dense, Dropout\n",
    "from sklearn.model_selection import train_test_split\n",
    "\n",
    "# 1. Load dataset (download from Kaggle, unzip to working directory)\n",
    "df = pd.read_json(\"News_Category_Dataset_v3.json\", lines=True)\n",
    "\n",
    "# 2. Simplify: use only 'category' and 'headline'\n",
    "df = df[['category', 'headline']].dropna().sample(n=100000, random_state=42)\n",
    "\n",
    "# 3. Encode labels\n",
    "labels = df['category'].unique().tolist()\n",
    "df['label'] = df['category'].apply(lambda x: labels.index(x))\n",
    "y = to_categorical(df['label'])\n",
    "\n",
    "# 4. Text preprocessing\n",
    "sentences = df['headline'].values\n",
    "max_words = 20000\n",
    "max_len = 20\n",
    "\n",
    "tokenizer = Tokenizer(num_words=max_words, oov_token='<OOV>')\n",
    "tokenizer.fit_on_texts(sentences)\n",
    "seq = tokenizer.texts_to_sequences(sentences)\n",
    "X = pad_sequences(seq, maxlen=max_len, padding='post', truncating='post')\n",
    "\n",
    "# 5. Train-Test split\n",
    "X_train, X_test, y_train, y_test = train_test_split(X, y, test_size=0.2, random_state=42)\n",
    "\n",
    "# 6. Build LSTM model\n",
    "model = Sequential([\n",
    "    Embedding(input_dim=max_words, output_dim=64, input_length=max_len),\n",
    "    LSTM(64, return_sequences=False),\n",
    "    Dropout(0.5),\n",
    "    Dense(len(labels), activation='softmax')\n",
    "])\n",
    "model.compile(optimizer='adam', loss='categorical_crossentropy', metrics=['accuracy'])\n",
    "\n",
    "# 7. Train\n",
    "history = model.fit(X_train, y_train, epochs=5, batch_size=128, validation_split=0.1)\n",
    "\n",
    "# 8. Evaluate\n",
    "loss, acc = model.evaluate(X_test, y_test)\n",
    "print(f\"📊 Test Accuracy: {acc:.2f}\")\n",
    "\n",
    "# 9. Predict sample headlines\n",
    "samples = [\"New study shows rising sea levels\", \"Champions League final ends dramatic\"]\n",
    "seq_s = tokenizer.texts_to_sequences(samples)\n",
    "pad_s = pad_sequences(seq_s, maxlen=max_len, padding='post')\n",
    "pred = model.predict(pad_s)\n",
    "for s, p in zip(samples, pred):\n",
    "    print(s, \"→\", labels[np.argmax(p)])\n"
   ]
  },
  {
   "cell_type": "code",
   "execution_count": null,
   "id": "ee2076c7-452a-4bd5-add0-28d6eac1b0ef",
   "metadata": {},
   "outputs": [],
   "source": []
  }
 ],
 "metadata": {
  "kernelspec": {
   "display_name": "Python 3 (ipykernel)",
   "language": "python",
   "name": "python3"
  },
  "language_info": {
   "codemirror_mode": {
    "name": "ipython",
    "version": 3
   },
   "file_extension": ".py",
   "mimetype": "text/x-python",
   "name": "python",
   "nbconvert_exporter": "python",
   "pygments_lexer": "ipython3",
   "version": "3.12.7"
  }
 },
 "nbformat": 4,
 "nbformat_minor": 5
}
