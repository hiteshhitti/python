{
 "cells": [
  {
   "cell_type": "code",
   "execution_count": 5,
   "id": "01dae1e3-f376-4aeb-bb82-c0b63a48fa49",
   "metadata": {},
   "outputs": [
    {
     "name": "stdin",
     "output_type": "stream",
     "text": [
      " 16\n"
     ]
    }
   ],
   "source": [
    "age= int(input())\n",
    "if age > 18:\n",
    "    print(\"can vote\")"
   ]
  },
  {
   "cell_type": "code",
   "execution_count": 4,
   "id": "f722ba67-d433-405b-b8cf-e5bd6f00827b",
   "metadata": {},
   "outputs": [
    {
     "name": "stdin",
     "output_type": "stream",
     "text": [
      " 16\n"
     ]
    },
    {
     "name": "stdout",
     "output_type": "stream",
     "text": [
      "cannot vote\n"
     ]
    }
   ],
   "source": [
    "age=int(input())\n",
    "if age > 18:\n",
    "    print('can vote')\n",
    "else:\n",
    "    print('cannot vote')"
   ]
  },
  {
   "cell_type": "code",
   "execution_count": 15,
   "id": "baae135b-d35e-4365-a290-f063bc02914a",
   "metadata": {},
   "outputs": [
    {
     "name": "stdin",
     "output_type": "stream",
     "text": [
      " 35\n"
     ]
    },
    {
     "name": "stdout",
     "output_type": "stream",
     "text": [
      "Grade-D\n"
     ]
    }
   ],
   "source": [
    "# combination of multiple condition and logical comparison\n",
    "marks=int(input())\n",
    "if marks>=33 and marks <=50:\n",
    "    print('Grade-D')\n",
    "elif marks >= 51 and marks <= 70:\n",
    "    print('Grade-C')\n",
    "elif marks >=71 and marks <=80:\n",
    "    print('Grade-B')\n",
    "elif marks >= 81 and marks <=95:\n",
    "    print('Grade-A')\n",
    "elif marks >=96 and marks <= 100:\n",
    "    print('Grade- A+')\n",
    "elif marks >= 101:\n",
    "    print('invalid marking')\n",
    "else:\n",
    "    print('fail')"
   ]
  },
  {
   "cell_type": "code",
   "execution_count": 19,
   "id": "13a3903b-7038-46db-b971-aa498a2c3fa6",
   "metadata": {},
   "outputs": [
    {
     "name": "stdin",
     "output_type": "stream",
     "text": [
      "age 19\n",
      "indian ? yes/no no\n"
     ]
    },
    {
     "name": "stdout",
     "output_type": "stream",
     "text": [
      "not citizen\n"
     ]
    }
   ],
   "source": [
    "age = int(input('age'))\n",
    "if age >=18:\n",
    "    citizen= input('indian ? yes/no')\n",
    "    if citizen == 'yes':\n",
    "        print('can vote')\n",
    "    else:\n",
    "        print('not citizen')\n",
    "else:\n",
    "    print('underage')"
   ]
  },
  {
   "cell_type": "code",
   "execution_count": 20,
   "id": "e8707a7a-3bc2-4bb7-911e-c063b4be59d6",
   "metadata": {},
   "outputs": [],
   "source": [
    "list1=['apple', 'grapes', 'ananas', 'banana', 'guava']"
   ]
  },
  {
   "cell_type": "code",
   "execution_count": 22,
   "id": "5a099647-41a7-43fe-a50d-9bf1edda9b5e",
   "metadata": {},
   "outputs": [
    {
     "name": "stdin",
     "output_type": "stream",
     "text": [
      " biscuit\n"
     ]
    },
    {
     "name": "stdout",
     "output_type": "stream",
     "text": [
      "we dont have biscuit\n"
     ]
    }
   ],
   "source": [
    "fruit=input()\n",
    "if fruit in list1:\n",
    "    print('we have', fruit)\n",
    "else:\n",
    "    print('we dont have', fruit)"
   ]
  },
  {
   "cell_type": "code",
   "execution_count": 24,
   "id": "dfcd1e51-2837-495e-b1f9-8f22f63890e5",
   "metadata": {},
   "outputs": [],
   "source": [
    "users=['admin', 'hitesh']"
   ]
  },
  {
   "cell_type": "code",
   "execution_count": 32,
   "id": "36770753-af92-49eb-bf1e-efcf5a6f5d1f",
   "metadata": {},
   "outputs": [
    {
     "name": "stdin",
     "output_type": "stream",
     "text": [
      " admin\n"
     ]
    },
    {
     "name": "stdout",
     "output_type": "stream",
     "text": [
      "welcome admin\n"
     ]
    }
   ],
   "source": [
    "user=input()\n",
    "if user in users:\n",
    "    print('welcome', user)\n",
    "else:\n",
    "    print('invalid login')"
   ]
  },
  {
   "cell_type": "code",
   "execution_count": 31,
   "id": "d4b6c230-cf29-498a-9033-0177864908d6",
   "metadata": {},
   "outputs": [
    {
     "name": "stdin",
     "output_type": "stream",
     "text": [
      "username hitesh\n",
      "password abcdef\n"
     ]
    },
    {
     "name": "stdout",
     "output_type": "stream",
     "text": [
      "welcome hitesh\n"
     ]
    }
   ],
   "source": [
    "user=input('username')\n",
    "if user in users:\n",
    "    password=input('password')\n",
    "    if user == 'admin' and password == '123456':\n",
    "        print('welcome', user)\n",
    "    elif user == 'hitesh' and password == 'abcdef':\n",
    "        print('welcome', user)\n",
    "else:\n",
    "    print ('invalid user')"
   ]
  },
  {
   "cell_type": "code",
   "execution_count": 33,
   "id": "0847a828-f822-45c8-8441-c37eca18f2f4",
   "metadata": {},
   "outputs": [],
   "source": [
    "passwords=['123456', 'abcdef']"
   ]
  },
  {
   "cell_type": "code",
   "execution_count": 36,
   "id": "fe28701a-5ffe-4a35-bf83-f9c8cca0c796",
   "metadata": {},
   "outputs": [
    {
     "name": "stdin",
     "output_type": "stream",
     "text": [
      " admin\n",
      " 123456\n"
     ]
    },
    {
     "name": "stdout",
     "output_type": "stream",
     "text": [
      "welcome admin\n"
     ]
    }
   ],
   "source": [
    "user=input()\n",
    "password=input()\n",
    "if user in users:\n",
    "    idx = users.index(user)\n",
    "    if password == passwords[idx]:\n",
    "        print('welcome', user)\n",
    "    else:\n",
    "        print('invalid login')\n",
    "else:\n",
    "    print('invalid')"
   ]
  },
  {
   "cell_type": "code",
   "execution_count": 37,
   "id": "5dbce90f-6a98-44f7-a5f5-68a5904dc764",
   "metadata": {},
   "outputs": [],
   "source": [
    "user_pass={'admin':'123456', 'hitesh':'abcdef'}"
   ]
  },
  {
   "cell_type": "code",
   "execution_count": 42,
   "id": "67c5827b-2a5a-46ef-85e6-55863c821041",
   "metadata": {},
   "outputs": [
    {
     "name": "stdin",
     "output_type": "stream",
     "text": [
      "username admin\n",
      "password 12345\n"
     ]
    },
    {
     "name": "stdout",
     "output_type": "stream",
     "text": [
      "invalid\n"
     ]
    }
   ],
   "source": [
    "user=input('username')\n",
    "password=input('password')\n",
    "if user in user_pass:\n",
    "    if password==user_pass[user]:\n",
    "        print('welcome')\n",
    "    else:\n",
    "        print('invalid')\n",
    "else:\n",
    "    print('invalid')"
   ]
  },
  {
   "cell_type": "code",
   "execution_count": 43,
   "id": "412c86cf-6029-428e-bed4-15dbd29de936",
   "metadata": {},
   "outputs": [],
   "source": [
    "bad_words=['stupid', 'idiot', 'fool']"
   ]
  },
  {
   "cell_type": "code",
   "execution_count": 45,
   "id": "75a77934-6a06-47e9-9e32-961e3fa02daa",
   "metadata": {},
   "outputs": [
    {
     "name": "stdin",
     "output_type": "stream",
     "text": [
      " you looks so stupid\n"
     ]
    },
    {
     "name": "stdout",
     "output_type": "stream",
     "text": [
      "comment contains badwords\n"
     ]
    }
   ],
   "source": [
    "comment=input()\n",
    "if any (i in comment for i in bad_words):\n",
    "    print('comment contains badwords')\n",
    "else:\n",
    "    print('comment posted')"
   ]
  },
  {
   "cell_type": "code",
   "execution_count": 46,
   "id": "86b4bfcb-dbb0-4dcd-9bed-acff5d2a0bc4",
   "metadata": {},
   "outputs": [
    {
     "name": "stdin",
     "output_type": "stream",
     "text": [
      "salary 21000\n"
     ]
    },
    {
     "name": "stdout",
     "output_type": "stream",
     "text": [
      "tax value is 4200.0\n"
     ]
    }
   ],
   "source": [
    "salary=int(input('salary'))\n",
    "if salary >=20000:\n",
    "    print('tax value is', salary*(20/100))\n",
    "elif salary >=50000:\n",
    "    print('tax value is', salary*(30/100))\n",
    "elif salary >=70000:\n",
    "    print('tax values is', salary*(35/100))\n",
    "else:\n",
    "    print('no tax')"
   ]
  },
  {
   "cell_type": "code",
   "execution_count": 49,
   "id": "2341fe7f-9b6f-4204-8186-b808a59b684e",
   "metadata": {},
   "outputs": [
    {
     "name": "stdin",
     "output_type": "stream",
     "text": [
      "salary 85000\n"
     ]
    },
    {
     "name": "stdout",
     "output_type": "stream",
     "text": [
      "tax values is 17000.0\n",
      "total salary in hand 68000.0\n"
     ]
    }
   ],
   "source": [
    "salary=int(input('salary'))\n",
    "if salary >=20000:\n",
    "    tax=salary*(20/100)\n",
    "elif salary >=50000:\n",
    "    tax= salary*(30/100)\n",
    "elif salary >=70000:\n",
    "    tax= salary*(35/100)\n",
    "else:\n",
    "    print('no tax')\n",
    "print('tax values is', tax)\n",
    "print('total salary in hand', salary-tax)"
   ]
  },
  {
   "cell_type": "code",
   "execution_count": 50,
   "id": "8928a9fe-5df8-49d3-bb31-9eb0391d7f33",
   "metadata": {},
   "outputs": [],
   "source": [
    "from datetime import datetime"
   ]
  },
  {
   "cell_type": "code",
   "execution_count": 51,
   "id": "8dd93019-7537-48b2-a281-b91eff1fab30",
   "metadata": {},
   "outputs": [],
   "source": [
    "now=datetime.now()"
   ]
  },
  {
   "cell_type": "code",
   "execution_count": 54,
   "id": "dba62cfb-e7d8-4943-8390-0ed9b5e7bf06",
   "metadata": {},
   "outputs": [],
   "source": [
    "curr_time= now.strftime(\"%H:%M:%S\")\n",
    "curr_date=now.strftime(\"%d-%m-%Y\")"
   ]
  },
  {
   "cell_type": "code",
   "execution_count": 56,
   "id": "41606948-6ce3-4e3d-b22a-4f7f05400b82",
   "metadata": {},
   "outputs": [],
   "source": [
    "queries=['date', 'time']"
   ]
  },
  {
   "cell_type": "code",
   "execution_count": 58,
   "id": "45d5b4b1-97fa-4921-9af6-9a854f38ba82",
   "metadata": {},
   "outputs": [
    {
     "name": "stdin",
     "output_type": "stream",
     "text": [
      " time\n"
     ]
    },
    {
     "name": "stdout",
     "output_type": "stream",
     "text": [
      "07:39:05\n"
     ]
    }
   ],
   "source": [
    "query= input()\n",
    "if query in queries:\n",
    "    if query=='time':\n",
    "        print(curr_time)\n",
    "    elif query=='date':\n",
    "        print(curr_date)\n",
    "else:\n",
    "    print('dont understand you')"
   ]
  },
  {
   "cell_type": "code",
   "execution_count": 64,
   "id": "a5585262-d0ab-4122-b6d7-69c7d1356e59",
   "metadata": {},
   "outputs": [
    {
     "name": "stdin",
     "output_type": "stream",
     "text": [
      " hey tell samay\n"
     ]
    },
    {
     "name": "stdout",
     "output_type": "stream",
     "text": [
      "i dont understand you\n"
     ]
    }
   ],
   "source": [
    "query=input()\n",
    "if any(i in query for i in queries):\n",
    "    if 'time' in query:\n",
    "        print(curr_time)\n",
    "    elif 'date' in query:\n",
    "        print(curr_date)\n",
    "else:\n",
    "    print('i dont understand you')"
   ]
  },
  {
   "cell_type": "code",
   "execution_count": 69,
   "id": "0f0cdeb0-b34d-4a13-b792-6f3ea920907a",
   "metadata": {},
   "outputs": [
    {
     "name": "stdin",
     "output_type": "stream",
     "text": [
      "yes/no yes\n",
      "enter pin 12345\n"
     ]
    },
    {
     "name": "stdout",
     "output_type": "stream",
     "text": [
      "1. check balance \n",
      "2. withdraw \n",
      "3.deposit\n"
     ]
    },
    {
     "name": "stdin",
     "output_type": "stream",
     "text": [
      "choose 1/2/3 2\n",
      "enter amount to withdraw 6500\n"
     ]
    },
    {
     "name": "stdout",
     "output_type": "stream",
     "text": [
      "insufficient balance\n"
     ]
    }
   ],
   "source": [
    "balance = 5000\n",
    "card_inserted=input(\"yes/no\")\n",
    "if card_inserted=='yes':\n",
    "    pin=input('enter pin')\n",
    "    if pin=='12345':\n",
    "        print('1. check balance \\n2. withdraw \\n3.deposit')\n",
    "        choice = input('choose 1/2/3')\n",
    "        if choice == '1':\n",
    "            print('your balance is', balance)\n",
    "        elif choice == '2':\n",
    "            amount=int(input('enter amount to withdraw'))\n",
    "            if amount<=balance:\n",
    "                balance-=amount\n",
    "                print(\"amount withdrawn\", amount)\n",
    "                print(\"balance left\", balance)\n",
    "            else:\n",
    "                print('insufficient balance')\n",
    "        elif choice == '3':\n",
    "            amount = int(input())\n",
    "            balance+=amount\n",
    "            print(\"amount deposited\", amount)\n",
    "            print(\"balance now\", balance)\n",
    "        else:\n",
    "            print(\"invalid option\")\n",
    "    else:\n",
    "        print('wrong pin')\n",
    "else:\n",
    "    print('insert card')"
   ]
  },
  {
   "cell_type": "code",
   "execution_count": 80,
   "id": "00fa1be1-b172-4ef2-92ad-017c2882d6b2",
   "metadata": {},
   "outputs": [
    {
     "name": "stdin",
     "output_type": "stream",
     "text": [
      "enter new password Hitesh123@\n"
     ]
    },
    {
     "name": "stdout",
     "output_type": "stream",
     "text": [
      "password is strong\n"
     ]
    }
   ],
   "source": [
    "password=input('enter new password')\n",
    "if len(password)<6:\n",
    "    print(\"password too short\")\n",
    "elif ' ' in password:\n",
    "    print('no space allowed in password')\n",
    "elif not any(i in '@$%&' for i in password):\n",
    "    print('user special characters')\n",
    "elif not any (char.isupper() for char in password ):\n",
    "    print('password must have capital letters')\n",
    "elif not any (char.islower() for char in password):\n",
    "    print('password must have lower letetrs')\n",
    "elif not any (char.isdigit() for char in password):\n",
    "    print('password must have numbers')\n",
    "else:\n",
    "    print('password is strong')"
   ]
  },
  {
   "cell_type": "code",
   "execution_count": 1,
   "id": "46adf885-9d26-4bbf-88d5-51f93bc11cbf",
   "metadata": {},
   "outputs": [
    {
     "name": "stdin",
     "output_type": "stream",
     "text": [
      " 32\n",
      " 52\n",
      " -\n"
     ]
    },
    {
     "name": "stdout",
     "output_type": "stream",
     "text": [
      "-20\n"
     ]
    }
   ],
   "source": [
    "num1=int(input())\n",
    "num2=int(input())\n",
    "choice=input()\n",
    "if choice == '+':\n",
    "    print(num1+num2)\n",
    "elif choice == '-':\n",
    "    print(num1-num2)\n",
    "elif choice=='/':\n",
    "    print(num1/num2)"
   ]
  },
  {
   "cell_type": "code",
   "execution_count": null,
   "id": "dc87c69b-015d-41c0-a317-97466903a619",
   "metadata": {},
   "outputs": [],
   "source": []
  }
 ],
 "metadata": {
  "kernelspec": {
   "display_name": "Python 3 (ipykernel)",
   "language": "python",
   "name": "python3"
  },
  "language_info": {
   "codemirror_mode": {
    "name": "ipython",
    "version": 3
   },
   "file_extension": ".py",
   "mimetype": "text/x-python",
   "name": "python",
   "nbconvert_exporter": "python",
   "pygments_lexer": "ipython3",
   "version": "3.12.7"
  }
 },
 "nbformat": 4,
 "nbformat_minor": 5
}
