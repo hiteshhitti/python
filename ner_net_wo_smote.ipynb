{
 "cells": [
  {
   "cell_type": "code",
   "execution_count": 12,
   "id": "09bae57c-8328-4c32-990b-173cb10e9b17",
   "metadata": {},
   "outputs": [
    {
     "name": "stdout",
     "output_type": "stream",
     "text": [
      "\n",
      "Accuracy on Test Data: 61.88%\n",
      "\n",
      "Classification Report:\n",
      "               precision    recall  f1-score   support\n",
      "\n",
      "           3       0.00      0.00      0.00         2\n",
      "           4       0.14      0.09      0.11        11\n",
      "           5       0.72      0.65      0.68       136\n",
      "           6       0.60      0.67      0.63       128\n",
      "           7       0.54      0.53      0.53        40\n",
      "           8       0.25      0.33      0.29         3\n",
      "\n",
      "    accuracy                           0.62       320\n",
      "   macro avg       0.37      0.38      0.37       320\n",
      "weighted avg       0.62      0.62      0.62       320\n",
      "\n",
      "\n",
      "Confusion Matrix:\n",
      " [[ 0  0  0  1  1  0]\n",
      " [ 1  1  5  4  0  0]\n",
      " [ 1  5 89 38  3  0]\n",
      " [ 0  1 28 86 12  1]\n",
      " [ 0  0  2 15 21  2]\n",
      " [ 0  0  0  0  2  1]]\n"
     ]
    },
    {
     "name": "stderr",
     "output_type": "stream",
     "text": [
      "D:\\python\\Lib\\site-packages\\sklearn\\neural_network\\_multilayer_perceptron.py:780: ConvergenceWarning: Stochastic Optimizer: Maximum iterations (500) reached and the optimization hasn't converged yet.\n",
      "  class MLPClassifier(ClassifierMixin, BaseMultilayerPerceptron):\n"
     ]
    }
   ],
   "source": [
    "import pandas as pd\n",
    "from sklearn.model_selection import train_test_split\n",
    "from sklearn.preprocessing import StandardScaler\n",
    "from sklearn.neural_network import MLPClassifier\n",
    "from sklearn.metrics import accuracy_score, classification_report, confusion_matrix\n",
    "\n",
    "# Step 1: Load Dataset\n",
    "df = pd.read_csv('winequality-red.csv')\n",
    "\n",
    "# Step 2: Split Features and Target\n",
    "X = df.drop('quality', axis=1)\n",
    "y = df['quality']\n",
    "\n",
    "# Step 3: Train-Test Split (Stratify kar raha hu taaki class balance test set me bhi maintain ho)\n",
    "X_train, X_test, y_train, y_test = train_test_split(X, y, test_size=0.2, random_state=42, stratify=y)\n",
    "\n",
    "# Step 4: Feature Scaling (Neural Network ke liye zaroori)\n",
    "scaler = StandardScaler()\n",
    "X_train_scaled = scaler.fit_transform(X_train)\n",
    "X_test_scaled = scaler.transform(X_test)\n",
    "\n",
    "# Step 5: Build and Train Neural Network Model\n",
    "model = MLPClassifier(hidden_layer_sizes=(100, 50), max_iter=500, activation='relu', solver='adam', random_state=42)\n",
    "model.fit(X_train_scaled, y_train)\n",
    "\n",
    "# Step 6: Predict\n",
    "y_pred = model.predict(X_test_scaled)\n",
    "\n",
    "# Step 7: Evaluate\n",
    "print(\"\\nAccuracy on Test Data: {:.2f}%\".format(accuracy_score(y_test, y_pred) * 100))\n",
    "print(\"\\nClassification Report:\\n\", classification_report(y_test, y_pred))\n",
    "print(\"\\nConfusion Matrix:\\n\", confusion_matrix(y_test, y_pred))\n"
   ]
  },
  {
   "cell_type": "code",
   "execution_count": null,
   "id": "db1a5cb5-ce33-45ec-a1c8-acd9ebe28c51",
   "metadata": {},
   "outputs": [],
   "source": []
  }
 ],
 "metadata": {
  "kernelspec": {
   "display_name": "Python 3 (ipykernel)",
   "language": "python",
   "name": "python3"
  },
  "language_info": {
   "codemirror_mode": {
    "name": "ipython",
    "version": 3
   },
   "file_extension": ".py",
   "mimetype": "text/x-python",
   "name": "python",
   "nbconvert_exporter": "python",
   "pygments_lexer": "ipython3",
   "version": "3.12.7"
  }
 },
 "nbformat": 4,
 "nbformat_minor": 5
}
