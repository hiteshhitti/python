{
 "cells": [
  {
   "cell_type": "code",
   "execution_count": 2,
   "id": "bddee8e9-dff3-42de-9d00-309d7de5ec31",
   "metadata": {},
   "outputs": [],
   "source": [
    "#“Every program can encounter unexpected situations at runtime: dividing by zero, referencing a missing file, or simply typos in code. \n",
    "# Python distinguishes between three kinds of errors:\n",
    "\n",
    "# Syntax Errors – mistakes in the code structure (e.g., missing a colon).\n",
    "\n",
    "# Runtime Errors (Exceptions) – errors that occur as the program runs (e.g., ZeroDivisionError).\n",
    "\n",
    "# Logical Errors – the code runs but produces the wrong result (e.g., using + instead of *).\n",
    "\n",
    "# Today we’ll focus on exceptions, which are Python’s way of signaling runtime problems. Handling them lets our programs fail \n",
    "# gracefully or recover instead of crashing.”"
   ]
  },
  {
   "cell_type": "code",
   "execution_count": 1,
   "id": "63c758ee-d7a2-40ae-8828-d535eeb63bd9",
   "metadata": {},
   "outputs": [
    {
     "ename": "SyntaxError",
     "evalue": "expected ':' (3183476114.py, line 1)",
     "output_type": "error",
     "traceback": [
      "\u001b[1;36m  Cell \u001b[1;32mIn[1], line 1\u001b[1;36m\u001b[0m\n\u001b[1;33m    if true\u001b[0m\n\u001b[1;37m           ^\u001b[0m\n\u001b[1;31mSyntaxError\u001b[0m\u001b[1;31m:\u001b[0m expected ':'\n"
     ]
    }
   ],
   "source": [
    "if true\n",
    "    print('hello')"
   ]
  },
  {
   "cell_type": "code",
   "execution_count": 2,
   "id": "4662936c-08c2-441e-affe-eb7e790379ef",
   "metadata": {},
   "outputs": [
    {
     "ename": "ZeroDivisionError",
     "evalue": "division by zero",
     "output_type": "error",
     "traceback": [
      "\u001b[1;31m---------------------------------------------------------------------------\u001b[0m",
      "\u001b[1;31mZeroDivisionError\u001b[0m                         Traceback (most recent call last)",
      "Cell \u001b[1;32mIn[2], line 2\u001b[0m\n\u001b[0;32m      1\u001b[0m \u001b[38;5;66;03m# Runtime exception when dividing by zero\u001b[39;00m\n\u001b[1;32m----> 2\u001b[0m \u001b[38;5;28mprint\u001b[39m(\u001b[38;5;241m10\u001b[39m \u001b[38;5;241m/\u001b[39m \u001b[38;5;241m0\u001b[39m)\n",
      "\u001b[1;31mZeroDivisionError\u001b[0m: division by zero"
     ]
    }
   ],
   "source": [
    "# Runtime exception when dividing by zero\n",
    "print(10 / 0)"
   ]
  },
  {
   "cell_type": "code",
   "execution_count": 3,
   "id": "8e4f1043-fea3-4232-99c0-fb7407a19f70",
   "metadata": {},
   "outputs": [
    {
     "name": "stdout",
     "output_type": "stream",
     "text": [
      "Error caught: division by zero\n"
     ]
    }
   ],
   "source": [
    "try:\n",
    "    result = 10 / 0\n",
    "    print(\"This line won’t run\")\n",
    "except ZeroDivisionError as e:\n",
    "    print(\"Error caught:\", e)"
   ]
  },
  {
   "cell_type": "code",
   "execution_count": 5,
   "id": "350a57b7-fe3b-4bc7-878d-0f82c6fd5c54",
   "metadata": {},
   "outputs": [
    {
     "name": "stdin",
     "output_type": "stream",
     "text": [
      "Enter an integer:  6\n",
      "Enter divisor:  0\n"
     ]
    },
    {
     "name": "stdout",
     "output_type": "stream",
     "text": [
      "Oops: division by zero\n"
     ]
    }
   ],
   "source": [
    "try:\n",
    "    x = int(input(\"Enter an integer: \"))\n",
    "    y = int(input(\"Enter divisor: \"))\n",
    "    print(\"Quotient:\", x / y)\n",
    "except (ValueError, ZeroDivisionError) as err:\n",
    "    print(\"Oops:\", err)"
   ]
  },
  {
   "cell_type": "code",
   "execution_count": 6,
   "id": "a8c372e6-1132-446a-b0bd-e1239ca5ecbb",
   "metadata": {},
   "outputs": [],
   "source": [
    "def safe_divide2(a, b):\n",
    "    try:\n",
    "        print(a/b)\n",
    "    except (TypeError, ValueError, ZeroDivisionError) as e:\n",
    "        print(\"Cannot divide:\", e)\n",
    "        return None"
   ]
  },
  {
   "cell_type": "code",
   "execution_count": 7,
   "id": "1644457a-38c9-44af-8c6b-5dec188082ba",
   "metadata": {},
   "outputs": [
    {
     "ename": "NameError",
     "evalue": "name 'safe_divide' is not defined",
     "output_type": "error",
     "traceback": [
      "\u001b[1;31m---------------------------------------------------------------------------\u001b[0m",
      "\u001b[1;31mNameError\u001b[0m                                 Traceback (most recent call last)",
      "Cell \u001b[1;32mIn[7], line 1\u001b[0m\n\u001b[1;32m----> 1\u001b[0m safe_divide(\u001b[38;5;241m2.3\u001b[39m,\u001b[38;5;241m0\u001b[39m)\n",
      "\u001b[1;31mNameError\u001b[0m: name 'safe_divide' is not defined"
     ]
    }
   ],
   "source": [
    "safe_divide(2.3,0)"
   ]
  },
  {
   "cell_type": "code",
   "execution_count": 8,
   "id": "e80834e7-9c0c-46d9-81ec-8a82cef813e0",
   "metadata": {},
   "outputs": [],
   "source": [
    "def safe_divide(a, b):\n",
    "    try:\n",
    "        # 1) Convert to floats so strings like \"3.5\" work\n",
    "        a = float(a)\n",
    "        b = float(b)\n",
    "        # 2) Perform the division and return the result\n",
    "        return a / b\n",
    "    except ZeroDivisionError as e:\n",
    "        print(\"Error: Cannot divide by zero.\")\n",
    "    except ValueError as e:\n",
    "        print(\"Error: One of the inputs is not a valid number.\")\n",
    "    except TypeError as e:\n",
    "        print(\"Error: Unsupported input type.\")\n",
    "    # On any caught exception, return None\n",
    "    return None\n"
   ]
  },
  {
   "cell_type": "code",
   "execution_count": 9,
   "id": "d679845e-2a24-4ea6-8c81-1e74a9f98a96",
   "metadata": {},
   "outputs": [
    {
     "name": "stdout",
     "output_type": "stream",
     "text": [
      "Error: One of the inputs is not a valid number.\n"
     ]
    }
   ],
   "source": [
    "safe_divide('#',1)"
   ]
  },
  {
   "cell_type": "code",
   "execution_count": 13,
   "id": "0afacf5a-0962-4a73-8911-5011929ae024",
   "metadata": {},
   "outputs": [
    {
     "name": "stdin",
     "output_type": "stream",
     "text": [
      "Enter an integer:  a\n"
     ]
    },
    {
     "name": "stdout",
     "output_type": "stream",
     "text": [
      "❌ Invalid input — please enter a whole number.\n"
     ]
    }
   ],
   "source": [
    "try:\n",
    "    user_input = input(\"Enter an integer: \")\n",
    "    number = int(user_input)          # may raise ValueError\n",
    "except ValueError as e:\n",
    "    print(\"❌ Invalid input — please enter a whole number.\")\n",
    "else:\n",
    "    # Runs only if no exception occurred above\n",
    "    print(\"✅ Good — you entered the integer\", number)\n"
   ]
  },
  {
   "cell_type": "code",
   "execution_count": 11,
   "id": "7c5b3f64-4395-4712-bd91-b066fd370a67",
   "metadata": {},
   "outputs": [
    {
     "name": "stdout",
     "output_type": "stream",
     "text": [
      "File data loaded\n",
      "\n",
      "this is data of this file\n",
      "\n",
      "[\n",
      "hello my name is hitesh sharma.\n",
      "i am the trainer of python.\n",
      "this is the end of file.\n",
      "this added line.\n",
      "]\n",
      "\n",
      "File closed\n"
     ]
    }
   ],
   "source": [
    "try:\n",
    "    f = open('sample.txt', 'r')\n",
    "    data = f.read()\n",
    "    print('File data loaded\\n')\n",
    "    print(f'this is data of this file\\n\\n[\\n{data}]\\n')\n",
    "except FileNotFoundError:\n",
    "    print('File not found')\n",
    "finally:\n",
    "    # Ensures f.close() runs even if open or read failed\n",
    "    try:\n",
    "        f.close()\n",
    "        print('File closed')\n",
    "    except NameError:\n",
    "        # f was never defined if open() failed\n",
    "        print('No file to close')"
   ]
  },
  {
   "cell_type": "code",
   "execution_count": 25,
   "id": "129279d7-3157-453e-a246-e51ff944626c",
   "metadata": {},
   "outputs": [
    {
     "name": "stdin",
     "output_type": "stream",
     "text": [
      "num1 1\n",
      "num2 0\n"
     ]
    },
    {
     "name": "stdout",
     "output_type": "stream",
     "text": [
      "Can't divide by zero.\n",
      "execution completed\n"
     ]
    }
   ],
   "source": [
    "a=int(input('num1'))\n",
    "b=int(input('num2'))\n",
    "result=0\n",
    "try:\n",
    "    result = a / b\n",
    "    print(result)\n",
    "except ZeroDivisionError:\n",
    "    print(\"Can't divide by zero.\")\n",
    "finally:\n",
    "   print('execution completed')"
   ]
  },
  {
   "cell_type": "code",
   "execution_count": 43,
   "id": "df85826d-a308-41ea-b6c4-2d0d745ff454",
   "metadata": {},
   "outputs": [
    {
     "name": "stdout",
     "output_type": "stream",
     "text": [
      "Trying something risky...\n",
      "Cleanup complete.\n"
     ]
    }
   ],
   "source": [
    "try:\n",
    "    print(\"Trying something risky...\")\n",
    "    int(\"4\")\n",
    "except ValueError:\n",
    "    print('enter right data')\n",
    "finally:\n",
    "    print(\"Cleanup complete.\")"
   ]
  },
  {
   "cell_type": "code",
   "execution_count": 42,
   "id": "7b63a9d0-482a-4b2a-a7c7-b5f214419b38",
   "metadata": {},
   "outputs": [
    {
     "name": "stdin",
     "output_type": "stream",
     "text": [
      "enter number 2\n"
     ]
    },
    {
     "name": "stdout",
     "output_type": "stream",
     "text": [
      "Trying something risky...\n",
      "Success.\n",
      "2\n",
      "---END OF EXECUTION---\n"
     ]
    }
   ],
   "source": [
    "try:\n",
    "    a=int(input('enter number'))\n",
    "    print(\"Trying something risky...\")\n",
    "    # print(a)\n",
    "except ValueError:\n",
    "    print(\"Trying something risky...\")\n",
    "    print('enter right data')\n",
    "else:\n",
    "    print(\"Success.\")\n",
    "    print(a)\n",
    "finally:\n",
    "    print('---END OF EXECUTION---')"
   ]
  },
  {
   "cell_type": "code",
   "execution_count": 47,
   "id": "d7c00004-01ed-4de3-9958-dfb71a56673d",
   "metadata": {},
   "outputs": [
    {
     "name": "stdout",
     "output_type": "stream",
     "text": [
      "Age cannot be negative\n"
     ]
    }
   ],
   "source": [
    "try:\n",
    "    set_age(-5)\n",
    "except ValueError as e:\n",
    "    print(e)"
   ]
  },
  {
   "cell_type": "code",
   "execution_count": 56,
   "id": "e152623a-37be-4e2a-a17a-c60afa2fc13f",
   "metadata": {},
   "outputs": [
    {
     "name": "stdin",
     "output_type": "stream",
     "text": [
      "enter num a\n"
     ]
    },
    {
     "name": "stdout",
     "output_type": "stream",
     "text": [
      "❌ Conversion failed.\n"
     ]
    }
   ],
   "source": [
    "try:\n",
    "    a=input('enter num')\n",
    "    num = int(a)  # Try changing to \"abc\" to simulate failure\n",
    "except ValueError:\n",
    "    print(\"❌ Conversion failed.\")\n",
    "else:\n",
    "    print(\"✅ Conversion successful:\", num)"
   ]
  },
  {
   "cell_type": "code",
   "execution_count": 62,
   "id": "d467c2d6-ad84-4c27-a54c-27461da7caad",
   "metadata": {},
   "outputs": [],
   "source": [
    "def conversion():\n",
    "    try:\n",
    "        a = input()\n",
    "        num=int(a)\n",
    "    except ValueError:\n",
    "        print(\"conversion failed\")\n",
    "    else:\n",
    "        print(\"conversion successfull\", num)\n",
    "        return num"
   ]
  },
  {
   "cell_type": "code",
   "execution_count": 64,
   "id": "91e3d266-4d23-4f7f-9dc6-45b0ee4d364c",
   "metadata": {},
   "outputs": [
    {
     "name": "stdin",
     "output_type": "stream",
     "text": [
      " 1\n"
     ]
    },
    {
     "name": "stdout",
     "output_type": "stream",
     "text": [
      "conversion successfull 1\n"
     ]
    },
    {
     "data": {
      "text/plain": [
       "1"
      ]
     },
     "execution_count": 64,
     "metadata": {},
     "output_type": "execute_result"
    }
   ],
   "source": [
    "conversion()"
   ]
  },
  {
   "cell_type": "code",
   "execution_count": 65,
   "id": "6b43fbaa-1f64-47b3-9586-31ed922994ab",
   "metadata": {},
   "outputs": [
    {
     "name": "stdin",
     "output_type": "stream",
     "text": [
      " 12\n"
     ]
    },
    {
     "name": "stdout",
     "output_type": "stream",
     "text": [
      "conversion successfull 12\n"
     ]
    }
   ],
   "source": [
    "aa=conversion()"
   ]
  },
  {
   "cell_type": "code",
   "execution_count": 66,
   "id": "50cb853c-d67c-43ac-a87e-a931f5a6548b",
   "metadata": {},
   "outputs": [
    {
     "name": "stdout",
     "output_type": "stream",
     "text": [
      "12\n"
     ]
    }
   ],
   "source": [
    "print(aa)"
   ]
  },
  {
   "cell_type": "code",
   "execution_count": 67,
   "id": "65f4c287-3cea-43dc-b437-2fb7e5837b6f",
   "metadata": {},
   "outputs": [],
   "source": [
    "def set_age(age):\n",
    "    if age < 0:\n",
    "        raise ValueError(\"Age cannot be negative\")\n",
    "    print(\"Age set to\", age)"
   ]
  },
  {
   "cell_type": "code",
   "execution_count": 76,
   "id": "4d71aaa3-43ab-4463-85eb-3a953bdeacbd",
   "metadata": {},
   "outputs": [],
   "source": [
    "def add(a, b):\n",
    "    if not isinstance(a, int) or not isinstance(b, int):\n",
    "        raise TypeError(\"Both arguments must be integers\")\n",
    "    print(a+b)"
   ]
  },
  {
   "cell_type": "code",
   "execution_count": 82,
   "id": "ed527196-4b6d-4f53-9a01-f97550ad12df",
   "metadata": {},
   "outputs": [
    {
     "name": "stdout",
     "output_type": "stream",
     "text": [
      "Both arguments must be integers\n"
     ]
    }
   ],
   "source": [
    "try:\n",
    "    add(2,a)\n",
    "except TypeError as e:\n",
    "    print(e)"
   ]
  },
  {
   "cell_type": "code",
   "execution_count": 71,
   "id": "20e9df2e-f4c6-4b6c-93b3-04d56d35cf66",
   "metadata": {},
   "outputs": [],
   "source": [
    "def add2(a,b):\n",
    "    print(a+b)"
   ]
  },
  {
   "cell_type": "code",
   "execution_count": 80,
   "id": "7e3f1f87-0f59-4748-b6a1-fd1239d6dd76",
   "metadata": {},
   "outputs": [
    {
     "name": "stdout",
     "output_type": "stream",
     "text": [
      "unsupported operand type(s) for +: 'int' and 'str'\n"
     ]
    }
   ],
   "source": [
    "try:\n",
    "    add2(2,'abc')\n",
    "except TypeError as e:\n",
    "    print(e)"
   ]
  },
  {
   "cell_type": "code",
   "execution_count": 83,
   "id": "b2218dc9-6986-4903-afea-dd7fc53927bd",
   "metadata": {},
   "outputs": [],
   "source": [
    "def add3(a, b):\n",
    "    if not isinstance(a, int) or not isinstance(b, int):\n",
    "        raise ValueError(\"Both arguments must be integers\")\n",
    "    print(a+b)"
   ]
  },
  {
   "cell_type": "code",
   "execution_count": 86,
   "id": "93e9b044-7da5-4426-aa40-4fcbe32e3d75",
   "metadata": {},
   "outputs": [
    {
     "name": "stdout",
     "output_type": "stream",
     "text": [
      "Both arguments must be integers\n"
     ]
    }
   ],
   "source": [
    "try:\n",
    "    add3(2,a)\n",
    "except ValueError as v:\n",
    "    print(v)"
   ]
  },
  {
   "cell_type": "code",
   "execution_count": 97,
   "id": "c0f5c942-c71a-42d9-8f38-2001995ac77c",
   "metadata": {},
   "outputs": [],
   "source": [
    "def password():\n",
    "    try:\n",
    "        password=input('enter new password')\n",
    "        if len(password)<6:\n",
    "            raise ValueError('password too short ')\n",
    "        elif ' ' in password:\n",
    "            raise ValueError('no space allowed')\n",
    "        elif not any(i in '@$%&' for i in password):\n",
    "            raise ValueError('must have special characters')\n",
    "        elif not any (char.isupper() for char in password ):\n",
    "            raise ValueError('must have upper letters')\n",
    "        elif not any (char.islower() for char in password):\n",
    "            raise ValueError('must have lower letters')\n",
    "        elif not any (char.isdigit() for char in password):\n",
    "            raise ValueError ('must have digits')\n",
    "        else:\n",
    "            print('password is strong')\n",
    "    except ValueError as e:\n",
    "        print(e)\n",
    "    finally:\n",
    "        print('--END--')"
   ]
  },
  {
   "cell_type": "code",
   "execution_count": 98,
   "id": "4c9bcb74-49e1-473d-b60c-0a40284e741b",
   "metadata": {},
   "outputs": [
    {
     "name": "stdin",
     "output_type": "stream",
     "text": [
      "enter new password 123\n"
     ]
    },
    {
     "name": "stdout",
     "output_type": "stream",
     "text": [
      "password too short \n",
      "--END--\n"
     ]
    }
   ],
   "source": [
    "password()"
   ]
  },
  {
   "cell_type": "code",
   "execution_count": null,
   "id": "e1a4bbf4-4f60-4d2c-a060-d25aad1c8f73",
   "metadata": {},
   "outputs": [],
   "source": []
  }
 ],
 "metadata": {
  "kernelspec": {
   "display_name": "Python 3 (ipykernel)",
   "language": "python",
   "name": "python3"
  },
  "language_info": {
   "codemirror_mode": {
    "name": "ipython",
    "version": 3
   },
   "file_extension": ".py",
   "mimetype": "text/x-python",
   "name": "python",
   "nbconvert_exporter": "python",
   "pygments_lexer": "ipython3",
   "version": "3.12.7"
  }
 },
 "nbformat": 4,
 "nbformat_minor": 5
}
