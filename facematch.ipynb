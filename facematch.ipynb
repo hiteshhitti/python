{
 "cells": [
  {
   "cell_type": "code",
   "execution_count": 18,
   "id": "00ff59a4-3a92-4e26-a22a-12123018b39f",
   "metadata": {},
   "outputs": [
    {
     "name": "stdout",
     "output_type": "stream",
     "text": [
      "Requirement already satisfied: opencv-python in d:\\python\\lib\\site-packages (4.11.0.86)\n",
      "Collecting imagehash\n",
      "  Downloading ImageHash-4.3.2-py2.py3-none-any.whl.metadata (8.4 kB)\n",
      "Requirement already satisfied: Pillow in d:\\python\\lib\\site-packages (10.4.0)\n",
      "Requirement already satisfied: numpy>=1.21.2 in d:\\python\\lib\\site-packages (from opencv-python) (1.26.4)\n",
      "Requirement already satisfied: PyWavelets in d:\\python\\lib\\site-packages (from imagehash) (1.7.0)\n",
      "Requirement already satisfied: scipy in d:\\python\\lib\\site-packages (from imagehash) (1.13.1)\n",
      "Downloading ImageHash-4.3.2-py2.py3-none-any.whl (296 kB)\n",
      "Installing collected packages: imagehash\n",
      "Successfully installed imagehash-4.3.2\n"
     ]
    },
    {
     "name": "stderr",
     "output_type": "stream",
     "text": [
      "\n",
      "[notice] A new release of pip is available: 25.0.1 -> 25.1.1\n",
      "[notice] To update, run: python.exe -m pip install --upgrade pip\n"
     ]
    }
   ],
   "source": [
    "!pip install opencv-python imagehash Pillow"
   ]
  },
  {
   "cell_type": "code",
   "execution_count": 21,
   "id": "bf9a22e0-a2cd-4a0a-a4c5-bd4d30575686",
   "metadata": {},
   "outputs": [
    {
     "name": "stdout",
     "output_type": "stream",
     "text": [
      "📊 Match Results:\n",
      "Jobs_hero20110329.webp ➜ Similarity: 100.0%\n",
      "Steve_Jobs_Headshot_2010-CROP2.jpg ➜ Similarity: 43.75%\n",
      "\n",
      "✅ Best Match: Jobs_hero20110329.webp (Difference: 0)\n"
     ]
    }
   ],
   "source": [
    "import cv2\n",
    "import os\n",
    "from PIL import Image\n",
    "import imagehash\n",
    "\n",
    "known_dir = \"known\"\n",
    "test_image_path = \"Jobs_hero20110329.webp\"\n",
    "\n",
    "# Generate hashes for known images\n",
    "known_hashes = []\n",
    "known_names = []\n",
    "\n",
    "for file in os.listdir(known_dir):\n",
    "    img = Image.open(os.path.join(known_dir, file))\n",
    "    hash_val = imagehash.average_hash(img)\n",
    "    known_hashes.append(hash_val)\n",
    "    known_names.append(file)\n",
    "\n",
    "# Hash for test image\n",
    "test_img = Image.open(test_image_path)\n",
    "test_hash = imagehash.average_hash(test_img)\n",
    "\n",
    "# Compare hashes\n",
    "best_match = None\n",
    "lowest_diff = 1000\n",
    "\n",
    "print(\"📊 Match Results:\")\n",
    "for i, h in enumerate(known_hashes):\n",
    "    diff = abs(test_hash - h)\n",
    "    match_percent = round((1 - diff / 64) * 100, 2)  # 64 = max bits\n",
    "    print(f\"{known_names[i]} ➜ Similarity: {match_percent}%\")\n",
    "\n",
    "    if diff < lowest_diff:\n",
    "        lowest_diff = diff\n",
    "        best_match = known_names[i]\n",
    "\n",
    "print(f\"\\n✅ Best Match: {best_match} (Difference: {lowest_diff})\")\n"
   ]
  },
  {
   "cell_type": "code",
   "execution_count": 22,
   "id": "ee1633fd-3a2f-4e4c-9902-61a3f3a2b1f2",
   "metadata": {},
   "outputs": [
    {
     "name": "stdout",
     "output_type": "stream",
     "text": [
      "📊 Match Results:\n",
      "\n",
      "Jobs_hero20110329.webp ➜ Similarity: 100.0%\n",
      "Steve_Jobs_Headshot_2010-CROP2.jpg ➜ Similarity: 31.25%\n",
      "\n",
      "✅ Best Match: Jobs_hero20110329.webp (Difference: 0 bits)\n"
     ]
    }
   ],
   "source": [
    "import os\n",
    "from PIL import Image\n",
    "import imagehash\n",
    "\n",
    "# ✅ Settings\n",
    "image_size = (128, 128)  # standard size\n",
    "hash_func = imagehash.phash  # perceptual hash (better than average_hash)\n",
    "\n",
    "# ✅ Load and process known images\n",
    "known_hashes = []\n",
    "known_names = []\n",
    "\n",
    "for file in os.listdir(\"known\"):\n",
    "    path = os.path.join(\"known\", file)\n",
    "    img = Image.open(path).convert(\"L\").resize(image_size)  # grayscale + resize\n",
    "    hash_val = hash_func(img)\n",
    "    known_hashes.append(hash_val)\n",
    "    known_names.append(file)\n",
    "\n",
    "# ✅ Load and process test image\n",
    "test_img = Image.open(\"Jobs_hero20110329.webp\").convert(\"L\").resize(image_size)\n",
    "test_hash = hash_func(test_img)\n",
    "\n",
    "# ✅ Compare hashes\n",
    "best_match = None\n",
    "lowest_diff = 1000\n",
    "\n",
    "print(\"📊 Match Results:\\n\")\n",
    "\n",
    "for i, h in enumerate(known_hashes):\n",
    "    diff = abs(test_hash - h)\n",
    "    match_percent = round((1 - diff / 64) * 100, 2)  # 64 = total hash bits\n",
    "    print(f\"{known_names[i]} ➜ Similarity: {match_percent}%\")\n",
    "\n",
    "    if diff < lowest_diff:\n",
    "        lowest_diff = diff\n",
    "        best_match = known_names[i]\n",
    "\n",
    "print(f\"\\n✅ Best Match: {best_match} (Difference: {lowest_diff} bits)\")\n"
   ]
  },
  {
   "cell_type": "code",
   "execution_count": null,
   "id": "fd8eb48b-373b-4040-a94b-cbab0777020d",
   "metadata": {},
   "outputs": [],
   "source": []
  }
 ],
 "metadata": {
  "kernelspec": {
   "display_name": "Python 3 (ipykernel)",
   "language": "python",
   "name": "python3"
  },
  "language_info": {
   "codemirror_mode": {
    "name": "ipython",
    "version": 3
   },
   "file_extension": ".py",
   "mimetype": "text/x-python",
   "name": "python",
   "nbconvert_exporter": "python",
   "pygments_lexer": "ipython3",
   "version": "3.12.7"
  }
 },
 "nbformat": 4,
 "nbformat_minor": 5
}
