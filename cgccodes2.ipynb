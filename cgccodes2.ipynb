{
 "cells": [
  {
   "cell_type": "code",
   "execution_count": 1,
   "id": "de4b15ab-5699-4011-a802-a2aa6a2baeee",
   "metadata": {},
   "outputs": [
    {
     "name": "stdout",
     "output_type": "stream",
     "text": [
      "0\n",
      "1\n",
      "2\n",
      "3\n",
      "4\n",
      "5\n",
      "6\n",
      "7\n",
      "8\n",
      "9\n"
     ]
    }
   ],
   "source": [
    "for i in range(10):\n",
    "    print(i)"
   ]
  },
  {
   "cell_type": "code",
   "execution_count": 2,
   "id": "80223928-d9ba-4997-9985-c36f1409672d",
   "metadata": {},
   "outputs": [
    {
     "name": "stdout",
     "output_type": "stream",
     "text": [
      "2\n",
      "3\n",
      "4\n",
      "5\n",
      "6\n",
      "7\n",
      "8\n",
      "9\n",
      "10\n"
     ]
    }
   ],
   "source": [
    "for i in range (2, 11):\n",
    "    print(i)"
   ]
  },
  {
   "cell_type": "code",
   "execution_count": 3,
   "id": "9a22ef11-f0e0-441a-8191-c0f3b7b8d917",
   "metadata": {},
   "outputs": [
    {
     "name": "stdout",
     "output_type": "stream",
     "text": [
      "0\n",
      "2\n",
      "4\n",
      "6\n",
      "8\n",
      "10\n",
      "12\n",
      "14\n",
      "16\n",
      "18\n"
     ]
    }
   ],
   "source": [
    "for i in range (0, 20, 2):\n",
    "    print(i)"
   ]
  },
  {
   "cell_type": "code",
   "execution_count": 4,
   "id": "32e396b2-1b71-4b39-9f50-524b1fdd0d45",
   "metadata": {},
   "outputs": [
    {
     "name": "stdout",
     "output_type": "stream",
     "text": [
      "10\n",
      "9\n",
      "8\n",
      "7\n",
      "6\n",
      "5\n",
      "4\n",
      "3\n",
      "2\n",
      "1\n"
     ]
    }
   ],
   "source": [
    "for i in range (10, 0, -1):\n",
    "    print(i)"
   ]
  },
  {
   "cell_type": "code",
   "execution_count": 7,
   "id": "3f2d830c-0c39-4eac-8f24-a3e156368355",
   "metadata": {},
   "outputs": [
    {
     "name": "stdout",
     "output_type": "stream",
     "text": [
      "2 X 1 = 2\n",
      "2 X 2 = 4\n",
      "2 X 3 = 6\n",
      "2 X 4 = 8\n",
      "2 X 5 = 10\n",
      "2 X 6 = 12\n",
      "2 X 7 = 14\n",
      "2 X 8 = 16\n",
      "2 X 9 = 18\n",
      "2 X 10 = 20\n"
     ]
    }
   ],
   "source": [
    "for i in range (1,11):\n",
    "    print(2,'X',i, '=', (i*2))"
   ]
  },
  {
   "cell_type": "code",
   "execution_count": 9,
   "id": "e7cf2e3a-1b7b-4afb-b6e5-5dd0ec805957",
   "metadata": {},
   "outputs": [
    {
     "name": "stdout",
     "output_type": "stream",
     "text": [
      "even  2\n",
      "even  4\n",
      "even  6\n",
      "even  8\n",
      "even  10\n",
      "even  12\n",
      "even  14\n",
      "even  16\n",
      "even  18\n"
     ]
    }
   ],
   "source": [
    "for i in range (1,20):\n",
    "    if i % 2 == 0:\n",
    "        print('even ', i)"
   ]
  },
  {
   "cell_type": "code",
   "execution_count": 10,
   "id": "51a947fa-22d4-492c-80f0-0f5fc5097e7c",
   "metadata": {},
   "outputs": [
    {
     "name": "stdout",
     "output_type": "stream",
     "text": [
      "p\n",
      "y\n",
      "t\n",
      "h\n",
      "o\n",
      "n\n"
     ]
    }
   ],
   "source": [
    "word = 'python'\n",
    "for i in word:\n",
    "    print(i)"
   ]
  },
  {
   "cell_type": "code",
   "execution_count": 11,
   "id": "25a046bc-ee16-4384-8d64-8e9789b73b40",
   "metadata": {},
   "outputs": [],
   "source": [
    "list1=['apple', 'banana', 'cherry', 'berry']"
   ]
  },
  {
   "cell_type": "code",
   "execution_count": 12,
   "id": "d0d5fd84-1d2c-42df-ac94-099199d06c25",
   "metadata": {},
   "outputs": [
    {
     "name": "stdout",
     "output_type": "stream",
     "text": [
      "apple\n",
      "banana\n",
      "cherry\n",
      "berry\n"
     ]
    }
   ],
   "source": [
    "for i in list1:\n",
    "    print(i)"
   ]
  },
  {
   "cell_type": "code",
   "execution_count": 20,
   "id": "085b5fe8-6d56-4c26-8e31-fc2a7985bdc9",
   "metadata": {},
   "outputs": [
    {
     "name": "stdout",
     "output_type": "stream",
     "text": [
      "1\n",
      "2\n",
      "3\n",
      "4\n",
      "5\n",
      "6\n",
      "7\n",
      "8\n",
      "9\n",
      "10\n",
      "11\n",
      "12\n"
     ]
    }
   ],
   "source": [
    "for i in range (1,200):\n",
    "    if i % 13 == 0:\n",
    "        break\n",
    "    print(i)"
   ]
  },
  {
   "cell_type": "code",
   "execution_count": 21,
   "id": "2718dd5f-9244-4621-bb1e-271c8e1f9876",
   "metadata": {},
   "outputs": [
    {
     "name": "stdout",
     "output_type": "stream",
     "text": [
      "0\n",
      "2\n",
      "4\n",
      "6\n",
      "8\n",
      "10\n",
      "12\n",
      "14\n",
      "16\n",
      "18\n"
     ]
    }
   ],
   "source": [
    "for i in range(0,20):\n",
    "    if i % 2==1:\n",
    "        continue\n",
    "    print(i)"
   ]
  },
  {
   "cell_type": "code",
   "execution_count": 28,
   "id": "ea0c5b60-82a0-44eb-9f94-804a1c96f9ac",
   "metadata": {},
   "outputs": [
    {
     "name": "stdout",
     "output_type": "stream",
     "text": [
      "\n",
      "*\n",
      "**\n",
      "***\n",
      "****\n",
      "*****\n",
      "******\n",
      "*******\n",
      "********\n",
      "*********\n",
      "**********\n",
      "***********\n",
      "************\n",
      "*************\n",
      "**************\n",
      "***************\n",
      "****************\n",
      "*****************\n",
      "******************\n",
      "*******************\n",
      "********************\n",
      "*******************\n",
      "******************\n",
      "*****************\n",
      "****************\n",
      "***************\n",
      "**************\n",
      "*************\n",
      "************\n",
      "***********\n",
      "**********\n",
      "*********\n",
      "********\n",
      "*******\n",
      "******\n",
      "*****\n",
      "****\n",
      "***\n",
      "**\n",
      "*\n"
     ]
    }
   ],
   "source": [
    "for i in range(20):\n",
    "    print('*'*i)\n",
    "for i in range(20,0,-1):\n",
    "    print('*'* i)"
   ]
  },
  {
   "cell_type": "code",
   "execution_count": 30,
   "id": "71e231f3-8b62-4232-a560-4e0fcf868344",
   "metadata": {},
   "outputs": [
    {
     "name": "stdout",
     "output_type": "stream",
     "text": [
      "                   *\n",
      "                  **\n",
      "                 ***\n",
      "                ****\n",
      "               *****\n",
      "              ******\n",
      "             *******\n",
      "            ********\n",
      "           *********\n",
      "          **********\n",
      "         ***********\n",
      "        ************\n",
      "       *************\n",
      "      **************\n",
      "     ***************\n",
      "    ****************\n",
      "   *****************\n",
      "  ******************\n",
      " *******************\n"
     ]
    }
   ],
   "source": [
    "rows=20\n",
    "for i in range (1,rows):\n",
    "    print(' ' *(rows-i)+'*'*i )"
   ]
  },
  {
   "cell_type": "code",
   "execution_count": 41,
   "id": "2ddb61d5-9c12-41bc-8cb3-a4780b8f5a76",
   "metadata": {},
   "outputs": [
    {
     "name": "stdout",
     "output_type": "stream",
     "text": [
      "********************\n",
      " *******************\n",
      "  ******************\n",
      "   *****************\n",
      "    ****************\n",
      "     ***************\n",
      "      **************\n",
      "       *************\n",
      "        ************\n",
      "         ***********\n",
      "          **********\n",
      "           *********\n",
      "            ********\n",
      "             *******\n",
      "              ******\n",
      "               *****\n",
      "                ****\n",
      "                 ***\n",
      "                  **\n",
      "                   *\n"
     ]
    }
   ],
   "source": [
    "rows=20\n",
    "for i in range (rows,0,-1):\n",
    "    print(' ' *(rows-i)+'*'*i )"
   ]
  },
  {
   "cell_type": "code",
   "execution_count": 34,
   "id": "8e710bbb-8cad-4c97-80b2-16b08531527b",
   "metadata": {},
   "outputs": [
    {
     "name": "stdout",
     "output_type": "stream",
     "text": [
      "                   *\n",
      "                  ***\n",
      "                 *****\n",
      "                *******\n",
      "               *********\n",
      "              ***********\n",
      "             *************\n",
      "            ***************\n",
      "           *****************\n",
      "          *******************\n",
      "         *********************\n",
      "        ***********************\n",
      "       *************************\n",
      "      ***************************\n",
      "     *****************************\n",
      "    *******************************\n",
      "   *********************************\n",
      "  ***********************************\n",
      " *************************************\n",
      "***************************************\n"
     ]
    }
   ],
   "source": [
    "rows = 20\n",
    "for i in range(1, rows + 1):\n",
    "    print(\" \" * (rows - i) + \"*\" * (2 * i - 1))"
   ]
  },
  {
   "cell_type": "code",
   "execution_count": 39,
   "id": "9028059d-f1e0-47e3-ba6d-deeabf1a1948",
   "metadata": {},
   "outputs": [
    {
     "name": "stdout",
     "output_type": "stream",
     "text": [
      "*****************************\n",
      " ***************************\n",
      "  *************************\n",
      "   ***********************\n",
      "    *********************\n",
      "     *******************\n",
      "      *****************\n",
      "       ***************\n",
      "        *************\n",
      "         ***********\n",
      "          *********\n",
      "           *******\n",
      "            *****\n",
      "             ***\n",
      "              *\n"
     ]
    }
   ],
   "source": [
    "rows = 15\n",
    "for i in range(rows,0 ,- 1):\n",
    "    print(\" \" * (rows - i) + \"*\" * (2 * i - 1))"
   ]
  },
  {
   "cell_type": "code",
   "execution_count": 40,
   "id": "77306fdb-01e9-4185-a1ce-1edbbf1f8090",
   "metadata": {},
   "outputs": [
    {
     "name": "stdout",
     "output_type": "stream",
     "text": [
      "                   *\n",
      "                  ***\n",
      "                 *****\n",
      "                *******\n",
      "               *********\n",
      "              ***********\n",
      "             *************\n",
      "            ***************\n",
      "           *****************\n",
      "          *******************\n",
      "         *********************\n",
      "        ***********************\n",
      "       *************************\n",
      "      ***************************\n",
      "     *****************************\n",
      "    *******************************\n",
      "   *********************************\n",
      "  ***********************************\n",
      " *************************************\n",
      "***************************************\n",
      "***************************************\n",
      " *************************************\n",
      "  ***********************************\n",
      "   *********************************\n",
      "    *******************************\n",
      "     *****************************\n",
      "      ***************************\n",
      "       *************************\n",
      "        ***********************\n",
      "         *********************\n",
      "          *******************\n",
      "           *****************\n",
      "            ***************\n",
      "             *************\n",
      "              ***********\n",
      "               *********\n",
      "                *******\n",
      "                 *****\n",
      "                  ***\n",
      "                   *\n"
     ]
    }
   ],
   "source": [
    "rows = 20\n",
    "for i in range(1, rows + 1):\n",
    "    print(\" \" * (rows - i) + \"*\" * (2 * i - 1))\n",
    "for i in range(rows,0 ,- 1):\n",
    "    print(\" \" * (rows - i) + \"*\" * (2 * i - 1))"
   ]
  },
  {
   "cell_type": "code",
   "execution_count": 47,
   "id": "a7107d0a-cf0d-4859-aae1-1d6db762f19f",
   "metadata": {},
   "outputs": [
    {
     "name": "stdout",
     "output_type": "stream",
     "text": [
      "1\n",
      "22\n",
      "333\n",
      "4444\n",
      "55555\n",
      "666666\n",
      "7777777\n",
      "88888888\n",
      "999999999\n"
     ]
    }
   ],
   "source": [
    "rows = 9\n",
    "for i in range(1, rows + 1):\n",
    "    print(str(i) * i)"
   ]
  },
  {
   "cell_type": "code",
   "execution_count": 45,
   "id": "e27c1814-328f-4b33-a3ec-81673bab755a",
   "metadata": {},
   "outputs": [
    {
     "name": "stdout",
     "output_type": "stream",
     "text": [
      "********************\n",
      "*                  *\n",
      "*                  *\n",
      "*                  *\n",
      "*                  *\n",
      "*                  *\n",
      "*                  *\n",
      "*                  *\n",
      "*                  *\n",
      "*                  *\n",
      "*                  *\n",
      "*                  *\n",
      "*                  *\n",
      "*                  *\n",
      "*                  *\n",
      "*                  *\n",
      "*                  *\n",
      "*                  *\n",
      "*                  *\n",
      "********************\n"
     ]
    }
   ],
   "source": [
    "n = 20\n",
    "for i in range(n):\n",
    "    for j in range(n):\n",
    "        if i == 0 or i == n - 1 or j == 0 or j == n - 1:\n",
    "            print(\"*\", end=\"\")\n",
    "        else:\n",
    "            print(\" \", end=\"\")\n",
    "    print()"
   ]
  },
  {
   "cell_type": "code",
   "execution_count": 44,
   "id": "2e0e9f34-e060-41c3-bfd5-3cdb13ac8d21",
   "metadata": {},
   "outputs": [
    {
     "name": "stdout",
     "output_type": "stream",
     "text": [
      "*\n",
      "**\n",
      "* *\n",
      "*  *\n",
      "*   *\n",
      "*    *\n",
      "*     *\n",
      "*      *\n",
      "*       *\n",
      "*        *\n",
      "*         *\n",
      "*          *\n",
      "*           *\n",
      "*            *\n",
      "*             *\n",
      "*              *\n",
      "*               *\n",
      "*                *\n",
      "*                 *\n",
      "********************\n"
     ]
    }
   ],
   "source": [
    "rows = 20\n",
    "for i in range(1, rows + 1):\n",
    "    for j in range(1, i + 1):\n",
    "        if j == 1 or j == i or i == rows:\n",
    "            print(\"*\", end=\"\")\n",
    "        else:\n",
    "            print(\" \", end=\"\")\n",
    "    print()\n"
   ]
  },
  {
   "cell_type": "code",
   "execution_count": 48,
   "id": "ede86505-12db-44e9-a739-d9d31949a183",
   "metadata": {},
   "outputs": [],
   "source": [
    "#while"
   ]
  },
  {
   "cell_type": "code",
   "execution_count": 49,
   "id": "cd114c3f-324d-4305-a6bf-84eb1419297d",
   "metadata": {},
   "outputs": [
    {
     "name": "stdout",
     "output_type": "stream",
     "text": [
      "Hello 1\n",
      "Hello 2\n",
      "Hello 3\n",
      "Hello 4\n",
      "Hello 5\n"
     ]
    }
   ],
   "source": [
    "i = 1\n",
    "while i <= 5:\n",
    "    print(\"Hello\", i)\n",
    "    i += 1\n"
   ]
  },
  {
   "cell_type": "code",
   "execution_count": 50,
   "id": "0edde5ac-30ec-4415-b2ab-d8d49da0ff0b",
   "metadata": {},
   "outputs": [
    {
     "name": "stdout",
     "output_type": "stream",
     "text": [
      "1\n",
      "2\n",
      "3\n",
      "4\n",
      "5\n",
      "6\n",
      "7\n",
      "8\n",
      "9\n",
      "10\n"
     ]
    }
   ],
   "source": [
    "i = 1\n",
    "while i <= 10:\n",
    "    print(i)\n",
    "    i += 1\n"
   ]
  },
  {
   "cell_type": "code",
   "execution_count": 51,
   "id": "291406ab-a588-41c9-9dc0-c75f97fffcba",
   "metadata": {},
   "outputs": [
    {
     "name": "stdout",
     "output_type": "stream",
     "text": [
      "10\n",
      "9\n",
      "8\n",
      "7\n",
      "6\n",
      "5\n",
      "4\n",
      "3\n",
      "2\n",
      "1\n"
     ]
    }
   ],
   "source": [
    "i = 10\n",
    "while i >= 1:\n",
    "    print(i)\n",
    "    i -= 1\n"
   ]
  },
  {
   "cell_type": "code",
   "execution_count": 52,
   "id": "d4072c05-ef85-4562-b151-927a0aa48189",
   "metadata": {},
   "outputs": [
    {
     "name": "stdout",
     "output_type": "stream",
     "text": [
      "2\n",
      "4\n",
      "6\n",
      "8\n",
      "10\n",
      "12\n",
      "14\n",
      "16\n",
      "18\n",
      "20\n"
     ]
    }
   ],
   "source": [
    "i = 2\n",
    "while i <= 20:\n",
    "    print(i)\n",
    "    i += 2\n"
   ]
  },
  {
   "cell_type": "code",
   "execution_count": 54,
   "id": "3e004744-d295-459b-a74e-e7307d473b83",
   "metadata": {},
   "outputs": [
    {
     "name": "stdin",
     "output_type": "stream",
     "text": [
      "Enter password:  sdsdsd\n",
      "Enter password:  defe\n",
      "Enter password:  admin123\n"
     ]
    },
    {
     "name": "stdout",
     "output_type": "stream",
     "text": [
      "Login successful\n"
     ]
    }
   ],
   "source": [
    "password = \"\"\n",
    "while password != \"admin123\":\n",
    "    password = input(\"Enter password: \")\n",
    "print(\"Login successful\")\n"
   ]
  },
  {
   "cell_type": "code",
   "execution_count": 55,
   "id": "8e2b4097-cabe-45c1-96d6-ef612524fe21",
   "metadata": {},
   "outputs": [
    {
     "name": "stdout",
     "output_type": "stream",
     "text": [
      "1\n",
      "2\n"
     ]
    }
   ],
   "source": [
    "i = 1\n",
    "while i <= 5:\n",
    "    if i == 3:\n",
    "        break\n",
    "    print(i)\n",
    "    i += 1"
   ]
  },
  {
   "cell_type": "code",
   "execution_count": 56,
   "id": "06c75ff8-ebaf-4919-8ae3-bbd5672728c4",
   "metadata": {},
   "outputs": [
    {
     "name": "stdout",
     "output_type": "stream",
     "text": [
      "1\n",
      "2\n",
      "4\n",
      "5\n"
     ]
    }
   ],
   "source": [
    "i = 0\n",
    "while i < 5:\n",
    "    i += 1\n",
    "    if i == 3:\n",
    "        continue\n",
    "    print(i)"
   ]
  },
  {
   "cell_type": "code",
   "execution_count": 57,
   "id": "d2031e69-06c1-490c-87a0-4529934df95a",
   "metadata": {},
   "outputs": [
    {
     "name": "stdout",
     "output_type": "stream",
     "text": [
      "Running...\n"
     ]
    }
   ],
   "source": [
    "while True:\n",
    "    print(\"Running...\")\n",
    "    break  # Use Ctrl+C if not breaking"
   ]
  },
  {
   "cell_type": "code",
   "execution_count": 58,
   "id": "54f593a6-1934-4250-a499-c4fe841e0844",
   "metadata": {},
   "outputs": [
    {
     "name": "stdin",
     "output_type": "stream",
     "text": [
      "Enter a number:  25\n"
     ]
    },
    {
     "name": "stdout",
     "output_type": "stream",
     "text": [
      "Sum = 325\n"
     ]
    }
   ],
   "source": [
    "n = int(input(\"Enter a number: \"))\n",
    "i = 1\n",
    "total = 0\n",
    "while i <= n:\n",
    "    total += i\n",
    "    i += 1\n",
    "print(\"Sum =\", total)"
   ]
  },
  {
   "cell_type": "code",
   "execution_count": 59,
   "id": "af584fa9-722d-427f-a219-847908b0a82c",
   "metadata": {},
   "outputs": [
    {
     "name": "stdout",
     "output_type": "stream",
     "text": [
      "*\n",
      "**\n",
      "***\n",
      "****\n",
      "*****\n"
     ]
    }
   ],
   "source": [
    "i = 1\n",
    "while i <= 5:\n",
    "    print(\"*\" * i)\n",
    "    i += 1\n"
   ]
  },
  {
   "cell_type": "code",
   "execution_count": 60,
   "id": "b93f04f2-2ddc-4812-9eca-9732912f7f01",
   "metadata": {},
   "outputs": [
    {
     "name": "stdout",
     "output_type": "stream",
     "text": [
      "    *\n",
      "   **\n",
      "  ***\n",
      " ****\n",
      "*****\n"
     ]
    }
   ],
   "source": [
    "i = 1\n",
    "rows = 5\n",
    "while i <= rows:\n",
    "    print(\" \" * (rows - i) + \"*\" * i)\n",
    "    i += 1\n"
   ]
  },
  {
   "cell_type": "code",
   "execution_count": 61,
   "id": "54f1dc56-561f-49a7-8e69-f0e0f14261e1",
   "metadata": {},
   "outputs": [
    {
     "name": "stdout",
     "output_type": "stream",
     "text": [
      "*********\n",
      " *******\n",
      "  *****\n",
      "   ***\n",
      "    *\n"
     ]
    }
   ],
   "source": [
    "i = 5\n",
    "while i >= 1:\n",
    "    print(\" \" * (5 - i) + \"*\" * (2 * i - 1))\n",
    "    i -= 1\n"
   ]
  },
  {
   "cell_type": "code",
   "execution_count": null,
   "id": "e8dedd68-aa90-4c4a-ab93-e4fa1c15f97d",
   "metadata": {},
   "outputs": [],
   "source": []
  }
 ],
 "metadata": {
  "kernelspec": {
   "display_name": "Python 3 (ipykernel)",
   "language": "python",
   "name": "python3"
  },
  "language_info": {
   "codemirror_mode": {
    "name": "ipython",
    "version": 3
   },
   "file_extension": ".py",
   "mimetype": "text/x-python",
   "name": "python",
   "nbconvert_exporter": "python",
   "pygments_lexer": "ipython3",
   "version": "3.12.7"
  }
 },
 "nbformat": 4,
 "nbformat_minor": 5
}
