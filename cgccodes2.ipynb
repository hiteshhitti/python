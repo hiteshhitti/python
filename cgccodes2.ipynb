{
 "cells": [
  {
   "cell_type": "code",
   "execution_count": 1,
   "id": "de4b15ab-5699-4011-a802-a2aa6a2baeee",
   "metadata": {},
   "outputs": [
    {
     "name": "stdout",
     "output_type": "stream",
     "text": [
      "0\n",
      "1\n",
      "2\n",
      "3\n",
      "4\n",
      "5\n",
      "6\n",
      "7\n",
      "8\n",
      "9\n"
     ]
    }
   ],
   "source": [
    "for i in range(10):\n",
    "    print(i)"
   ]
  },
  {
   "cell_type": "code",
   "execution_count": 2,
   "id": "80223928-d9ba-4997-9985-c36f1409672d",
   "metadata": {},
   "outputs": [
    {
     "name": "stdout",
     "output_type": "stream",
     "text": [
      "2\n",
      "3\n",
      "4\n",
      "5\n",
      "6\n",
      "7\n",
      "8\n",
      "9\n",
      "10\n"
     ]
    }
   ],
   "source": [
    "for i in range (2, 11):\n",
    "    print(i)"
   ]
  },
  {
   "cell_type": "code",
   "execution_count": 3,
   "id": "9a22ef11-f0e0-441a-8191-c0f3b7b8d917",
   "metadata": {},
   "outputs": [
    {
     "name": "stdout",
     "output_type": "stream",
     "text": [
      "0\n",
      "2\n",
      "4\n",
      "6\n",
      "8\n",
      "10\n",
      "12\n",
      "14\n",
      "16\n",
      "18\n"
     ]
    }
   ],
   "source": [
    "for i in range (0, 20, 2):\n",
    "    print(i)"
   ]
  },
  {
   "cell_type": "code",
   "execution_count": 4,
   "id": "32e396b2-1b71-4b39-9f50-524b1fdd0d45",
   "metadata": {},
   "outputs": [
    {
     "name": "stdout",
     "output_type": "stream",
     "text": [
      "10\n",
      "9\n",
      "8\n",
      "7\n",
      "6\n",
      "5\n",
      "4\n",
      "3\n",
      "2\n",
      "1\n"
     ]
    }
   ],
   "source": [
    "for i in range (10, 0, -1):\n",
    "    print(i)"
   ]
  },
  {
   "cell_type": "code",
   "execution_count": 5,
   "id": "3f2d830c-0c39-4eac-8f24-a3e156368355",
   "metadata": {},
   "outputs": [
    {
     "name": "stdout",
     "output_type": "stream",
     "text": [
      "2 X 1 = 2\n",
      "2 X 2 = 4\n",
      "2 X 3 = 6\n",
      "2 X 4 = 8\n",
      "2 X 5 = 10\n",
      "2 X 6 = 12\n",
      "2 X 7 = 14\n",
      "2 X 8 = 16\n",
      "2 X 9 = 18\n",
      "2 X 10 = 20\n"
     ]
    }
   ],
   "source": [
    "for i in range (1,11):\n",
    "    print(2,'X',i, '=', (i*2))"
   ]
  },
  {
   "cell_type": "code",
   "execution_count": 6,
   "id": "e7cf2e3a-1b7b-4afb-b6e5-5dd0ec805957",
   "metadata": {},
   "outputs": [
    {
     "name": "stdout",
     "output_type": "stream",
     "text": [
      "even  2\n",
      "even  4\n",
      "even  6\n",
      "even  8\n",
      "even  10\n",
      "even  12\n",
      "even  14\n",
      "even  16\n",
      "even  18\n"
     ]
    }
   ],
   "source": [
    "for i in range (1,20):\n",
    "    if i % 2 == 0:\n",
    "        print('even ', i)"
   ]
  },
  {
   "cell_type": "code",
   "execution_count": 7,
   "id": "51a947fa-22d4-492c-80f0-0f5fc5097e7c",
   "metadata": {},
   "outputs": [
    {
     "name": "stdout",
     "output_type": "stream",
     "text": [
      "p\n",
      "y\n",
      "t\n",
      "h\n",
      "o\n",
      "n\n"
     ]
    }
   ],
   "source": [
    "word = 'python'\n",
    "for i in word:\n",
    "    print(i)"
   ]
  },
  {
   "cell_type": "code",
   "execution_count": 8,
   "id": "25a046bc-ee16-4384-8d64-8e9789b73b40",
   "metadata": {},
   "outputs": [],
   "source": [
    "list1=['apple', 'banana', 'cherry', 'berry']"
   ]
  },
  {
   "cell_type": "code",
   "execution_count": 9,
   "id": "d0d5fd84-1d2c-42df-ac94-099199d06c25",
   "metadata": {},
   "outputs": [
    {
     "name": "stdout",
     "output_type": "stream",
     "text": [
      "apple\n",
      "banana\n",
      "cherry\n",
      "berry\n"
     ]
    }
   ],
   "source": [
    "for i in list1:\n",
    "    print(i)"
   ]
  },
  {
   "cell_type": "code",
   "execution_count": 10,
   "id": "085b5fe8-6d56-4c26-8e31-fc2a7985bdc9",
   "metadata": {},
   "outputs": [
    {
     "name": "stdout",
     "output_type": "stream",
     "text": [
      "1\n",
      "2\n",
      "3\n",
      "4\n",
      "5\n",
      "6\n",
      "7\n",
      "8\n",
      "9\n",
      "10\n",
      "11\n",
      "12\n"
     ]
    }
   ],
   "source": [
    "for i in range (1,200):\n",
    "    if i % 13 == 0:\n",
    "        break\n",
    "    print(i)"
   ]
  },
  {
   "cell_type": "code",
   "execution_count": 11,
   "id": "2718dd5f-9244-4621-bb1e-271c8e1f9876",
   "metadata": {},
   "outputs": [
    {
     "name": "stdout",
     "output_type": "stream",
     "text": [
      "0\n",
      "2\n",
      "4\n",
      "6\n",
      "8\n",
      "10\n",
      "12\n",
      "14\n",
      "16\n",
      "18\n"
     ]
    }
   ],
   "source": [
    "for i in range(0,20):\n",
    "    if i % 2==1:\n",
    "        continue\n",
    "    print(i)"
   ]
  },
  {
   "cell_type": "code",
   "execution_count": 12,
   "id": "ea0c5b60-82a0-44eb-9f94-804a1c96f9ac",
   "metadata": {},
   "outputs": [
    {
     "name": "stdout",
     "output_type": "stream",
     "text": [
      "\n",
      "*\n",
      "**\n",
      "***\n",
      "****\n",
      "*****\n",
      "******\n",
      "*******\n",
      "********\n",
      "*********\n",
      "**********\n",
      "***********\n",
      "************\n",
      "*************\n",
      "**************\n",
      "***************\n",
      "****************\n",
      "*****************\n",
      "******************\n",
      "*******************\n",
      "********************\n",
      "*******************\n",
      "******************\n",
      "*****************\n",
      "****************\n",
      "***************\n",
      "**************\n",
      "*************\n",
      "************\n",
      "***********\n",
      "**********\n",
      "*********\n",
      "********\n",
      "*******\n",
      "******\n",
      "*****\n",
      "****\n",
      "***\n",
      "**\n",
      "*\n"
     ]
    }
   ],
   "source": [
    "for i in range(20):\n",
    "    print('*'*i)\n",
    "for i in range(20,0,-1):\n",
    "    print('*'* i)"
   ]
  },
  {
   "cell_type": "code",
   "execution_count": 13,
   "id": "71e231f3-8b62-4232-a560-4e0fcf868344",
   "metadata": {},
   "outputs": [
    {
     "name": "stdout",
     "output_type": "stream",
     "text": [
      "                   *\n",
      "                  **\n",
      "                 ***\n",
      "                ****\n",
      "               *****\n",
      "              ******\n",
      "             *******\n",
      "            ********\n",
      "           *********\n",
      "          **********\n",
      "         ***********\n",
      "        ************\n",
      "       *************\n",
      "      **************\n",
      "     ***************\n",
      "    ****************\n",
      "   *****************\n",
      "  ******************\n",
      " *******************\n"
     ]
    }
   ],
   "source": [
    "rows=20\n",
    "for i in range (1,rows):\n",
    "    print(' ' *(rows-i)+'*'*i )"
   ]
  },
  {
   "cell_type": "code",
   "execution_count": 14,
   "id": "2ddb61d5-9c12-41bc-8cb3-a4780b8f5a76",
   "metadata": {},
   "outputs": [
    {
     "name": "stdout",
     "output_type": "stream",
     "text": [
      "********************\n",
      " *******************\n",
      "  ******************\n",
      "   *****************\n",
      "    ****************\n",
      "     ***************\n",
      "      **************\n",
      "       *************\n",
      "        ************\n",
      "         ***********\n",
      "          **********\n",
      "           *********\n",
      "            ********\n",
      "             *******\n",
      "              ******\n",
      "               *****\n",
      "                ****\n",
      "                 ***\n",
      "                  **\n",
      "                   *\n"
     ]
    }
   ],
   "source": [
    "rows=20\n",
    "for i in range (rows,0,-1):\n",
    "    print(' ' *(rows-i)+'*'*i )"
   ]
  },
  {
   "cell_type": "code",
   "execution_count": 15,
   "id": "8e710bbb-8cad-4c97-80b2-16b08531527b",
   "metadata": {},
   "outputs": [
    {
     "name": "stdout",
     "output_type": "stream",
     "text": [
      "                   *\n",
      "                  ***\n",
      "                 *****\n",
      "                *******\n",
      "               *********\n",
      "              ***********\n",
      "             *************\n",
      "            ***************\n",
      "           *****************\n",
      "          *******************\n",
      "         *********************\n",
      "        ***********************\n",
      "       *************************\n",
      "      ***************************\n",
      "     *****************************\n",
      "    *******************************\n",
      "   *********************************\n",
      "  ***********************************\n",
      " *************************************\n",
      "***************************************\n"
     ]
    }
   ],
   "source": [
    "rows = 20\n",
    "for i in range(1, rows + 1):\n",
    "    print(\" \" * (rows - i) + \"*\" * (2 * i - 1))"
   ]
  },
  {
   "cell_type": "code",
   "execution_count": 16,
   "id": "9028059d-f1e0-47e3-ba6d-deeabf1a1948",
   "metadata": {},
   "outputs": [
    {
     "name": "stdout",
     "output_type": "stream",
     "text": [
      "*****************************\n",
      " ***************************\n",
      "  *************************\n",
      "   ***********************\n",
      "    *********************\n",
      "     *******************\n",
      "      *****************\n",
      "       ***************\n",
      "        *************\n",
      "         ***********\n",
      "          *********\n",
      "           *******\n",
      "            *****\n",
      "             ***\n",
      "              *\n"
     ]
    }
   ],
   "source": [
    "rows = 15\n",
    "for i in range(rows,0 ,- 1):\n",
    "    print(\" \" * (rows - i) + \"*\" * (2 * i - 1))"
   ]
  },
  {
   "cell_type": "code",
   "execution_count": 17,
   "id": "77306fdb-01e9-4185-a1ce-1edbbf1f8090",
   "metadata": {},
   "outputs": [
    {
     "name": "stdout",
     "output_type": "stream",
     "text": [
      "                   *\n",
      "                  ***\n",
      "                 *****\n",
      "                *******\n",
      "               *********\n",
      "              ***********\n",
      "             *************\n",
      "            ***************\n",
      "           *****************\n",
      "          *******************\n",
      "         *********************\n",
      "        ***********************\n",
      "       *************************\n",
      "      ***************************\n",
      "     *****************************\n",
      "    *******************************\n",
      "   *********************************\n",
      "  ***********************************\n",
      " *************************************\n",
      "***************************************\n",
      "***************************************\n",
      " *************************************\n",
      "  ***********************************\n",
      "   *********************************\n",
      "    *******************************\n",
      "     *****************************\n",
      "      ***************************\n",
      "       *************************\n",
      "        ***********************\n",
      "         *********************\n",
      "          *******************\n",
      "           *****************\n",
      "            ***************\n",
      "             *************\n",
      "              ***********\n",
      "               *********\n",
      "                *******\n",
      "                 *****\n",
      "                  ***\n",
      "                   *\n"
     ]
    }
   ],
   "source": [
    "rows = 20\n",
    "for i in range(1, rows + 1):\n",
    "    print(\" \" * (rows - i) + \"*\" * (2 * i - 1))\n",
    "for i in range(rows,0 ,- 1):\n",
    "    print(\" \" * (rows - i) + \"*\" * (2 * i - 1))"
   ]
  },
  {
   "cell_type": "code",
   "execution_count": 18,
   "id": "a7107d0a-cf0d-4859-aae1-1d6db762f19f",
   "metadata": {},
   "outputs": [
    {
     "name": "stdout",
     "output_type": "stream",
     "text": [
      "1\n",
      "22\n",
      "333\n",
      "4444\n",
      "55555\n",
      "666666\n",
      "7777777\n",
      "88888888\n",
      "999999999\n"
     ]
    }
   ],
   "source": [
    "rows = 9\n",
    "for i in range(1, rows + 1):\n",
    "    print(str(i) * i)"
   ]
  },
  {
   "cell_type": "code",
   "execution_count": 19,
   "id": "e27c1814-328f-4b33-a3ec-81673bab755a",
   "metadata": {},
   "outputs": [
    {
     "name": "stdout",
     "output_type": "stream",
     "text": [
      "********************\n",
      "*                  *\n",
      "*                  *\n",
      "*                  *\n",
      "*                  *\n",
      "*                  *\n",
      "*                  *\n",
      "*                  *\n",
      "*                  *\n",
      "*                  *\n",
      "*                  *\n",
      "*                  *\n",
      "*                  *\n",
      "*                  *\n",
      "*                  *\n",
      "*                  *\n",
      "*                  *\n",
      "*                  *\n",
      "*                  *\n",
      "********************\n"
     ]
    }
   ],
   "source": [
    "n = 20\n",
    "for i in range(n):\n",
    "    for j in range(n):\n",
    "        if i == 0 or i == n - 1 or j == 0 or j == n - 1:\n",
    "            print(\"*\", end=\"\")\n",
    "        else:\n",
    "            print(\" \", end=\"\")\n",
    "    print()"
   ]
  },
  {
   "cell_type": "code",
   "execution_count": 20,
   "id": "2e0e9f34-e060-41c3-bfd5-3cdb13ac8d21",
   "metadata": {},
   "outputs": [
    {
     "name": "stdout",
     "output_type": "stream",
     "text": [
      "*\n",
      "**\n",
      "* *\n",
      "*  *\n",
      "*   *\n",
      "*    *\n",
      "*     *\n",
      "*      *\n",
      "*       *\n",
      "*        *\n",
      "*         *\n",
      "*          *\n",
      "*           *\n",
      "*            *\n",
      "*             *\n",
      "*              *\n",
      "*               *\n",
      "*                *\n",
      "*                 *\n",
      "********************\n"
     ]
    }
   ],
   "source": [
    "rows = 20\n",
    "for i in range(1, rows + 1):\n",
    "    for j in range(1, i + 1):\n",
    "        if j == 1 or j == i or i == rows:\n",
    "            print(\"*\", end=\"\")\n",
    "        else:\n",
    "            print(\" \", end=\"\")\n",
    "    print()\n"
   ]
  },
  {
   "cell_type": "code",
   "execution_count": 21,
   "id": "ede86505-12db-44e9-a739-d9d31949a183",
   "metadata": {},
   "outputs": [],
   "source": [
    "#while"
   ]
  },
  {
   "cell_type": "code",
   "execution_count": 22,
   "id": "cd114c3f-324d-4305-a6bf-84eb1419297d",
   "metadata": {},
   "outputs": [
    {
     "name": "stdout",
     "output_type": "stream",
     "text": [
      "Hello 1\n",
      "Hello 2\n",
      "Hello 3\n",
      "Hello 4\n",
      "Hello 5\n"
     ]
    }
   ],
   "source": [
    "i = 1\n",
    "while i <= 5:\n",
    "    print(\"Hello\", i)\n",
    "    i += 1\n"
   ]
  },
  {
   "cell_type": "code",
   "execution_count": 23,
   "id": "0edde5ac-30ec-4415-b2ab-d8d49da0ff0b",
   "metadata": {},
   "outputs": [
    {
     "name": "stdout",
     "output_type": "stream",
     "text": [
      "1\n",
      "2\n",
      "3\n",
      "4\n",
      "5\n",
      "6\n",
      "7\n",
      "8\n",
      "9\n",
      "10\n"
     ]
    }
   ],
   "source": [
    "i = 1\n",
    "while i <= 10:\n",
    "    print(i)\n",
    "    i += 1\n"
   ]
  },
  {
   "cell_type": "code",
   "execution_count": 24,
   "id": "291406ab-a588-41c9-9dc0-c75f97fffcba",
   "metadata": {},
   "outputs": [
    {
     "name": "stdout",
     "output_type": "stream",
     "text": [
      "10\n",
      "9\n",
      "8\n",
      "7\n",
      "6\n",
      "5\n",
      "4\n",
      "3\n",
      "2\n",
      "1\n"
     ]
    }
   ],
   "source": [
    "i = 10\n",
    "while i >= 1:\n",
    "    print(i)\n",
    "    i -= 1\n"
   ]
  },
  {
   "cell_type": "code",
   "execution_count": 25,
   "id": "d4072c05-ef85-4562-b151-927a0aa48189",
   "metadata": {},
   "outputs": [
    {
     "name": "stdout",
     "output_type": "stream",
     "text": [
      "2\n",
      "4\n",
      "6\n",
      "8\n",
      "10\n",
      "12\n",
      "14\n",
      "16\n",
      "18\n",
      "20\n"
     ]
    }
   ],
   "source": [
    "i = 2\n",
    "while i <= 20:\n",
    "    print(i)\n",
    "    i += 2\n"
   ]
  },
  {
   "cell_type": "markdown",
   "id": "d15e54ab-3b37-4162-9283-8b459a4b32bb",
   "metadata": {},
   "source": [
    "##### password = \"\"\n",
    "while password != \"admin123\":\n",
    "    password = input(\"Enter password: \")\n",
    "print(\"Login successful\")\n"
   ]
  },
  {
   "cell_type": "code",
   "execution_count": 27,
   "id": "8e2b4097-cabe-45c1-96d6-ef612524fe21",
   "metadata": {},
   "outputs": [
    {
     "name": "stdout",
     "output_type": "stream",
     "text": [
      "1\n",
      "2\n"
     ]
    }
   ],
   "source": [
    "i = 1\n",
    "while i <= 5:\n",
    "    if i == 3:\n",
    "        break\n",
    "    print(i)\n",
    "    i += 1"
   ]
  },
  {
   "cell_type": "code",
   "execution_count": 28,
   "id": "06c75ff8-ebaf-4919-8ae3-bbd5672728c4",
   "metadata": {},
   "outputs": [
    {
     "name": "stdout",
     "output_type": "stream",
     "text": [
      "1\n",
      "2\n",
      "4\n",
      "5\n"
     ]
    }
   ],
   "source": [
    "i = 0\n",
    "while i < 5:\n",
    "    i += 1\n",
    "    if i == 3:\n",
    "        continue\n",
    "    print(i)"
   ]
  },
  {
   "cell_type": "code",
   "execution_count": 29,
   "id": "d2031e69-06c1-490c-87a0-4529934df95a",
   "metadata": {},
   "outputs": [
    {
     "name": "stdout",
     "output_type": "stream",
     "text": [
      "Running...\n"
     ]
    }
   ],
   "source": [
    "while True:\n",
    "    print(\"Running...\")\n",
    "    break  # Use Ctrl+C if not breaking"
   ]
  },
  {
   "cell_type": "code",
   "execution_count": 30,
   "id": "54f593a6-1934-4250-a499-c4fe841e0844",
   "metadata": {},
   "outputs": [
    {
     "name": "stdin",
     "output_type": "stream",
     "text": [
      "Enter a number:  25\n"
     ]
    },
    {
     "name": "stdout",
     "output_type": "stream",
     "text": [
      "Sum = 325\n"
     ]
    }
   ],
   "source": [
    "n = int(input(\"Enter a number: \"))\n",
    "i = 1\n",
    "total = 0\n",
    "while i <= n:\n",
    "    total += i\n",
    "    i += 1\n",
    "print(\"Sum =\", total)"
   ]
  },
  {
   "cell_type": "code",
   "execution_count": 31,
   "id": "af584fa9-722d-427f-a219-847908b0a82c",
   "metadata": {},
   "outputs": [
    {
     "name": "stdout",
     "output_type": "stream",
     "text": [
      "*\n",
      "**\n",
      "***\n",
      "****\n",
      "*****\n"
     ]
    }
   ],
   "source": [
    "i = 1\n",
    "while i <= 5:\n",
    "    print(\"*\" * i)\n",
    "    i += 1\n"
   ]
  },
  {
   "cell_type": "code",
   "execution_count": 32,
   "id": "b93f04f2-2ddc-4812-9eca-9732912f7f01",
   "metadata": {},
   "outputs": [
    {
     "name": "stdout",
     "output_type": "stream",
     "text": [
      "    *\n",
      "   **\n",
      "  ***\n",
      " ****\n",
      "*****\n"
     ]
    }
   ],
   "source": [
    "i = 1\n",
    "rows = 5\n",
    "while i <= rows:\n",
    "    print(\" \" * (rows - i) + \"*\" * i)\n",
    "    i += 1\n"
   ]
  },
  {
   "cell_type": "code",
   "execution_count": 33,
   "id": "54f1dc56-561f-49a7-8e69-f0e0f14261e1",
   "metadata": {},
   "outputs": [
    {
     "name": "stdout",
     "output_type": "stream",
     "text": [
      "*********\n",
      " *******\n",
      "  *****\n",
      "   ***\n",
      "    *\n"
     ]
    }
   ],
   "source": [
    "i = 5\n",
    "while i >= 1:\n",
    "    print(\" \" * (5 - i) + \"*\" * (2 * i - 1))\n",
    "    i -= 1\n"
   ]
  },
  {
   "cell_type": "code",
   "execution_count": 34,
   "id": "e8dedd68-aa90-4c4a-ab93-e4fa1c15f97d",
   "metadata": {},
   "outputs": [
    {
     "name": "stdin",
     "output_type": "stream",
     "text": [
      "Enter number:  25\n"
     ]
    },
    {
     "name": "stdout",
     "output_type": "stream",
     "text": [
      "Not Prime\n"
     ]
    }
   ],
   "source": [
    "num = int(input(\"Enter number: \"))\n",
    "if num < 2:\n",
    "    print(\"Not Prime\")\n",
    "else:\n",
    "    for i in range(2, num):\n",
    "        if num % i == 0:\n",
    "            print(\"Not Prime\")\n",
    "            break\n",
    "    else:\n",
    "        print(\"Prime\")"
   ]
  },
  {
   "cell_type": "code",
   "execution_count": 35,
   "id": "ed384564-3063-42ad-8587-c6156128906b",
   "metadata": {},
   "outputs": [
    {
     "name": "stdin",
     "output_type": "stream",
     "text": [
      "Enter text:  25\n"
     ]
    },
    {
     "name": "stdout",
     "output_type": "stream",
     "text": [
      "Not Palindrome\n"
     ]
    }
   ],
   "source": [
    "text = input(\"Enter text: \")\n",
    "rev = \"\"\n",
    "for ch in text:\n",
    "    rev = ch + rev\n",
    "\n",
    "if text == rev:\n",
    "    print(\"Palindrome\")\n",
    "else:\n",
    "    print(\"Not Palindrome\")\n"
   ]
  },
  {
   "cell_type": "code",
   "execution_count": 36,
   "id": "a3c67506-d68a-4369-9f66-b738bd943c75",
   "metadata": {},
   "outputs": [
    {
     "name": "stdin",
     "output_type": "stream",
     "text": [
      "Enter a word:  hhh\n"
     ]
    },
    {
     "name": "stdout",
     "output_type": "stream",
     "text": [
      "Vowels: 0\n",
      "Consonants: 3\n"
     ]
    }
   ],
   "source": [
    "word = input(\"Enter a word: \").lower()\n",
    "vowels = \"aeiou\"\n",
    "vc = cc = 0\n",
    "\n",
    "for ch in word:\n",
    "    if ch.isalpha():\n",
    "        if ch in vowels:\n",
    "            vc += 1\n",
    "        else:\n",
    "            cc += 1\n",
    "\n",
    "print(\"Vowels:\", vc)\n",
    "print(\"Consonants:\", cc)\n"
   ]
  },
  {
   "cell_type": "code",
   "execution_count": 37,
   "id": "beb7b861-9741-444d-a1c8-47111040e673",
   "metadata": {},
   "outputs": [
    {
     "name": "stdin",
     "output_type": "stream",
     "text": [
      "Enter number of terms:  5\n"
     ]
    },
    {
     "name": "stdout",
     "output_type": "stream",
     "text": [
      "0 1 1 2 3 "
     ]
    }
   ],
   "source": [
    "n = int(input(\"Enter number of terms: \"))\n",
    "a, b = 0, 1\n",
    "print(a, b, end=\" \")\n",
    "\n",
    "for i in range(2, n):\n",
    "    c = a + b\n",
    "    print(c, end=\" \")\n",
    "    a, b = b, c"
   ]
  },
  {
   "cell_type": "code",
   "execution_count": 38,
   "id": "7fbcdbe7-a07e-42a8-a050-8a92096f4ece",
   "metadata": {},
   "outputs": [
    {
     "name": "stdout",
     "output_type": "stream",
     "text": [
      "1. Even/Odd\n",
      "2. Prime Check\n"
     ]
    },
    {
     "name": "stdin",
     "output_type": "stream",
     "text": [
      "Enter your choice:  1\n",
      "Enter number:  5\n"
     ]
    },
    {
     "name": "stdout",
     "output_type": "stream",
     "text": [
      "Odd\n"
     ]
    }
   ],
   "source": [
    "print(\"1. Even/Odd\")\n",
    "print(\"2. Prime Check\")\n",
    "choice = int(input(\"Enter your choice: \"))\n",
    "\n",
    "num = int(input(\"Enter number: \"))\n",
    "\n",
    "if choice == 1:\n",
    "    if num % 2 == 0:\n",
    "        print(\"Even\")\n",
    "    else:\n",
    "        print(\"Odd\")\n",
    "elif choice == 2:\n",
    "    if num < 2:\n",
    "        print(\"Not Prime\")\n",
    "    else:\n",
    "        for i in range(2, num):\n",
    "            if num % i == 0:\n",
    "                print(\"Not Prime\")\n",
    "                break\n",
    "        else:\n",
    "            print(\"Prime\")\n",
    "else:\n",
    "    print(\"Invalid Choice\")\n"
   ]
  },
  {
   "cell_type": "code",
   "execution_count": 39,
   "id": "bb43a569-5567-4b37-94e8-eeb578f558fc",
   "metadata": {},
   "outputs": [
    {
     "name": "stdin",
     "output_type": "stream",
     "text": [
      " kkk\n"
     ]
    }
   ],
   "source": [
    "text=input()\n",
    "for ch in text:\n",
    "    if ch in 'aeiou':\n",
    "        print(ch)"
   ]
  },
  {
   "cell_type": "code",
   "execution_count": 40,
   "id": "ecd66cb3-9ee7-4f88-84e3-cc4c25e0d61f",
   "metadata": {},
   "outputs": [
    {
     "name": "stdin",
     "output_type": "stream",
     "text": [
      " 5\n",
      " 9\n"
     ]
    },
    {
     "name": "stdout",
     "output_type": "stream",
     "text": [
      "5\n",
      "7\n"
     ]
    }
   ],
   "source": [
    "int1=int(input())\n",
    "int2=int(input())\n",
    "for num in range (int1, int2, 1):\n",
    "    if num>1:\n",
    "        for i in range (2, num):\n",
    "            if num%i==0:\n",
    "                break\n",
    "        else:\n",
    "               print(num)"
   ]
  },
  {
   "cell_type": "code",
   "execution_count": 1,
   "id": "e4d57aad-1b52-43aa-9591-e2c5d9d55c44",
   "metadata": {},
   "outputs": [
    {
     "name": "stdout",
     "output_type": "stream",
     "text": [
      "\n",
      "------ Calculator Menu ------\n",
      "1. Add\n",
      "2. Subtract\n",
      "3. Multiply\n",
      "4. Divide\n",
      "5. Exit\n"
     ]
    },
    {
     "name": "stdin",
     "output_type": "stream",
     "text": [
      "Enter your choice (1-5):  4\n",
      "Enter first number:  5\n",
      "Enter second number:  2\n"
     ]
    },
    {
     "name": "stdout",
     "output_type": "stream",
     "text": [
      "Result: 2.5\n",
      "\n",
      "------ Calculator Menu ------\n",
      "1. Add\n",
      "2. Subtract\n",
      "3. Multiply\n",
      "4. Divide\n",
      "5. Exit\n"
     ]
    },
    {
     "name": "stdin",
     "output_type": "stream",
     "text": [
      "Enter your choice (1-5):  5\n"
     ]
    },
    {
     "name": "stdout",
     "output_type": "stream",
     "text": [
      "Exiting calculator. Goodbye!\n"
     ]
    }
   ],
   "source": [
    "while True:\n",
    "    print(\"\\n------ Calculator Menu ------\")\n",
    "    print(\"1. Add\")\n",
    "    print(\"2. Subtract\")\n",
    "    print(\"3. Multiply\")\n",
    "    print(\"4. Divide\")\n",
    "    print(\"5. Exit\")\n",
    "\n",
    "    choice = input(\"Enter your choice (1-5): \")\n",
    "\n",
    "    if choice == '5':\n",
    "        print(\"Exiting calculator. Goodbye!\")\n",
    "        break\n",
    "\n",
    "    if choice not in ['1', '2', '3', '4']:\n",
    "        print(\"Invalid choice. Try again.\")\n",
    "        continue\n",
    "\n",
    "    num1 = float(input(\"Enter first number: \"))\n",
    "    num2 = float(input(\"Enter second number: \"))\n",
    "\n",
    "    if choice == '1':\n",
    "        print(\"Result:\", num1 + num2)\n",
    "    elif choice == '2':\n",
    "        print(\"Result:\", num1 - num2)\n",
    "    elif choice == '3':\n",
    "        print(\"Result:\", num1 * num2)\n",
    "    elif choice == '4':\n",
    "        if num2 != 0:\n",
    "            print(\"Result:\", num1 / num2)\n",
    "        else:\n",
    "            print(\"Error: Division by zero!\")\n"
   ]
  },
  {
   "cell_type": "code",
   "execution_count": 5,
   "id": "a14a19de-897b-4c6d-a9ff-c8c0acea2671",
   "metadata": {},
   "outputs": [
    {
     "name": "stdin",
     "output_type": "stream",
     "text": [
      "Enter a number:  55\n"
     ]
    },
    {
     "name": "stdout",
     "output_type": "stream",
     "text": [
      "Sum of digits: 10\n"
     ]
    }
   ],
   "source": [
    "num = int(input(\"Enter a number: \"))\n",
    "sum = 0\n",
    "while num > 0:\n",
    "    digit = num % 10\n",
    "    sum += digit\n",
    "    num = num // 10\n",
    "print(\"Sum of digits:\", sum)"
   ]
  },
  {
   "cell_type": "code",
   "execution_count": 23,
   "id": "d149241d-4a7a-4ab2-889d-d7a4271d8bdf",
   "metadata": {},
   "outputs": [
    {
     "name": "stdin",
     "output_type": "stream",
     "text": [
      "Guess the number:  h\n"
     ]
    },
    {
     "name": "stdout",
     "output_type": "stream",
     "text": [
      "enter number\n"
     ]
    },
    {
     "name": "stdin",
     "output_type": "stream",
     "text": [
      "Guess the number:  .\n"
     ]
    },
    {
     "name": "stdout",
     "output_type": "stream",
     "text": [
      "enter number\n"
     ]
    },
    {
     "name": "stdin",
     "output_type": "stream",
     "text": [
      "Guess the number:  3\n"
     ]
    },
    {
     "name": "stdout",
     "output_type": "stream",
     "text": [
      "Correct! You guessed it.\n"
     ]
    }
   ],
   "source": [
    "import random\n",
    "target = random.randint(1, 6)\n",
    "while True:\n",
    "\n",
    "    guess = input(\"Guess the number: \")\n",
    "    if not guess.isdigit():\n",
    "        print('enter number')\n",
    "        continue\n",
    "    else:\n",
    "        guess=int(guess)\n",
    "    if guess == target:\n",
    "        print(\"Correct! You guessed it.\")\n",
    "        break\n",
    "    elif guess < target:\n",
    "        print(\"Too low!\", target)\n",
    "    else:\n",
    "        print(\"Too high!\", target)\n",
    "\n",
    "    choice=input('want to guess again')\n",
    "    if choice == 'y':\n",
    "        continue\n",
    "    else:\n",
    "        break\n"
   ]
  },
  {
   "cell_type": "code",
   "execution_count": null,
   "id": "f32ea262-067f-4e57-a548-9a0119ea9de8",
   "metadata": {},
   "outputs": [],
   "source": []
  }
 ],
 "metadata": {
  "kernelspec": {
   "display_name": "Python 3 (ipykernel)",
   "language": "python",
   "name": "python3"
  },
  "language_info": {
   "codemirror_mode": {
    "name": "ipython",
    "version": 3
   },
   "file_extension": ".py",
   "mimetype": "text/x-python",
   "name": "python",
   "nbconvert_exporter": "python",
   "pygments_lexer": "ipython3",
   "version": "3.12.7"
  }
 },
 "nbformat": 4,
 "nbformat_minor": 5
}
