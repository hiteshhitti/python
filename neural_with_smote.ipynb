{
 "cells": [
  {
   "cell_type": "code",
   "execution_count": 3,
   "id": "962b4c5b-7607-49b8-913b-3a6c41a9e551",
   "metadata": {},
   "outputs": [
    {
     "name": "stderr",
     "output_type": "stream",
     "text": [
      "D:\\python\\Lib\\site-packages\\joblib\\externals\\loky\\backend\\context.py:136: UserWarning: Could not find the number of physical cores for the following reason:\n",
      "[WinError 2] The system cannot find the file specified\n",
      "Returning the number of logical cores instead. You can silence this warning by setting LOKY_MAX_CPU_COUNT to the number of cores you want to use.\n",
      "  warnings.warn(\n",
      "  File \"D:\\python\\Lib\\site-packages\\joblib\\externals\\loky\\backend\\context.py\", line 257, in _count_physical_cores\n",
      "    cpu_info = subprocess.run(\n",
      "               ^^^^^^^^^^^^^^^\n",
      "  File \"D:\\python\\Lib\\subprocess.py\", line 548, in run\n",
      "    with Popen(*popenargs, **kwargs) as process:\n",
      "         ^^^^^^^^^^^^^^^^^^^^^^^^^^^\n",
      "  File \"D:\\python\\Lib\\subprocess.py\", line 1026, in __init__\n",
      "    self._execute_child(args, executable, preexec_fn, close_fds,\n",
      "  File \"D:\\python\\Lib\\subprocess.py\", line 1538, in _execute_child\n",
      "    hp, ht, pid, tid = _winapi.CreateProcess(executable, args,\n",
      "                       ^^^^^^^^^^^^^^^^^^^^^^^^^^^^^^^^^^^^^^^\n"
     ]
    },
    {
     "name": "stdout",
     "output_type": "stream",
     "text": [
      "\n",
      "Before SMOTE class distribution:\n",
      " quality\n",
      "5    545\n",
      "6    510\n",
      "7    159\n",
      "4     42\n",
      "8     15\n",
      "3      8\n",
      "Name: count, dtype: int64\n",
      "\n",
      "After SMOTE class distribution:\n",
      " quality\n",
      "6    545\n",
      "5    545\n",
      "7    545\n",
      "3    545\n",
      "4    545\n",
      "8    545\n",
      "Name: count, dtype: int64\n",
      "\n",
      "Accuracy on Test Data: 0.621875\n",
      "\n",
      "Classification Report:\n",
      "               precision    recall  f1-score   support\n",
      "\n",
      "           3       0.00      0.00      0.00         2\n",
      "           4       0.15      0.18      0.17        11\n",
      "           5       0.72      0.68      0.70       136\n",
      "           6       0.63      0.65      0.64       128\n",
      "           7       0.53      0.53      0.53        40\n",
      "           8       0.17      0.33      0.22         3\n",
      "\n",
      "    accuracy                           0.62       320\n",
      "   macro avg       0.37      0.39      0.38       320\n",
      "weighted avg       0.63      0.62      0.63       320\n",
      "\n",
      "\n",
      "Confusion Matrix:\n",
      " [[ 0  1  0  1  0  0]\n",
      " [ 2  2  5  2  0  0]\n",
      " [ 0  7 92 33  4  0]\n",
      " [ 0  2 26 83 14  3]\n",
      " [ 0  1  4 12 21  2]\n",
      " [ 0  0  1  0  1  1]]\n"
     ]
    }
   ],
   "source": [
    "import pandas as pd\n",
    "from sklearn.model_selection import train_test_split\n",
    "from sklearn.preprocessing import StandardScaler\n",
    "from sklearn.neural_network import MLPClassifier\n",
    "from sklearn.metrics import accuracy_score, classification_report, confusion_matrix\n",
    "from imblearn.over_sampling import SMOTE\n",
    "\n",
    "# Step 1: Load Dataset\n",
    "df = pd.read_csv('winequality-red.csv')\n",
    "\n",
    "# Step 2: Split features and target\n",
    "X = df.drop('quality', axis=1)\n",
    "y = df['quality']\n",
    "\n",
    "# Step 3: Train-Test Split\n",
    "X_train, X_test, y_train, y_test = train_test_split(X, y, test_size=0.2, random_state=42, stratify=y)\n",
    "\n",
    "# Step 4: Scaling (Important for Neural Network)\n",
    "scaler = StandardScaler()\n",
    "X_train_scaled = scaler.fit_transform(X_train)\n",
    "X_test_scaled = scaler.transform(X_test)\n",
    "\n",
    "# Step 5: Apply SMOTE on Training Data\n",
    "smote = SMOTE(random_state=42)\n",
    "X_train_smote, y_train_smote = smote.fit_resample(X_train_scaled, y_train)\n",
    "\n",
    "print(\"\\nBefore SMOTE class distribution:\\n\", y_train.value_counts())\n",
    "print(\"\\nAfter SMOTE class distribution:\\n\", pd.Series(y_train_smote).value_counts())\n",
    "\n",
    "# Step 6: Build and Train Neural Network Model\n",
    "model = MLPClassifier(hidden_layer_sizes=(100, 50), max_iter=500, activation='relu', solver='adam', random_state=42)\n",
    "model.fit(X_train_smote, y_train_smote)\n",
    "\n",
    "# Step 7: Predict and Evaluate\n",
    "y_pred = model.predict(X_test_scaled)\n",
    "\n",
    "print(\"\\nAccuracy on Test Data:\", accuracy_score(y_test, y_pred))\n",
    "print(\"\\nClassification Report:\\n\", classification_report(y_test, y_pred))\n",
    "print(\"\\nConfusion Matrix:\\n\", confusion_matrix(y_test, y_pred))\n"
   ]
  },
  {
   "cell_type": "code",
   "execution_count": 4,
   "id": "bc1c90d8-6817-49a2-a1d9-e9f998a91da5",
   "metadata": {},
   "outputs": [
    {
     "name": "stdout",
     "output_type": "stream",
     "text": [
      "Accuracy on Test Data: 62.19%\n",
      "\n",
      "Classification Report:\n",
      "               precision    recall  f1-score   support\n",
      "\n",
      "           3       0.00      0.00      0.00         2\n",
      "           4       0.15      0.18      0.17        11\n",
      "           5       0.72      0.68      0.70       136\n",
      "           6       0.63      0.65      0.64       128\n",
      "           7       0.53      0.53      0.53        40\n",
      "           8       0.17      0.33      0.22         3\n",
      "\n",
      "    accuracy                           0.62       320\n",
      "   macro avg       0.37      0.39      0.38       320\n",
      "weighted avg       0.63      0.62      0.63       320\n",
      "\n"
     ]
    }
   ],
   "source": [
    "print(\"Accuracy on Test Data: {:.2f}%\".format(accuracy_score(y_test, y_pred) * 100))\n",
    "print(\"\\nClassification Report:\\n\", classification_report(y_test, y_pred))"
   ]
  },
  {
   "cell_type": "code",
   "execution_count": 5,
   "id": "8d597ed5-cd6b-4a9e-8a46-bc91e95117cf",
   "metadata": {},
   "outputs": [
    {
     "name": "stdout",
     "output_type": "stream",
     "text": [
      "              precision    recall  f1-score   support\n",
      "\n",
      "           3       0.00      0.00      0.00         2\n",
      "           4       0.15      0.18      0.17        11\n",
      "           5       0.72      0.68      0.70       136\n",
      "           6       0.63      0.65      0.64       128\n",
      "           7       0.53      0.53      0.53        40\n",
      "           8       0.17      0.33      0.22         3\n",
      "\n",
      "    accuracy                           0.62       320\n",
      "   macro avg       0.37      0.39      0.38       320\n",
      "weighted avg       0.63      0.62      0.63       320\n",
      "\n",
      "[[ 0  1  0  1  0  0]\n",
      " [ 2  2  5  2  0  0]\n",
      " [ 0  7 92 33  4  0]\n",
      " [ 0  2 26 83 14  3]\n",
      " [ 0  1  4 12 21  2]\n",
      " [ 0  0  1  0  1  1]]\n"
     ]
    }
   ],
   "source": [
    "print(classification_report(y_test, y_pred))\n",
    "print(confusion_matrix(y_test, y_pred))"
   ]
  },
  {
   "cell_type": "code",
   "execution_count": null,
   "id": "9e8bc108-b8b6-476f-8249-19f5d1407d70",
   "metadata": {},
   "outputs": [],
   "source": []
  }
 ],
 "metadata": {
  "kernelspec": {
   "display_name": "Python 3 (ipykernel)",
   "language": "python",
   "name": "python3"
  },
  "language_info": {
   "codemirror_mode": {
    "name": "ipython",
    "version": 3
   },
   "file_extension": ".py",
   "mimetype": "text/x-python",
   "name": "python",
   "nbconvert_exporter": "python",
   "pygments_lexer": "ipython3",
   "version": "3.12.7"
  }
 },
 "nbformat": 4,
 "nbformat_minor": 5
}
