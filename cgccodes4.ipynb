{
 "cells": [
  {
   "cell_type": "code",
   "execution_count": 1,
   "id": "f6556923-88b4-46b3-b270-de67597cc207",
   "metadata": {},
   "outputs": [],
   "source": [
    "file=open('sample.txt','w')"
   ]
  },
  {
   "cell_type": "code",
   "execution_count": 2,
   "id": "df755318-9c09-47c3-a17c-2d478bd1e15c",
   "metadata": {},
   "outputs": [],
   "source": [
    "file.write('hello my name is hitesh sharma.\\n')\n",
    "file.write('i am the trainer of python.\\n')\n",
    "file.write('this is the end of file.\\n')\n",
    "file.close()"
   ]
  },
  {
   "cell_type": "code",
   "execution_count": 3,
   "id": "e017b599-06c6-4288-ab23-7215a5c372ce",
   "metadata": {},
   "outputs": [
    {
     "name": "stdout",
     "output_type": "stream",
     "text": [
      "\n",
      "---File content----\n",
      "hello my name is hitesh sharma.\n",
      "i am the trainer of python.\n",
      "this is the end of file.\n",
      "\n"
     ]
    }
   ],
   "source": [
    "file=open('sample.txt', 'r')\n",
    "content=file.read()\n",
    "print(\"\\n---File content----\")\n",
    "print(content)\n",
    "file.close()"
   ]
  },
  {
   "cell_type": "code",
   "execution_count": 4,
   "id": "9dd7198a-a714-418f-838b-c614df409e18",
   "metadata": {},
   "outputs": [],
   "source": [
    "file=open('sample.txt', 'a')\n",
    "file.write('this added line.\\n')\n",
    "file.close()"
   ]
  },
  {
   "cell_type": "code",
   "execution_count": 5,
   "id": "97011528-fc91-4c3b-bcc0-0d3d104e1285",
   "metadata": {},
   "outputs": [
    {
     "name": "stdout",
     "output_type": "stream",
     "text": [
      "\n",
      "---file content---\n",
      "hello my name is hitesh sharma.\n",
      "i am the trainer of python.\n",
      "this is the end of file.\n",
      "this added line.\n"
     ]
    }
   ],
   "source": [
    "file=open('sample.txt','r')\n",
    "print('\\n---file content---')\n",
    "for line in file:\n",
    "    print(line.strip())\n",
    "file.close()"
   ]
  },
  {
   "cell_type": "code",
   "execution_count": 6,
   "id": "0b690336-67d0-438c-a9e2-4e24f156db36",
   "metadata": {},
   "outputs": [
    {
     "name": "stdout",
     "output_type": "stream",
     "text": [
      "\n",
      "---file content---\n",
      "hello my name is hitesh sharma.\n",
      "i am the trainer of python.\n",
      "this is the end of file.\n",
      "this added line.\n",
      "\n"
     ]
    }
   ],
   "source": [
    "with open('sample.txt','r') as f:\n",
    "    print('\\n---file content---')\n",
    "    print(f.read())"
   ]
  },
  {
   "cell_type": "code",
   "execution_count": 43,
   "id": "ea1cf477-1f61-4607-924f-664ad9f0fa04",
   "metadata": {},
   "outputs": [
    {
     "name": "stdin",
     "output_type": "stream",
     "text": [
      " common\n",
      " dude\n"
     ]
    }
   ],
   "source": [
    "with open('user_notes.txt', 'w') as f:\n",
    "    for i in range(2):\n",
    "        data=input()\n",
    "        f.write(data+'\\n')"
   ]
  },
  {
   "cell_type": "code",
   "execution_count": 8,
   "id": "53458698-0aec-42cc-af28-f3bbb0b3c931",
   "metadata": {},
   "outputs": [
    {
     "name": "stdout",
     "output_type": "stream",
     "text": [
      "\n",
      "---File content----\n",
      "hello\n",
      "my\n",
      "name\n",
      "\n"
     ]
    }
   ],
   "source": [
    "file=open('user_notes.txt', 'r')\n",
    "content=file.read()\n",
    "print(\"\\n---File content----\")\n",
    "print(content)\n",
    "file.close()"
   ]
  },
  {
   "cell_type": "code",
   "execution_count": 9,
   "id": "352081e4-d0bf-4e7a-aca4-42865310de32",
   "metadata": {},
   "outputs": [],
   "source": [
    "#reading files"
   ]
  },
  {
   "cell_type": "code",
   "execution_count": 10,
   "id": "f8037dd8-801c-4137-98f5-8a20e63c6777",
   "metadata": {},
   "outputs": [],
   "source": [
    "g=open('sample.txt', 'r', encoding='utf-8')\n",
    "g2=open('output.txt', 'w', newline='')"
   ]
  },
  {
   "cell_type": "code",
   "execution_count": 58,
   "id": "6ddab1db-5cb9-4ab1-99d6-0560b836c9c9",
   "metadata": {},
   "outputs": [],
   "source": [
    "g2.close()"
   ]
  },
  {
   "cell_type": "code",
   "execution_count": 59,
   "id": "52a3eb46-1970-46b1-b03e-83725c152878",
   "metadata": {},
   "outputs": [
    {
     "name": "stdout",
     "output_type": "stream",
     "text": [
      "True\n"
     ]
    }
   ],
   "source": [
    "print(g2.closed)"
   ]
  },
  {
   "cell_type": "code",
   "execution_count": 50,
   "id": "f1711017-dede-4cbf-95c0-7ee651cc9a05",
   "metadata": {},
   "outputs": [
    {
     "name": "stdout",
     "output_type": "stream",
     "text": [
      "hello my name is hitesh sharma.\n",
      "i am the trainer of python.\n",
      "this is the end of file.\n",
      "this added line.\n",
      "\n"
     ]
    }
   ],
   "source": [
    "f = open('sample.txt', 'r')\n",
    "print(f.read())\n",
    "f.close()\n",
    "#isme hum text ko direct read krte hain it consumes less memory"
   ]
  },
  {
   "cell_type": "code",
   "execution_count": 12,
   "id": "7c80a8c4-8ead-466b-b581-94d473d28873",
   "metadata": {},
   "outputs": [
    {
     "name": "stdout",
     "output_type": "stream",
     "text": [
      "hello my name is hitesh sharma.\n",
      "i am the trainer of python.\n",
      "this is the end of file.\n",
      "this added line.\n",
      "\n"
     ]
    }
   ],
   "source": [
    "with open('sample.txt') as f:\n",
    "    print(f.read())\n",
    "\n",
    "# pichhle method me hume file manually close krni padi thi is code se file auto close ho jati hai"
   ]
  },
  {
   "cell_type": "code",
   "execution_count": 13,
   "id": "902d5d8a-fb1d-4eea-a5b5-94601dc99fff",
   "metadata": {},
   "outputs": [
    {
     "name": "stdout",
     "output_type": "stream",
     "text": [
      "hello my name is hitesh sharma.\n",
      "i am the trainer of python.\n",
      "this is the end of file.\n",
      "this added line.\n",
      "\n"
     ]
    }
   ],
   "source": [
    "with open('sample.txt', 'r') as f:\n",
    "    full_text = f.read()\n",
    "    print(full_text)\n",
    "\n",
    "# isme hum text ko ek variable ko assign kr dete hain lekin ye memory ko exhaust kr ksta hai agar text bahut zyada ho"
   ]
  },
  {
   "cell_type": "code",
   "execution_count": 14,
   "id": "499527ca-985d-42fc-bddf-f7c25f62b7c0",
   "metadata": {},
   "outputs": [
    {
     "name": "stdout",
     "output_type": "stream",
     "text": [
      "hello my name is hitesh sharma.\n",
      "i am the trainer of python.\n",
      "this is the end of file.\n",
      "this added line.\n",
      "\n"
     ]
    }
   ],
   "source": [
    "print(full_text)"
   ]
  },
  {
   "cell_type": "code",
   "execution_count": 15,
   "id": "6f816e13-54cd-4498-9007-9805433bcce2",
   "metadata": {},
   "outputs": [
    {
     "name": "stdout",
     "output_type": "stream",
     "text": [
      "hello my name is hit\n"
     ]
    }
   ],
   "source": [
    "with open('sample.txt') as f:\n",
    "    part = f.read(20)\n",
    "    print(part)\n",
    "# aise humne partial text ko assign kiya hai variable pe jis se memory ka exhaust ho"
   ]
  },
  {
   "cell_type": "code",
   "execution_count": 16,
   "id": "989e7a49-e575-4b3b-b12d-00450b4ba89a",
   "metadata": {},
   "outputs": [
    {
     "name": "stdout",
     "output_type": "stream",
     "text": [
      "hello my name is hitesh sharma.\n",
      "i am the trainer of python.\n",
      "this is the end of file.\n",
      "this added line.\n"
     ]
    }
   ],
   "source": [
    "with open('sample.txt') as f:\n",
    "    line = f.readline()\n",
    "    while line:\n",
    "        print(line.strip())\n",
    "        line = f.readline()\n",
    "# isme humne loop chala ke line by line read kiya content is se memory pe pressure kam padta hai"
   ]
  },
  {
   "cell_type": "code",
   "execution_count": 17,
   "id": "d17749c5-b0b6-4bba-91de-c195734444cb",
   "metadata": {},
   "outputs": [
    {
     "name": "stdout",
     "output_type": "stream",
     "text": [
      "1 hello my name is hitesh sharma.\n",
      "2 i am the trainer of python.\n",
      "3 this is the end of file.\n",
      "4 this added line.\n"
     ]
    }
   ],
   "source": [
    "with open('sample.txt') as f:\n",
    "    lines = f.readlines()\n",
    "    for i, ln in enumerate(lines,1): print(i, ln.strip())\n",
    "# is se har line ko number mil jata ahi it is also light on memory"
   ]
  },
  {
   "cell_type": "code",
   "execution_count": 18,
   "id": "4444ffe6-8288-4830-beff-c2f94376d1a3",
   "metadata": {},
   "outputs": [
    {
     "name": "stdout",
     "output_type": "stream",
     "text": [
      "Pos: 0\n",
      "After seek: esh sharma\n"
     ]
    }
   ],
   "source": [
    "with open('sample.txt') as f:\n",
    "    print('Pos:', f.tell())\n",
    "    f.seek(20)\n",
    "    print('After seek:', f.read(10))\n",
    "# isme f.seek mtlb itne characters baad f.read mtlb itne characters padho"
   ]
  },
  {
   "cell_type": "code",
   "execution_count": 19,
   "id": "e2f51857-56c4-4f0b-aa41-bb6318780072",
   "metadata": {},
   "outputs": [
    {
     "name": "stdout",
     "output_type": "stream",
     "text": [
      "Total lines: 4\n"
     ]
    }
   ],
   "source": [
    "count=0\n",
    "with open('sample.txt') as f:\n",
    "    for line in f:\n",
    "        count+=1\n",
    "print('Total lines:', count)\n",
    "# isme loop run krke total lines count ki"
   ]
  },
  {
   "cell_type": "code",
   "execution_count": 20,
   "id": "a67fdee6-307e-4291-9e9d-6de0e0342fbb",
   "metadata": {},
   "outputs": [],
   "source": [
    "# writing to files"
   ]
  },
  {
   "cell_type": "code",
   "execution_count": 21,
   "id": "9a1605f1-5973-456a-80ef-d5526564fec6",
   "metadata": {},
   "outputs": [],
   "source": [
    "with open('output.txt','w') as f:\n",
    "    f.write('Hello World\\n')"
   ]
  },
  {
   "cell_type": "code",
   "execution_count": 22,
   "id": "8dacb6db-dec1-47a9-bb77-438188acb7b6",
   "metadata": {},
   "outputs": [],
   "source": [
    "lines=['Line1','Line2','Line3']\n",
    "with open('output.txt','w') as f:\n",
    "    for ln in lines: f.write(ln+'\\n')"
   ]
  },
  {
   "cell_type": "code",
   "execution_count": 23,
   "id": "3a687160-6d82-4a5c-89ca-47cef9c97585",
   "metadata": {},
   "outputs": [
    {
     "name": "stdout",
     "output_type": "stream",
     "text": [
      "Line1\n",
      "Line2\n",
      "Line3\n",
      "\n"
     ]
    }
   ],
   "source": [
    "with open('output.txt') as f:\n",
    "    print(f.read())"
   ]
  },
  {
   "cell_type": "code",
   "execution_count": 24,
   "id": "4c410cb2-dac2-4f1e-93f4-c6dcacb626a0",
   "metadata": {},
   "outputs": [],
   "source": [
    "from datetime import datetime"
   ]
  },
  {
   "cell_type": "code",
   "execution_count": 65,
   "id": "ed32b7ab-6eef-4a12-af2c-92dc18272a98",
   "metadata": {},
   "outputs": [],
   "source": [
    "with open('log.txt','a') as f:\n",
    "    f.write(f\"Log entry at {datetime.now()}\\n\")"
   ]
  },
  {
   "cell_type": "code",
   "execution_count": 66,
   "id": "6e2546d4-b655-428b-b03e-7be0993a6ece",
   "metadata": {},
   "outputs": [
    {
     "name": "stdout",
     "output_type": "stream",
     "text": [
      "Log entry at 2025-06-20 05:18:21.364197\n",
      "Log entry at 2025-06-20 05:18:59.577829\n",
      "Log entry at 2025-06-20 05:37:09.343274\n",
      "2025-06-20 06:15:52.875302: it is good\n",
      "2025-06-20 06:17:13.303010: now\n",
      "Log entry at 2025-06-20 06:17:18.158603\n",
      "\n"
     ]
    }
   ],
   "source": [
    "with open('log.txt') as f:\n",
    "    print(f.read())"
   ]
  },
  {
   "cell_type": "code",
   "execution_count": 64,
   "id": "5fbae906-8246-4b78-89ab-15d0b4fff418",
   "metadata": {},
   "outputs": [
    {
     "name": "stdin",
     "output_type": "stream",
     "text": [
      "Enter log:  now\n"
     ]
    }
   ],
   "source": [
    "msg=input('Enter log: ')\n",
    "with open('log.txt','a') as f:\n",
    "    f.write(f\"{datetime.now()}: {msg}\\n\")"
   ]
  },
  {
   "cell_type": "code",
   "execution_count": 27,
   "id": "4cb5ac8a-37f6-49e1-8338-f390d47b1f57",
   "metadata": {},
   "outputs": [],
   "source": [
    "lines=['A','B','C']\n",
    "with open('lines.txt','w') as f:\n",
    "    f.writelines([ln+'\\n' for ln in lines])"
   ]
  },
  {
   "cell_type": "code",
   "execution_count": 28,
   "id": "0130275f-63c8-431e-b123-04550ee8beae",
   "metadata": {},
   "outputs": [
    {
     "name": "stdout",
     "output_type": "stream",
     "text": [
      "A\n",
      "B\n",
      "C\n",
      "\n"
     ]
    }
   ],
   "source": [
    "with open('lines.txt') as f:\n",
    "    print(f.read())"
   ]
  },
  {
   "cell_type": "code",
   "execution_count": 29,
   "id": "fd659d66-d201-49ce-bf6a-49bc62e99b98",
   "metadata": {},
   "outputs": [],
   "source": [
    "import csv"
   ]
  },
  {
   "cell_type": "code",
   "execution_count": 30,
   "id": "4229de54-23a7-4e22-b1cf-3a1834910109",
   "metadata": {},
   "outputs": [],
   "source": [
    "data=[['Name','Age'],['Aman',25],['Seema',23]]\n",
    "with open('data.csv','w',newline='') as f:\n",
    "    csv.writer(f).writerows(data)"
   ]
  },
  {
   "cell_type": "code",
   "execution_count": 31,
   "id": "3eaccdf3-1d58-4e20-85cb-b42969e07478",
   "metadata": {},
   "outputs": [
    {
     "name": "stdout",
     "output_type": "stream",
     "text": [
      "['Name', 'Age']\n",
      "['Aman', '25']\n",
      "['Seema', '23']\n"
     ]
    }
   ],
   "source": [
    "with open('data.csv','r') as f:\n",
    "    for row in csv.reader(f): print(row)"
   ]
  },
  {
   "cell_type": "code",
   "execution_count": 32,
   "id": "196d9847-e718-4bee-98c1-3ea2d61fce3e",
   "metadata": {},
   "outputs": [
    {
     "name": "stdout",
     "output_type": "stream",
     "text": [
      "Aman 25\n",
      "Seema 23\n"
     ]
    }
   ],
   "source": [
    "with open('data.csv') as f:\n",
    "    for d in csv.DictReader(f): print(d['Name'], d['Age'])"
   ]
  },
  {
   "cell_type": "code",
   "execution_count": 33,
   "id": "01963648-35c1-4495-84d9-7e3f93e06e9b",
   "metadata": {},
   "outputs": [
    {
     "name": "stdout",
     "output_type": "stream",
     "text": [
      "1814580 bytes\n"
     ]
    }
   ],
   "source": [
    "with open('wallpaper1.jpg','rb') as f:\n",
    "    data=f.read()\n",
    "print(len(data), 'bytes')\n",
    "with open('copy.png','wb') as f:\n",
    "    f.write(data)"
   ]
  },
  {
   "cell_type": "code",
   "execution_count": 34,
   "id": "3155c28a-8ec1-4fd1-92b7-ee3a49fcc6ea",
   "metadata": {},
   "outputs": [],
   "source": [
    "import json, pickle"
   ]
  },
  {
   "cell_type": "code",
   "execution_count": 35,
   "id": "e7f960a4-e57f-45e2-aaa1-1a2ce815d23b",
   "metadata": {},
   "outputs": [],
   "source": [
    "data={'a':1,'b':2}\n",
    "with open('data.json','w') as f: json.dump(data,f)\n",
    "with open('data.pickle','wb') as f: pickle.dump(data,f)"
   ]
  },
  {
   "cell_type": "code",
   "execution_count": 36,
   "id": "d6adcfc3-81af-47de-b97a-4bd0156746c5",
   "metadata": {},
   "outputs": [],
   "source": [
    "from pathlib import Path"
   ]
  },
  {
   "cell_type": "code",
   "execution_count": 37,
   "id": "e5252572-a337-443f-b14f-e21e58bfe33f",
   "metadata": {},
   "outputs": [
    {
     "name": "stdout",
     "output_type": "stream",
     "text": [
      "True .txt hello my name is hitesh sharma.\n",
      "i am the trainer of python.\n",
      "this is the end of file.\n",
      "this added line.\n",
      "\n"
     ]
    }
   ],
   "source": [
    "p=Path('sample.txt')\n",
    "print(p.exists(), p.suffix, p.read_text())"
   ]
  },
  {
   "cell_type": "code",
   "execution_count": 38,
   "id": "786ac353-7141-4397-89f9-d92d1a6863aa",
   "metadata": {},
   "outputs": [],
   "source": [
    "import gzip"
   ]
  },
  {
   "cell_type": "code",
   "execution_count": 39,
   "id": "289b4e20-5b85-42f2-9a2a-6041c81ffdae",
   "metadata": {},
   "outputs": [],
   "source": [
    "with open('output.txt','rb') as f_in, gzip.open('out.gz','wb') as f_out:\n",
    "    f_out.writelines(f_in)"
   ]
  },
  {
   "cell_type": "code",
   "execution_count": 40,
   "id": "e13ff9cc-efc3-433d-9f45-0a2b6ba5f285",
   "metadata": {},
   "outputs": [
    {
     "name": "stdout",
     "output_type": "stream",
     "text": [
      "{'a': 1, 'b': 2}\n"
     ]
    }
   ],
   "source": [
    "with open('data.pickle', 'rb') as f:\n",
    "    # Step 2: Load the data from the file\n",
    "    data = pickle.load(f)\n",
    "print(data)"
   ]
  },
  {
   "cell_type": "code",
   "execution_count": 41,
   "id": "e0057146-336e-42cc-a4ef-31355421337a",
   "metadata": {},
   "outputs": [],
   "source": [
    "import json"
   ]
  },
  {
   "cell_type": "code",
   "execution_count": 42,
   "id": "826c151b-c01e-4adc-aad4-745e1305018a",
   "metadata": {},
   "outputs": [
    {
     "name": "stdout",
     "output_type": "stream",
     "text": [
      "{'a': 1, 'b': 2}\n"
     ]
    }
   ],
   "source": [
    "with open('data.json', 'r') as f:\n",
    "    # Step 2: Load the data from the file\n",
    "    data = json.load(f)\n",
    "print(data)"
   ]
  },
  {
   "cell_type": "code",
   "execution_count": 60,
   "id": "68fafc4c-5b5d-4316-9092-7c922bc653f1",
   "metadata": {},
   "outputs": [],
   "source": [
    "from collections import Counter\n"
   ]
  },
  {
   "cell_type": "code",
   "execution_count": 61,
   "id": "e53e3340-21f8-4ef0-a43d-5c2801f418a9",
   "metadata": {},
   "outputs": [
    {
     "name": "stdout",
     "output_type": "stream",
     "text": [
      "Counter({'is': 2, 'the': 2, 'of': 2, 'this': 2, 'hello': 1, 'my': 1, 'name': 1, 'hitesh': 1, 'sharma.': 1, 'i': 1, 'am': 1, 'trainer': 1, 'python.': 1, 'end': 1, 'file.': 1, 'added': 1, 'line.': 1})\n"
     ]
    }
   ],
   "source": [
    "words=open('sample.txt').read().split()\n",
    "print(Counter(words))"
   ]
  },
  {
   "cell_type": "code",
   "execution_count": 62,
   "id": "7abba860-118d-46ae-b8dc-8fcd2fd8138b",
   "metadata": {},
   "outputs": [
    {
     "name": "stdin",
     "output_type": "stream",
     "text": [
      "Enter log:  it is good\n"
     ]
    }
   ],
   "source": []
  },
  {
   "cell_type": "code",
   "execution_count": null,
   "id": "936190eb-fdbc-4727-afc8-df346e15bd4a",
   "metadata": {},
   "outputs": [],
   "source": []
  }
 ],
 "metadata": {
  "kernelspec": {
   "display_name": "Python 3 (ipykernel)",
   "language": "python",
   "name": "python3"
  },
  "language_info": {
   "codemirror_mode": {
    "name": "ipython",
    "version": 3
   },
   "file_extension": ".py",
   "mimetype": "text/x-python",
   "name": "python",
   "nbconvert_exporter": "python",
   "pygments_lexer": "ipython3",
   "version": "3.12.7"
  }
 },
 "nbformat": 4,
 "nbformat_minor": 5
}
