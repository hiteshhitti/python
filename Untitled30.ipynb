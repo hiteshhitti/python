{
 "cells": [
  {
   "cell_type": "code",
   "execution_count": 1,
   "id": "67ae5f0d-196d-42c6-8ceb-876bc665f851",
   "metadata": {},
   "outputs": [],
   "source": [
    "import pandas as pd"
   ]
  },
  {
   "cell_type": "code",
   "execution_count": 2,
   "id": "54ed0f84-2dae-42d2-a782-9f745865bf9e",
   "metadata": {},
   "outputs": [],
   "source": [
    "pd.set_option('display.float_format', '{:.2f}'.format)"
   ]
  },
  {
   "cell_type": "code",
   "execution_count": 3,
   "id": "7e266d78-466e-498c-a733-42319125ef5f",
   "metadata": {},
   "outputs": [
    {
     "name": "stdout",
     "output_type": "stream",
     "text": [
      "0    10\n",
      "1    20\n",
      "2    30\n",
      "3    40\n",
      "dtype: int64\n"
     ]
    }
   ],
   "source": [
    "s1 = pd.Series([10, 20, 30, 40])\n",
    "print(s1)"
   ]
  },
  {
   "cell_type": "code",
   "execution_count": 4,
   "id": "b8f68273-35dc-44fe-a169-79ab4d4d55cd",
   "metadata": {},
   "outputs": [
    {
     "name": "stdout",
     "output_type": "stream",
     "text": [
      "a   1.50\n",
      "b   2.50\n",
      "c   3.50\n",
      "dtype: float64\n"
     ]
    }
   ],
   "source": [
    "s2 = pd.Series([1.5, 2.5, 3.5], index=['a','b','c'])\n",
    "print(s2)"
   ]
  },
  {
   "cell_type": "code",
   "execution_count": 5,
   "id": "de1120dc-888a-495e-8e2d-fb415c6a9881",
   "metadata": {},
   "outputs": [
    {
     "name": "stdout",
     "output_type": "stream",
     "text": [
      "apple     50\n",
      "banana    30\n",
      "cherry    20\n",
      "dtype: int64\n"
     ]
    }
   ],
   "source": [
    "data = {'apple': 50, 'banana': 30, 'cherry': 20}\n",
    "s3 = pd.Series(data)\n",
    "print(s3)"
   ]
  },
  {
   "cell_type": "code",
   "execution_count": 6,
   "id": "140ac051-7fb3-4311-a3a2-eb80104df599",
   "metadata": {},
   "outputs": [
    {
     "name": "stdout",
     "output_type": "stream",
     "text": [
      "20\n",
      "1    20\n",
      "2    30\n",
      "dtype: int64\n"
     ]
    }
   ],
   "source": [
    "print(s1[1])     # 20\n",
    "print(s1[1:3])   # slice at positions 1 and 2"
   ]
  },
  {
   "cell_type": "code",
   "execution_count": 7,
   "id": "1e315d9f-e2d7-47bb-8a7c-8b15f565d2fc",
   "metadata": {},
   "outputs": [
    {
     "name": "stdout",
     "output_type": "stream",
     "text": [
      "2.5\n",
      "a   1.50\n",
      "c   3.50\n",
      "dtype: float64\n"
     ]
    }
   ],
   "source": [
    "print(s2['b'])    # 2.5\n",
    "print(s2[['a','c']])"
   ]
  },
  {
   "cell_type": "code",
   "execution_count": 8,
   "id": "beda7c80-b670-49de-8120-20cb9274b99b",
   "metadata": {},
   "outputs": [
    {
     "name": "stdout",
     "output_type": "stream",
     "text": [
      "2    30\n",
      "3    40\n",
      "dtype: int64\n"
     ]
    }
   ],
   "source": [
    "print(s1[s1 > 25])  \n",
    "# only values > 25: positions 2 and 3"
   ]
  },
  {
   "cell_type": "code",
   "execution_count": 9,
   "id": "ad9800f3-d78a-40c3-99cc-8b4560a85185",
   "metadata": {},
   "outputs": [
    {
     "name": "stdout",
     "output_type": "stream",
     "text": [
      "30\n",
      "apple     50\n",
      "banana    30\n",
      "dtype: int64\n"
     ]
    }
   ],
   "source": [
    "print(s3.loc['banana'])   # 30\n",
    "print(s3.iloc[0:2])       # first two entries"
   ]
  },
  {
   "cell_type": "code",
   "execution_count": 10,
   "id": "0d24e8a1-873e-477e-80d7-22822a0f4660",
   "metadata": {},
   "outputs": [
    {
     "name": "stdout",
     "output_type": "stream",
     "text": [
      "0    15\n",
      "1    25\n",
      "2    35\n",
      "3    45\n",
      "dtype: int64\n"
     ]
    }
   ],
   "source": [
    "s1_plus5 = s1 + 5\n",
    "print(s1_plus5)"
   ]
  },
  {
   "cell_type": "code",
   "execution_count": 11,
   "id": "a4dbbc0d-c645-4b14-9292-19f40936a184",
   "metadata": {},
   "outputs": [
    {
     "name": "stdout",
     "output_type": "stream",
     "text": [
      "0     APPLE\n",
      "1    BANANA\n",
      "2    CHERRY\n",
      "dtype: object\n"
     ]
    }
   ],
   "source": [
    "fruits = pd.Series(['apple','banana','cherry'])\n",
    "print(fruits.str.upper())"
   ]
  },
  {
   "cell_type": "code",
   "execution_count": 12,
   "id": "2f04f9fa-6b6d-4780-92ce-41a1af3555a5",
   "metadata": {},
   "outputs": [
    {
     "name": "stdout",
     "output_type": "stream",
     "text": [
      "25.0 100 12.909944487358056 40\n"
     ]
    }
   ],
   "source": [
    "print(s1.mean(), s1.sum(), s1.std(), s1.max())"
   ]
  },
  {
   "cell_type": "code",
   "execution_count": 13,
   "id": "5cc6ddad-042b-4158-9ee7-b80f0f19b145",
   "metadata": {},
   "outputs": [
    {
     "name": "stdout",
     "output_type": "stream",
     "text": [
      "3    3\n",
      "2    2\n",
      "1    1\n",
      "Name: count, dtype: int64\n"
     ]
    }
   ],
   "source": [
    "s4 = pd.Series([1,2,2,3,3,3])\n",
    "print(s4.value_counts())    # frequency of each unique value"
   ]
  },
  {
   "cell_type": "code",
   "execution_count": null,
   "id": "22238d25-8581-4195-a96b-cc65ce728bf4",
   "metadata": {},
   "outputs": [],
   "source": []
  },
  {
   "cell_type": "code",
   "execution_count": 14,
   "id": "329177d4-7119-48df-b04b-2d33f0f2d990",
   "metadata": {},
   "outputs": [
    {
     "name": "stdout",
     "output_type": "stream",
     "text": [
      "      Name  Age  Score\n",
      "0    Alice   25  85.50\n",
      "1      Bob   30  92.00\n",
      "2  Charlie   35  88.00\n"
     ]
    }
   ],
   "source": [
    "data = {\n",
    "    'Name':    ['Alice', 'Bob', 'Charlie'],\n",
    "    'Age':     [25, 30, 35],\n",
    "    'Score':   [85.5, 92.0, 88.0],\n",
    "}\n",
    "df1 = pd.DataFrame(data)\n",
    "print(df1)"
   ]
  },
  {
   "cell_type": "code",
   "execution_count": 15,
   "id": "2c5a2266-3852-4526-8fdb-daa7a8570e37",
   "metadata": {},
   "outputs": [
    {
     "name": "stdout",
     "output_type": "stream",
     "text": [
      "      Name  Score   Age\n",
      "0    Alice  85.50   NaN\n",
      "1      Bob  92.00   NaN\n",
      "2  Charlie    NaN 35.00\n"
     ]
    }
   ],
   "source": [
    "records = [\n",
    "    {'Name':'Alice',   'Score':85.5},\n",
    "    {'Name':'Bob',     'Score':92.0},\n",
    "    {'Name':'Charlie', 'Age':35},\n",
    "]\n",
    "df2 = pd.DataFrame(records)\n",
    "print(df2)"
   ]
  },
  {
   "cell_type": "code",
   "execution_count": 16,
   "id": "0a6ea283-2a15-4a8e-8261-6286609139f4",
   "metadata": {},
   "outputs": [
    {
     "name": "stdout",
     "output_type": "stream",
     "text": [
      "   X  Y\n",
      "0  0  1\n",
      "1  2  3\n",
      "2  4  5\n"
     ]
    }
   ],
   "source": [
    "import numpy as np\n",
    "arr = np.arange(6).reshape(3,2)\n",
    "df3 = pd.DataFrame(arr, columns=['X','Y'])\n",
    "print(df3)"
   ]
  },
  {
   "cell_type": "code",
   "execution_count": 17,
   "id": "6c335c5d-6153-4904-b8cf-93568cdd72b8",
   "metadata": {},
   "outputs": [],
   "source": [
    "# CSV\n",
    "honey = pd.read_csv('US_honey_dataset_updated.csv')"
   ]
  },
  {
   "cell_type": "code",
   "execution_count": 18,
   "id": "2d6a7274-e3f9-41ae-8430-db48f4e08b1a",
   "metadata": {},
   "outputs": [
    {
     "ename": "FileNotFoundError",
     "evalue": "[Errno 2] No such file or directory: 'data.xlsx'",
     "output_type": "error",
     "traceback": [
      "\u001b[1;31m---------------------------------------------------------------------------\u001b[0m",
      "\u001b[1;31mFileNotFoundError\u001b[0m                         Traceback (most recent call last)",
      "Cell \u001b[1;32mIn[18], line 2\u001b[0m\n\u001b[0;32m      1\u001b[0m \u001b[38;5;66;03m# Excel\u001b[39;00m\n\u001b[1;32m----> 2\u001b[0m df_xlsx \u001b[38;5;241m=\u001b[39m pd\u001b[38;5;241m.\u001b[39mread_excel(\u001b[38;5;124m'\u001b[39m\u001b[38;5;124mdata.xlsx\u001b[39m\u001b[38;5;124m'\u001b[39m, sheet_name\u001b[38;5;241m=\u001b[39m\u001b[38;5;124m'\u001b[39m\u001b[38;5;124mSheet1\u001b[39m\u001b[38;5;124m'\u001b[39m)\n\u001b[0;32m      4\u001b[0m \u001b[38;5;66;03m# JSON\u001b[39;00m\n\u001b[0;32m      5\u001b[0m df_json \u001b[38;5;241m=\u001b[39m pd\u001b[38;5;241m.\u001b[39mread_json(\u001b[38;5;124m'\u001b[39m\u001b[38;5;124mdata.json\u001b[39m\u001b[38;5;124m'\u001b[39m)\n",
      "File \u001b[1;32mD:\\python\\Lib\\site-packages\\pandas\\io\\excel\\_base.py:495\u001b[0m, in \u001b[0;36mread_excel\u001b[1;34m(io, sheet_name, header, names, index_col, usecols, dtype, engine, converters, true_values, false_values, skiprows, nrows, na_values, keep_default_na, na_filter, verbose, parse_dates, date_parser, date_format, thousands, decimal, comment, skipfooter, storage_options, dtype_backend, engine_kwargs)\u001b[0m\n\u001b[0;32m    493\u001b[0m \u001b[38;5;28;01mif\u001b[39;00m \u001b[38;5;129;01mnot\u001b[39;00m \u001b[38;5;28misinstance\u001b[39m(io, ExcelFile):\n\u001b[0;32m    494\u001b[0m     should_close \u001b[38;5;241m=\u001b[39m \u001b[38;5;28;01mTrue\u001b[39;00m\n\u001b[1;32m--> 495\u001b[0m     io \u001b[38;5;241m=\u001b[39m ExcelFile(\n\u001b[0;32m    496\u001b[0m         io,\n\u001b[0;32m    497\u001b[0m         storage_options\u001b[38;5;241m=\u001b[39mstorage_options,\n\u001b[0;32m    498\u001b[0m         engine\u001b[38;5;241m=\u001b[39mengine,\n\u001b[0;32m    499\u001b[0m         engine_kwargs\u001b[38;5;241m=\u001b[39mengine_kwargs,\n\u001b[0;32m    500\u001b[0m     )\n\u001b[0;32m    501\u001b[0m \u001b[38;5;28;01melif\u001b[39;00m engine \u001b[38;5;129;01mand\u001b[39;00m engine \u001b[38;5;241m!=\u001b[39m io\u001b[38;5;241m.\u001b[39mengine:\n\u001b[0;32m    502\u001b[0m     \u001b[38;5;28;01mraise\u001b[39;00m \u001b[38;5;167;01mValueError\u001b[39;00m(\n\u001b[0;32m    503\u001b[0m         \u001b[38;5;124m\"\u001b[39m\u001b[38;5;124mEngine should not be specified when passing \u001b[39m\u001b[38;5;124m\"\u001b[39m\n\u001b[0;32m    504\u001b[0m         \u001b[38;5;124m\"\u001b[39m\u001b[38;5;124man ExcelFile - ExcelFile already has the engine set\u001b[39m\u001b[38;5;124m\"\u001b[39m\n\u001b[0;32m    505\u001b[0m     )\n",
      "File \u001b[1;32mD:\\python\\Lib\\site-packages\\pandas\\io\\excel\\_base.py:1550\u001b[0m, in \u001b[0;36mExcelFile.__init__\u001b[1;34m(self, path_or_buffer, engine, storage_options, engine_kwargs)\u001b[0m\n\u001b[0;32m   1548\u001b[0m     ext \u001b[38;5;241m=\u001b[39m \u001b[38;5;124m\"\u001b[39m\u001b[38;5;124mxls\u001b[39m\u001b[38;5;124m\"\u001b[39m\n\u001b[0;32m   1549\u001b[0m \u001b[38;5;28;01melse\u001b[39;00m:\n\u001b[1;32m-> 1550\u001b[0m     ext \u001b[38;5;241m=\u001b[39m inspect_excel_format(\n\u001b[0;32m   1551\u001b[0m         content_or_path\u001b[38;5;241m=\u001b[39mpath_or_buffer, storage_options\u001b[38;5;241m=\u001b[39mstorage_options\n\u001b[0;32m   1552\u001b[0m     )\n\u001b[0;32m   1553\u001b[0m     \u001b[38;5;28;01mif\u001b[39;00m ext \u001b[38;5;129;01mis\u001b[39;00m \u001b[38;5;28;01mNone\u001b[39;00m:\n\u001b[0;32m   1554\u001b[0m         \u001b[38;5;28;01mraise\u001b[39;00m \u001b[38;5;167;01mValueError\u001b[39;00m(\n\u001b[0;32m   1555\u001b[0m             \u001b[38;5;124m\"\u001b[39m\u001b[38;5;124mExcel file format cannot be determined, you must specify \u001b[39m\u001b[38;5;124m\"\u001b[39m\n\u001b[0;32m   1556\u001b[0m             \u001b[38;5;124m\"\u001b[39m\u001b[38;5;124man engine manually.\u001b[39m\u001b[38;5;124m\"\u001b[39m\n\u001b[0;32m   1557\u001b[0m         )\n",
      "File \u001b[1;32mD:\\python\\Lib\\site-packages\\pandas\\io\\excel\\_base.py:1402\u001b[0m, in \u001b[0;36minspect_excel_format\u001b[1;34m(content_or_path, storage_options)\u001b[0m\n\u001b[0;32m   1399\u001b[0m \u001b[38;5;28;01mif\u001b[39;00m \u001b[38;5;28misinstance\u001b[39m(content_or_path, \u001b[38;5;28mbytes\u001b[39m):\n\u001b[0;32m   1400\u001b[0m     content_or_path \u001b[38;5;241m=\u001b[39m BytesIO(content_or_path)\n\u001b[1;32m-> 1402\u001b[0m \u001b[38;5;28;01mwith\u001b[39;00m get_handle(\n\u001b[0;32m   1403\u001b[0m     content_or_path, \u001b[38;5;124m\"\u001b[39m\u001b[38;5;124mrb\u001b[39m\u001b[38;5;124m\"\u001b[39m, storage_options\u001b[38;5;241m=\u001b[39mstorage_options, is_text\u001b[38;5;241m=\u001b[39m\u001b[38;5;28;01mFalse\u001b[39;00m\n\u001b[0;32m   1404\u001b[0m ) \u001b[38;5;28;01mas\u001b[39;00m handle:\n\u001b[0;32m   1405\u001b[0m     stream \u001b[38;5;241m=\u001b[39m handle\u001b[38;5;241m.\u001b[39mhandle\n\u001b[0;32m   1406\u001b[0m     stream\u001b[38;5;241m.\u001b[39mseek(\u001b[38;5;241m0\u001b[39m)\n",
      "File \u001b[1;32mD:\\python\\Lib\\site-packages\\pandas\\io\\common.py:882\u001b[0m, in \u001b[0;36mget_handle\u001b[1;34m(path_or_buf, mode, encoding, compression, memory_map, is_text, errors, storage_options)\u001b[0m\n\u001b[0;32m    873\u001b[0m         handle \u001b[38;5;241m=\u001b[39m \u001b[38;5;28mopen\u001b[39m(\n\u001b[0;32m    874\u001b[0m             handle,\n\u001b[0;32m    875\u001b[0m             ioargs\u001b[38;5;241m.\u001b[39mmode,\n\u001b[1;32m   (...)\u001b[0m\n\u001b[0;32m    878\u001b[0m             newline\u001b[38;5;241m=\u001b[39m\u001b[38;5;124m\"\u001b[39m\u001b[38;5;124m\"\u001b[39m,\n\u001b[0;32m    879\u001b[0m         )\n\u001b[0;32m    880\u001b[0m     \u001b[38;5;28;01melse\u001b[39;00m:\n\u001b[0;32m    881\u001b[0m         \u001b[38;5;66;03m# Binary mode\u001b[39;00m\n\u001b[1;32m--> 882\u001b[0m         handle \u001b[38;5;241m=\u001b[39m \u001b[38;5;28mopen\u001b[39m(handle, ioargs\u001b[38;5;241m.\u001b[39mmode)\n\u001b[0;32m    883\u001b[0m     handles\u001b[38;5;241m.\u001b[39mappend(handle)\n\u001b[0;32m    885\u001b[0m \u001b[38;5;66;03m# Convert BytesIO or file objects passed with an encoding\u001b[39;00m\n",
      "\u001b[1;31mFileNotFoundError\u001b[0m: [Errno 2] No such file or directory: 'data.xlsx'"
     ]
    }
   ],
   "source": [
    "# Excel\n",
    "df_xlsx = pd.read_excel('data.xlsx', sheet_name='Sheet1')\n",
    "\n",
    "# JSON\n",
    "df_json = pd.read_json('data.json')"
   ]
  },
  {
   "cell_type": "code",
   "execution_count": 19,
   "id": "7bf97d4b-0624-4c60-acd1-523377e11c72",
   "metadata": {},
   "outputs": [
    {
     "name": "stdout",
     "output_type": "stream",
     "text": [
      "   Unnamed: 0     state  colonies_number  yield_per_colony  production  \\\n",
      "0           0   Alabama            16000                58      928000   \n",
      "1           1   Arizona            52000                79     4108000   \n",
      "2           2  Arkansas            50000                60     3000000   \n",
      "\n",
      "   stocks  average_price  value_of_production  year  \n",
      "0   28000          62.00               575000  1995  \n",
      "1  986000          68.00              2793000  1995  \n",
      "2  900000          64.00              1920000  1995  \n",
      "      Unnamed: 0      state  colonies_number  yield_per_colony  production  \\\n",
      "1113        1113  Wisconsin            42000                47      750000   \n",
      "1114        1114    Wyoming            38000                58      242000   \n",
      "\n",
      "      stocks  average_price  value_of_production  year  \n",
      "1113  750000           2.81              5547000  2021  \n",
      "1114  242000           2.07              4562000  2021  \n"
     ]
    }
   ],
   "source": [
    "df = honey  # use one of the created DataFrames\n",
    "print(df.head(3))     # first 3 rows\n",
    "print(df.tail(2))     # last 2 rows"
   ]
  },
  {
   "cell_type": "code",
   "execution_count": 20,
   "id": "eb08ebec-2a22-4471-bd2e-897d2c572a34",
   "metadata": {},
   "outputs": [
    {
     "name": "stdout",
     "output_type": "stream",
     "text": [
      "(1115, 9)\n",
      "Index(['Unnamed: 0', 'state', 'colonies_number', 'yield_per_colony',\n",
      "       'production', 'stocks', 'average_price', 'value_of_production', 'year'],\n",
      "      dtype='object')\n",
      "Unnamed: 0               int64\n",
      "state                   object\n",
      "colonies_number          int64\n",
      "yield_per_colony         int64\n",
      "production               int64\n",
      "stocks                   int64\n",
      "average_price          float64\n",
      "value_of_production      int64\n",
      "year                     int64\n",
      "dtype: object\n"
     ]
    }
   ],
   "source": [
    "print(df.shape)       # (rows, columns)\n",
    "print(df.columns)     # Index of column names\n",
    "print(df.dtypes)      # Data types of each column"
   ]
  },
  {
   "cell_type": "code",
   "execution_count": 21,
   "id": "cac40557-8537-4b22-a7d3-78965d644630",
   "metadata": {},
   "outputs": [
    {
     "name": "stdout",
     "output_type": "stream",
     "text": [
      "<class 'pandas.core.frame.DataFrame'>\n",
      "RangeIndex: 1115 entries, 0 to 1114\n",
      "Data columns (total 9 columns):\n",
      " #   Column               Non-Null Count  Dtype  \n",
      "---  ------               --------------  -----  \n",
      " 0   Unnamed: 0           1115 non-null   int64  \n",
      " 1   state                1115 non-null   object \n",
      " 2   colonies_number      1115 non-null   int64  \n",
      " 3   yield_per_colony     1115 non-null   int64  \n",
      " 4   production           1115 non-null   int64  \n",
      " 5   stocks               1115 non-null   int64  \n",
      " 6   average_price        1115 non-null   float64\n",
      " 7   value_of_production  1115 non-null   int64  \n",
      " 8   year                 1115 non-null   int64  \n",
      "dtypes: float64(1), int64(7), object(1)\n",
      "memory usage: 78.5+ KB\n",
      "None\n",
      "       Unnamed: 0  colonies_number  yield_per_colony  production      stocks  \\\n",
      "count     1115.00          1115.00           1115.00     1115.00     1115.00   \n",
      "mean       557.00         62438.57             59.74  2851268.16  1172625.11   \n",
      "std        322.02         92648.18             19.94  5561202.14  2049555.67   \n",
      "min          0.00          2000.00             19.00    12000.00     9000.00   \n",
      "25%        278.50          9000.00             45.00   246000.00   112500.00   \n",
      "50%        557.00         26000.00             57.00   828000.00   370000.00   \n",
      "75%        835.50         69000.00             71.00  2700000.00  1253500.00   \n",
      "max       1114.00        550000.00            155.00 39060000.00 13545000.00   \n",
      "\n",
      "       average_price  value_of_production    year  \n",
      "count        1115.00              1115.00 1115.00  \n",
      "mean          140.62           5667411.66 2007.74  \n",
      "std           107.01           9459460.46    7.82  \n",
      "min             1.30            106000.00 1995.00  \n",
      "25%            70.00           1008000.00 2001.00  \n",
      "50%           128.00           2281000.00 2008.00  \n",
      "75%           193.00           5704000.00 2015.00  \n",
      "max           874.00          83859000.00 2021.00  \n"
     ]
    }
   ],
   "source": [
    "print(df.info())      # non-null counts & dtypes\n",
    "print(df.describe())  # numeric stats: count, mean, std, min/max, quartiles"
   ]
  },
  {
   "cell_type": "code",
   "execution_count": 22,
   "id": "5ee43958-fede-4cd1-aa7e-f19cf3897e64",
   "metadata": {},
   "outputs": [
    {
     "name": "stdout",
     "output_type": "stream",
     "text": [
      "RangeIndex(start=0, stop=1115, step=1)\n",
      "Index(['Unnamed: 0', 'state', 'colonies_number', 'yield_per_colony',\n",
      "       'production', 'stocks', 'average_price', 'value_of_production', 'year'],\n",
      "      dtype='object')\n"
     ]
    }
   ],
   "source": [
    "print(df.index)       # row labels (0,1,…)\n",
    "print(df.columns)     # column labels"
   ]
  },
  {
   "cell_type": "code",
   "execution_count": 23,
   "id": "0b13184e-3ec5-41f8-a108-49db08b574b2",
   "metadata": {},
   "outputs": [
    {
     "name": "stdout",
     "output_type": "stream",
     "text": [
      "['Alabama' 'Arizona' 'Arkansas' 'California' 'Colorado' 'Florida'\n",
      " 'Georgia' 'Hawaii' 'Idaho' 'Illinois' 'Indiana' 'Iowa' 'Kansas'\n",
      " 'Kentucky' 'Louisiana' 'Maine' 'Maryland' 'Michigan' 'Minnesota'\n",
      " 'Mississippi' 'Missouri' 'Montana' 'Nebraska' 'Nevada' 'NewJersey'\n",
      " 'NewMexico' 'NewYork' 'NorthCarolina' 'NorthDakota' 'Ohio' 'Oklahoma'\n",
      " 'Oregon' 'Pennsylvania' 'SouthCarolina' 'SouthDakota' 'Tennessee' 'Texas'\n",
      " 'Utah' 'Vermont' 'Virginia' 'Washington' 'WestVirginia' 'Wisconsin'\n",
      " 'Wyoming']\n",
      "state\n",
      "Alabama          27\n",
      "Missouri         27\n",
      "Arizona          27\n",
      "NewJersey        27\n",
      "NewYork          27\n",
      "NorthCarolina    27\n",
      "NorthDakota      27\n",
      "Ohio             27\n",
      "Oregon           27\n",
      "Pennsylvania     27\n",
      "SouthDakota      27\n",
      "Tennessee        27\n",
      "Texas            27\n",
      "Utah             27\n",
      "Vermont          27\n",
      "Virginia         27\n",
      "Washington       27\n",
      "WestVirginia     27\n",
      "Wisconsin        27\n",
      "Montana          27\n",
      "Nebraska         27\n",
      "Mississippi      27\n",
      "Minnesota        27\n",
      "Arkansas         27\n",
      "California       27\n",
      "Colorado         27\n",
      "Florida          27\n",
      "Georgia          27\n",
      "Hawaii           27\n",
      "Idaho            27\n",
      "Illinois         27\n",
      "Indiana          27\n",
      "Iowa             27\n",
      "Kansas           27\n",
      "Louisiana        27\n",
      "Maine            27\n",
      "Michigan         27\n",
      "Wyoming          27\n",
      "Kentucky         26\n",
      "NewMexico        18\n",
      "Nevada           15\n",
      "SouthCarolina    12\n",
      "Oklahoma          9\n",
      "Maryland          9\n",
      "Name: count, dtype: int64\n"
     ]
    }
   ],
   "source": [
    "# If you have a categorical column:\n",
    "print(df['state'].unique())        # array of unique ages\n",
    "print(df['state'].value_counts())  # frequency of each age"
   ]
  },
  {
   "cell_type": "code",
   "execution_count": 24,
   "id": "8e80f7c6-072e-4368-bdbf-5c852eb82541",
   "metadata": {},
   "outputs": [
    {
     "name": "stdout",
     "output_type": "stream",
     "text": [
      "Shape: (1115, 9)\n",
      "Columns: Index(['Unnamed: 0', 'state', 'colonies_number', 'yield_per_colony',\n",
      "       'production', 'stocks', 'average_price', 'value_of_production', 'year'],\n",
      "      dtype='object')\n",
      "Dtypes:\n",
      " Unnamed: 0               int64\n",
      "state                   object\n",
      "colonies_number          int64\n",
      "yield_per_colony         int64\n",
      "production               int64\n",
      "stocks                   int64\n",
      "average_price          float64\n",
      "value_of_production      int64\n",
      "year                     int64\n",
      "dtype: object\n",
      "   Unnamed: 0       state  colonies_number  yield_per_colony  production  \\\n",
      "0           0     Alabama            16000                58      928000   \n",
      "1           1     Arizona            52000                79     4108000   \n",
      "2           2    Arkansas            50000                60     3000000   \n",
      "3           3  California           420000                93    39060000   \n",
      "4           4    Colorado            45000                60     2700000   \n",
      "\n",
      "    stocks  average_price  value_of_production  year  \n",
      "0    28000          62.00               575000  1995  \n",
      "1   986000          68.00              2793000  1995  \n",
      "2   900000          64.00              1920000  1995  \n",
      "3  4687000          60.00             23436000  1995  \n",
      "4  1404000          68.00              1836000  1995  \n",
      "       Unnamed: 0  colonies_number  yield_per_colony  production      stocks  \\\n",
      "count     1115.00          1115.00           1115.00     1115.00     1115.00   \n",
      "mean       557.00         62438.57             59.74  2851268.16  1172625.11   \n",
      "std        322.02         92648.18             19.94  5561202.14  2049555.67   \n",
      "min          0.00          2000.00             19.00    12000.00     9000.00   \n",
      "25%        278.50          9000.00             45.00   246000.00   112500.00   \n",
      "50%        557.00         26000.00             57.00   828000.00   370000.00   \n",
      "75%        835.50         69000.00             71.00  2700000.00  1253500.00   \n",
      "max       1114.00        550000.00            155.00 39060000.00 13545000.00   \n",
      "\n",
      "       average_price  value_of_production    year  \n",
      "count        1115.00              1115.00 1115.00  \n",
      "mean          140.62           5667411.66 2007.74  \n",
      "std           107.01           9459460.46    7.82  \n",
      "min             1.30            106000.00 1995.00  \n",
      "25%            70.00           1008000.00 2001.00  \n",
      "50%           128.00           2281000.00 2008.00  \n",
      "75%           193.00           5704000.00 2015.00  \n",
      "max           874.00          83859000.00 2021.00  \n"
     ]
    }
   ],
   "source": [
    "df = pd.read_csv('US_honey_dataset_updated.csv')\n",
    "print(\"Shape:\", df.shape)\n",
    "print(\"Columns:\", df.columns)\n",
    "print(\"Dtypes:\\n\", df.dtypes)\n",
    "print(df.head())\n",
    "print(df.describe())"
   ]
  },
  {
   "cell_type": "code",
   "execution_count": 25,
   "id": "52d60fc7-7dcc-4e35-89ce-b86b50bc1ca8",
   "metadata": {},
   "outputs": [],
   "source": [
    "#Adding, Modifying & Dropping Data "
   ]
  },
  {
   "cell_type": "code",
   "execution_count": 26,
   "id": "3289112e-2d12-4005-92f1-ba0c4be5f136",
   "metadata": {},
   "outputs": [
    {
     "name": "stdout",
     "output_type": "stream",
     "text": [
      "    Name  Score\n",
      "0  Alice     85\n",
      "1    Bob     90\n"
     ]
    }
   ],
   "source": [
    "df = pd.DataFrame({'Name': ['Alice','Bob'], 'Score': [85, 90]})\n",
    "print(df)"
   ]
  },
  {
   "cell_type": "code",
   "execution_count": 27,
   "id": "fc5d073d-d985-4b64-b063-b99f95573322",
   "metadata": {},
   "outputs": [
    {
     "name": "stdout",
     "output_type": "stream",
     "text": [
      "    Name  Score  Passed\n",
      "0  Alice     85   False\n",
      "1    Bob     90    True\n"
     ]
    }
   ],
   "source": [
    "df['Passed'] = df['Score'] >= 90\n",
    "print(df)"
   ]
  },
  {
   "cell_type": "code",
   "execution_count": 28,
   "id": "8cc1162a-3eb0-4530-86e6-f99d8b5daec4",
   "metadata": {},
   "outputs": [
    {
     "name": "stdout",
     "output_type": "stream",
     "text": [
      "    Name  Score  Passed  ScoreBonus\n",
      "0  Alice     85   False          90\n",
      "1    Bob     90    True          95\n"
     ]
    }
   ],
   "source": [
    "df2 = df.assign(ScoreBonus = df['Score'] + 5)\n",
    "print(df2)"
   ]
  },
  {
   "cell_type": "code",
   "execution_count": 29,
   "id": "27c9b3aa-b74e-42fd-93cc-cf099c7e704e",
   "metadata": {},
   "outputs": [
    {
     "name": "stdout",
     "output_type": "stream",
     "text": [
      "    Name  NormalizedScore  Score  Passed\n",
      "0  Alice             0.94     85   False\n",
      "1    Bob             1.00     90    True\n"
     ]
    }
   ],
   "source": [
    "df.insert(1, 'NormalizedScore', df['Score'] / df['Score'].max())\n",
    "print(df)"
   ]
  },
  {
   "cell_type": "code",
   "execution_count": 30,
   "id": "fd0f4c66-1489-4567-a7bb-abbc51b76b0f",
   "metadata": {},
   "outputs": [],
   "source": [
    "#Conditional updates with loc"
   ]
  },
  {
   "cell_type": "code",
   "execution_count": 31,
   "id": "e56f5daf-62c3-4d63-883e-e8e8f197038a",
   "metadata": {},
   "outputs": [
    {
     "name": "stdout",
     "output_type": "stream",
     "text": [
      "   Age  Score\n",
      "0   25     80\n",
      "1   35     90\n",
      "2   28     85\n"
     ]
    }
   ],
   "source": [
    "df = pd.DataFrame({'Age': [25, 35, 28], 'Score': [80, 90, 85]})\n",
    "print(df)"
   ]
  },
  {
   "cell_type": "code",
   "execution_count": 32,
   "id": "3d68c516-2f6a-48b6-a55b-1c3cecf5a8ad",
   "metadata": {},
   "outputs": [
    {
     "name": "stdout",
     "output_type": "stream",
     "text": [
      "   Age  Score\n",
      "0   25     85\n",
      "1   35     90\n",
      "2   28     90\n"
     ]
    }
   ],
   "source": [
    "df.loc[df['Age'] < 30, 'Score'] += 5\n",
    "print(df)"
   ]
  },
  {
   "cell_type": "code",
   "execution_count": 33,
   "id": "91870169-c9c5-4f8d-97f3-db713dbb965f",
   "metadata": {},
   "outputs": [],
   "source": [
    "#Vectorized string methods:"
   ]
  },
  {
   "cell_type": "code",
   "execution_count": 34,
   "id": "39c98e41-d84e-4859-b47a-19eea39c8d07",
   "metadata": {},
   "outputs": [
    {
     "name": "stdout",
     "output_type": "stream",
     "text": [
      "      Name\n",
      "0    Alice\n",
      "1      Bob\n",
      "2  Charlie\n"
     ]
    }
   ],
   "source": [
    "df = pd.DataFrame({'Name': ['alice','bob','charlie']})\n",
    "df['Name'] = df['Name'].str.title()\n",
    "print(df)"
   ]
  },
  {
   "cell_type": "code",
   "execution_count": 35,
   "id": "3341c703-1396-4639-b864-155ddd15d9d3",
   "metadata": {},
   "outputs": [
    {
     "name": "stdout",
     "output_type": "stream",
     "text": [
      "   DateString       Date\n",
      "0  2025-01-01 2025-01-01\n",
      "1  2025-02-15 2025-02-15\n"
     ]
    }
   ],
   "source": [
    "#Type conversion:\n",
    "df = pd.DataFrame({'DateString': ['2025-01-01','2025-02-15']})\n",
    "df['Date'] = pd.to_datetime(df['DateString'])\n",
    "print(df)"
   ]
  },
  {
   "cell_type": "code",
   "execution_count": 36,
   "id": "ee992b4f-dcc9-41df-bccc-d863b307e661",
   "metadata": {},
   "outputs": [
    {
     "name": "stdout",
     "output_type": "stream",
     "text": [
      "   A  B  C\n",
      "0  1  3  5\n",
      "1  2  4  6\n",
      "   A  C\n",
      "0  1  5\n",
      "1  2  6\n"
     ]
    }
   ],
   "source": [
    "#Drop columns:\n",
    "df = pd.DataFrame({'A':[1,2], 'B':[3,4], 'C':[5,6]})\n",
    "print(df)\n",
    "df_dropped = df.drop(columns=['B'])\n",
    "print(df_dropped)"
   ]
  },
  {
   "cell_type": "code",
   "execution_count": 37,
   "id": "360aded2-fc4c-4645-9db6-2c925e6a8113",
   "metadata": {},
   "outputs": [
    {
     "name": "stdout",
     "output_type": "stream",
     "text": [
      "    X\n",
      "a  10\n",
      "b  20\n",
      "c  30\n",
      "    X\n",
      "a  10\n",
      "c  30\n"
     ]
    }
   ],
   "source": [
    "#Drop rows by index:\n",
    "df = pd.DataFrame({'X':[10,20,30]}, index=['a','b','c'])\n",
    "print(df)\n",
    "df2 = df.drop(index=['b'])\n",
    "print(df2)"
   ]
  },
  {
   "cell_type": "code",
   "execution_count": 38,
   "id": "0fdf474e-00c4-46ec-8ef7-8c6c8ca48bf0",
   "metadata": {},
   "outputs": [
    {
     "name": "stdout",
     "output_type": "stream",
     "text": [
      "   Score\n",
      "0     60\n",
      "1     85\n",
      "2     70\n",
      "   Score\n",
      "1     85\n",
      "2     70\n"
     ]
    }
   ],
   "source": [
    "#Filter-out rows via boolean mask:\n",
    "df = pd.DataFrame({'Score':[60,85,70]})\n",
    "print(df)\n",
    "df = df[df['Score'] >= 70]\n",
    "print(df)"
   ]
  },
  {
   "cell_type": "code",
   "execution_count": 39,
   "id": "c3af6856-cf26-4eb4-9db1-1b675a7d28ec",
   "metadata": {},
   "outputs": [
    {
     "name": "stdout",
     "output_type": "stream",
     "text": [
      "   Unneeded  Keep\n",
      "0         1     4\n",
      "1         2     5\n",
      "2         3     6\n",
      "   Keep\n",
      "0     4\n",
      "1     5\n",
      "2     6\n"
     ]
    }
   ],
   "source": [
    "#In-place modifications:\n",
    "df = pd.DataFrame({'Unneeded':[1,2,3], 'Keep':[4,5,6]})\n",
    "print(df)\n",
    "df.drop('Unneeded', axis=1, inplace=True)\n",
    "print(df)"
   ]
  },
  {
   "cell_type": "code",
   "execution_count": 40,
   "id": "4754ad2c-442e-410a-8651-10fcc299df3c",
   "metadata": {},
   "outputs": [
    {
     "data": {
      "text/html": [
       "<div>\n",
       "<style scoped>\n",
       "    .dataframe tbody tr th:only-of-type {\n",
       "        vertical-align: middle;\n",
       "    }\n",
       "\n",
       "    .dataframe tbody tr th {\n",
       "        vertical-align: top;\n",
       "    }\n",
       "\n",
       "    .dataframe thead th {\n",
       "        text-align: right;\n",
       "    }\n",
       "</style>\n",
       "<table border=\"1\" class=\"dataframe\">\n",
       "  <thead>\n",
       "    <tr style=\"text-align: right;\">\n",
       "      <th></th>\n",
       "      <th>Keep</th>\n",
       "    </tr>\n",
       "  </thead>\n",
       "  <tbody>\n",
       "    <tr>\n",
       "      <th>0</th>\n",
       "      <td>False</td>\n",
       "    </tr>\n",
       "    <tr>\n",
       "      <th>1</th>\n",
       "      <td>False</td>\n",
       "    </tr>\n",
       "    <tr>\n",
       "      <th>2</th>\n",
       "      <td>False</td>\n",
       "    </tr>\n",
       "  </tbody>\n",
       "</table>\n",
       "</div>"
      ],
      "text/plain": [
       "    Keep\n",
       "0  False\n",
       "1  False\n",
       "2  False"
      ]
     },
     "execution_count": 40,
     "metadata": {},
     "output_type": "execute_result"
    }
   ],
   "source": [
    "df.isna()            # Boolean DataFrame of NaNs"
   ]
  },
  {
   "cell_type": "code",
   "execution_count": 41,
   "id": "4d24e7f8-17dd-4904-86e6-cb721ffbdec8",
   "metadata": {},
   "outputs": [
    {
     "data": {
      "text/plain": [
       "Keep    0\n",
       "dtype: int64"
      ]
     },
     "execution_count": 41,
     "metadata": {},
     "output_type": "execute_result"
    }
   ],
   "source": [
    "df.isna().sum()      # Count per column"
   ]
  },
  {
   "cell_type": "code",
   "execution_count": 42,
   "id": "467feb25-f54b-4c5b-8c35-d7131b9468e8",
   "metadata": {},
   "outputs": [
    {
     "data": {
      "text/plain": [
       "Keep    3\n",
       "dtype: int64"
      ]
     },
     "execution_count": 42,
     "metadata": {},
     "output_type": "execute_result"
    }
   ],
   "source": [
    "df.notna().sum()     # Non-missing counts"
   ]
  },
  {
   "cell_type": "code",
   "execution_count": 43,
   "id": "9fef7616-129d-4880-9c75-23fbb24582a6",
   "metadata": {},
   "outputs": [
    {
     "name": "stdout",
     "output_type": "stream",
     "text": [
      "<class 'pandas.core.frame.DataFrame'>\n",
      "RangeIndex: 3 entries, 0 to 2\n",
      "Data columns (total 1 columns):\n",
      " #   Column  Non-Null Count  Dtype\n",
      "---  ------  --------------  -----\n",
      " 0   Keep    3 non-null      int64\n",
      "dtypes: int64(1)\n",
      "memory usage: 156.0 bytes\n"
     ]
    }
   ],
   "source": [
    "df.info()"
   ]
  },
  {
   "cell_type": "code",
   "execution_count": 44,
   "id": "d03ff695-a8ac-478f-a28f-4e788ece5e98",
   "metadata": {},
   "outputs": [],
   "source": [
    "df['Keep'] = df['Keep'].fillna(0)            # constant\n",
    "df['Keep'] = df['Keep'].fillna(df['Keep'].mean())  # column mean"
   ]
  },
  {
   "cell_type": "code",
   "execution_count": 45,
   "id": "7574e071-1f8a-4dc3-9b16-b482333835a2",
   "metadata": {},
   "outputs": [],
   "source": [
    "df_drop_rows = df.dropna()                     # any NaN in row → drop row\n",
    "df_drop_cols = df.dropna(axis=1, how='all')    # drop column if all values NaN"
   ]
  },
  {
   "cell_type": "code",
   "execution_count": 46,
   "id": "199a2f22-d038-4f27-86c9-69d2f2bbc3b1",
   "metadata": {},
   "outputs": [],
   "source": [
    "df_drop_rows = df.dropna()                     # any NaN in row → drop row\n",
    "df_drop_cols = df.dropna(axis=1, how='all')    # drop column if all values NaN"
   ]
  },
  {
   "cell_type": "code",
   "execution_count": 47,
   "id": "62de924f-c52a-4d58-b211-8d0aeff27752",
   "metadata": {},
   "outputs": [
    {
     "ename": "KeyError",
     "evalue": "['colA', 'colB']",
     "output_type": "error",
     "traceback": [
      "\u001b[1;31m---------------------------------------------------------------------------\u001b[0m",
      "\u001b[1;31mKeyError\u001b[0m                                  Traceback (most recent call last)",
      "\u001b[1;32m~\\AppData\\Local\\Temp\\ipykernel_10740\\4084546386.py\u001b[0m in \u001b[0;36m?\u001b[1;34m()\u001b[0m\n\u001b[0;32m      1\u001b[0m \u001b[0mdf_thresh\u001b[0m \u001b[1;33m=\u001b[0m \u001b[0mdf\u001b[0m\u001b[1;33m.\u001b[0m\u001b[0mdropna\u001b[0m\u001b[1;33m(\u001b[0m\u001b[0mthresh\u001b[0m\u001b[1;33m=\u001b[0m\u001b[1;36m3\u001b[0m\u001b[1;33m)\u001b[0m                 \u001b[1;31m# keep rows with >=3 non-NaN\u001b[0m\u001b[1;33m\u001b[0m\u001b[1;33m\u001b[0m\u001b[0m\n\u001b[1;32m----> 2\u001b[1;33m \u001b[0mdf_subset\u001b[0m \u001b[1;33m=\u001b[0m \u001b[0mdf\u001b[0m\u001b[1;33m.\u001b[0m\u001b[0mdropna\u001b[0m\u001b[1;33m(\u001b[0m\u001b[0msubset\u001b[0m\u001b[1;33m=\u001b[0m\u001b[1;33m[\u001b[0m\u001b[1;34m'colA'\u001b[0m\u001b[1;33m,\u001b[0m\u001b[1;34m'colB'\u001b[0m\u001b[1;33m]\u001b[0m\u001b[1;33m)\u001b[0m   \u001b[1;31m# drop if NaN in these cols\u001b[0m\u001b[1;33m\u001b[0m\u001b[1;33m\u001b[0m\u001b[0m\n\u001b[0m",
      "\u001b[1;32mD:\\python\\Lib\\site-packages\\pandas\\core\\frame.py\u001b[0m in \u001b[0;36m?\u001b[1;34m(self, axis, how, thresh, subset, inplace, ignore_index)\u001b[0m\n\u001b[0;32m   6666\u001b[0m             \u001b[0max\u001b[0m \u001b[1;33m=\u001b[0m \u001b[0mself\u001b[0m\u001b[1;33m.\u001b[0m\u001b[0m_get_axis\u001b[0m\u001b[1;33m(\u001b[0m\u001b[0magg_axis\u001b[0m\u001b[1;33m)\u001b[0m\u001b[1;33m\u001b[0m\u001b[1;33m\u001b[0m\u001b[0m\n\u001b[0;32m   6667\u001b[0m             \u001b[0mindices\u001b[0m \u001b[1;33m=\u001b[0m \u001b[0max\u001b[0m\u001b[1;33m.\u001b[0m\u001b[0mget_indexer_for\u001b[0m\u001b[1;33m(\u001b[0m\u001b[0msubset\u001b[0m\u001b[1;33m)\u001b[0m\u001b[1;33m\u001b[0m\u001b[1;33m\u001b[0m\u001b[0m\n\u001b[0;32m   6668\u001b[0m             \u001b[0mcheck\u001b[0m \u001b[1;33m=\u001b[0m \u001b[0mindices\u001b[0m \u001b[1;33m==\u001b[0m \u001b[1;33m-\u001b[0m\u001b[1;36m1\u001b[0m\u001b[1;33m\u001b[0m\u001b[1;33m\u001b[0m\u001b[0m\n\u001b[0;32m   6669\u001b[0m             \u001b[1;32mif\u001b[0m \u001b[0mcheck\u001b[0m\u001b[1;33m.\u001b[0m\u001b[0many\u001b[0m\u001b[1;33m(\u001b[0m\u001b[1;33m)\u001b[0m\u001b[1;33m:\u001b[0m\u001b[1;33m\u001b[0m\u001b[1;33m\u001b[0m\u001b[0m\n\u001b[1;32m-> 6670\u001b[1;33m                 \u001b[1;32mraise\u001b[0m \u001b[0mKeyError\u001b[0m\u001b[1;33m(\u001b[0m\u001b[0mnp\u001b[0m\u001b[1;33m.\u001b[0m\u001b[0marray\u001b[0m\u001b[1;33m(\u001b[0m\u001b[0msubset\u001b[0m\u001b[1;33m)\u001b[0m\u001b[1;33m[\u001b[0m\u001b[0mcheck\u001b[0m\u001b[1;33m]\u001b[0m\u001b[1;33m.\u001b[0m\u001b[0mtolist\u001b[0m\u001b[1;33m(\u001b[0m\u001b[1;33m)\u001b[0m\u001b[1;33m)\u001b[0m\u001b[1;33m\u001b[0m\u001b[1;33m\u001b[0m\u001b[0m\n\u001b[0m\u001b[0;32m   6671\u001b[0m             \u001b[0magg_obj\u001b[0m \u001b[1;33m=\u001b[0m \u001b[0mself\u001b[0m\u001b[1;33m.\u001b[0m\u001b[0mtake\u001b[0m\u001b[1;33m(\u001b[0m\u001b[0mindices\u001b[0m\u001b[1;33m,\u001b[0m \u001b[0maxis\u001b[0m\u001b[1;33m=\u001b[0m\u001b[0magg_axis\u001b[0m\u001b[1;33m)\u001b[0m\u001b[1;33m\u001b[0m\u001b[1;33m\u001b[0m\u001b[0m\n\u001b[0;32m   6672\u001b[0m \u001b[1;33m\u001b[0m\u001b[0m\n\u001b[0;32m   6673\u001b[0m         \u001b[1;32mif\u001b[0m \u001b[0mthresh\u001b[0m \u001b[1;32mis\u001b[0m \u001b[1;32mnot\u001b[0m \u001b[0mlib\u001b[0m\u001b[1;33m.\u001b[0m\u001b[0mno_default\u001b[0m\u001b[1;33m:\u001b[0m\u001b[1;33m\u001b[0m\u001b[1;33m\u001b[0m\u001b[0m\n",
      "\u001b[1;31mKeyError\u001b[0m: ['colA', 'colB']"
     ]
    }
   ],
   "source": [
    "df_thresh = df.dropna(thresh=3)                 # keep rows with >=3 non-NaN\n",
    "df_subset = df.dropna(subset=['colA','colB'])   # drop if NaN in these cols"
   ]
  },
  {
   "cell_type": "code",
   "execution_count": 48,
   "id": "07962fd2-3c86-4374-a132-02d582bc90ea",
   "metadata": {},
   "outputs": [],
   "source": [
    "groups = honey.groupby('state')"
   ]
  },
  {
   "cell_type": "code",
   "execution_count": 49,
   "id": "47083412-8286-4eb8-981e-39a28106a795",
   "metadata": {},
   "outputs": [
    {
     "name": "stdout",
     "output_type": "stream",
     "text": [
      "               Unnamed: 0  colonies_number  yield_per_colony  production  \\\n",
      "state                                                                      \n",
      "Alabama             14784           288000              1615    14467000   \n",
      "Arizona             14811           854000              1490    38844000   \n",
      "Arkansas            14838           908000              1886    51846000   \n",
      "California          14865         10135000              1426   423876000   \n",
      "Colorado            14892           799000              1520    32660000   \n",
      "Florida             14919          5528000              1956   280934000   \n",
      "Georgia             14946          1917000              1354    57426000   \n",
      "Hawaii              14973           296000              2802    15420000   \n",
      "Idaho               15000          2705000              1121    87188000   \n",
      "Illinois            15027           236000              1562     9864000   \n",
      "Indiana             15054           213000              1605     9686000   \n",
      "Iowa                15081           962000              1659    48607000   \n",
      "Kansas              15108           301000              1570    14138000   \n",
      "Kentucky            14731           113000              1260     3224000   \n",
      "Louisiana           15161          1066000              2506    60568000   \n",
      "Maine               15188           252000               888     4762000   \n",
      "Maryland             1708            48000               377     1975000   \n",
      "Michigan            15224          2168000              1753   101063000   \n",
      "Minnesota           15251          3498000              1885   176581000   \n",
      "Mississippi         15278           485000              2341    21235000   \n",
      "Missouri            15305           390000              1460    17904000   \n",
      "Montana             15332          3725000              2148   197173000   \n",
      "Nebraska            15359          1279000              1729    63655000   \n",
      "Nevada               4858           157000               700     7399000   \n",
      "NewJersey           15401           299000               958     6913000   \n",
      "NewMexico            6985           185000              1010    10082000   \n",
      "NewYork             15446          1588000              1745    78444000   \n",
      "NorthCarolina       15473           304000              1236     8909000   \n",
      "NorthDakota         15500         10710000              2266   513742000   \n",
      "Ohio                15527           449000              1763    22485000   \n",
      "Oklahoma             1834            40000               471     2055000   \n",
      "Oregon              15563          1594000              1145    43789000   \n",
      "Pennsylvania        15590           586000              1317    21370000   \n",
      "SouthCarolina        8538           148000               727     2823000   \n",
      "SouthDakota         15629          6639000              1950   355726000   \n",
      "Tennessee           15656           189000              1497     6857000   \n",
      "Texas               15683          2876000              1921   129441000   \n",
      "Utah                15710           719000              1130    20369000   \n",
      "Vermont             15737           149000              1674     7032000   \n",
      "Virginia            15764           170000              1097     5153000   \n",
      "Washington          15791          1709000              1255    53238000   \n",
      "WestVirginia        15818           179000              1245     6411000   \n",
      "Wisconsin           15845          1698000              1896    99909000   \n",
      "Wyoming             15872          1065000              1698    43921000   \n",
      "\n",
      "                  stocks  average_price  value_of_production   year  \n",
      "state                                                                \n",
      "Alabama          2987000        4057.61             28668000  54216  \n",
      "Arizona         17758000        2978.77             59772000  54216  \n",
      "Arkansas        20897000        2870.45             73781000  54216  \n",
      "California     137611000        2954.06            653982000  54216  \n",
      "Colorado        18695000        3200.56             63844000  54216  \n",
      "Florida         47037000        2967.52            509670000  54216  \n",
      "Georgia          9932000        3260.68            145945000  54216  \n",
      "Hawaii           3508000        3719.13             49888000  54216  \n",
      "Idaho           40503000        2869.71            139536000  54216  \n",
      "Illinois         4957000        5842.43             36782000  54216  \n",
      "Indiana          5286000        4183.16             24658000  54216  \n",
      "Iowa            29351000        3341.75             87563000  54216  \n",
      "Kansas           7520000        3977.44             27970000  54216  \n",
      "Kentucky         1128000        5250.45             15427000  52212  \n",
      "Louisiana       12688000        2783.02            129601000  54216  \n",
      "Maine            2271000        4691.80             19842000  54216  \n",
      "Maryland          477000        1310.00              2735000  17991  \n",
      "Michigan        58401000        3311.97            217841000  54216  \n",
      "Minnesota       51908000        2887.89            310462000  54216  \n",
      "Mississippi      6799000        2776.70             59265000  54216  \n",
      "Missouri         4870000        3941.76             32372000  54216  \n",
      "Montana         91240000        2961.17            406563000  54216  \n",
      "Nebraska        38937000        3004.31            106998000  54216  \n",
      "Nevada           1935000        3068.00             14520000  30030  \n",
      "NewJersey        3311000        5262.74             28201000  54216  \n",
      "NewMexico        4561000        2197.00             11049000  36063  \n",
      "NewYork         42535000        3663.52            177921000  54216  \n",
      "NorthCarolina    3101000        5540.21             38645000  54216  \n",
      "NorthDakota    206707000        2863.08           1186219000  54216  \n",
      "Ohio            13269000        4417.38             59637000  54216  \n",
      "Oklahoma          693000        1203.00              2618000  17991  \n",
      "Oregon          28655000        3221.40            102109000  54216  \n",
      "Pennsylvania    11339000        4130.82             55153000  54216  \n",
      "SouthCarolina     486000        2111.96             26218000  24136  \n",
      "SouthDakota    218634000        2891.51            619095000  54216  \n",
      "Tennessee        2460000        5318.06             27276000  54216  \n",
      "Texas           41022000        2965.74            284720000  54216  \n",
      "Utah             6775000        3003.27             40157000  54216  \n",
      "Vermont          3489000        4689.46             19084000  54216  \n",
      "Virginia         1809000        6419.69             20925000  54216  \n",
      "Washington      28500000        3208.36            119823000  54216  \n",
      "WestVirginia     3034000        5162.20             18685000  54216  \n",
      "Wisconsin       59166000        3410.87            176442000  54216  \n",
      "Wyoming         11235000        2904.12             87502000  54216  \n"
     ]
    }
   ],
   "source": [
    "print(groups.sum())"
   ]
  },
  {
   "cell_type": "code",
   "execution_count": 50,
   "id": "07c486a7-31e5-42e3-95e8-922aca251f17",
   "metadata": {},
   "outputs": [
    {
     "name": "stdout",
     "output_type": "stream",
     "text": [
      "               Total_production  Average_production  Max_production\n",
      "state                                                              \n",
      "Alabama                14467000           535814.81         1248000\n",
      "Arizona                38844000          1438666.67         4108000\n",
      "Arkansas               51846000          1920222.22         5655000\n",
      "California            423876000         15699111.11        39060000\n",
      "Colorado               32660000          1209629.63         2700000\n",
      "Florida               280934000         10404962.96        25200000\n",
      "Georgia                57426000          2126888.89         5100000\n",
      "Hawaii                 15420000           571111.11         1314000\n",
      "Idaho                  87188000          3229185.19         7680000\n",
      "Illinois                9864000           365333.33          814000\n",
      "Indiana                 9686000           358740.74          828000\n",
      "Iowa                   48607000          1800259.26         3900000\n",
      "Kansas                 14138000           523629.63         1207000\n",
      "Kentucky                3224000           124000.00          280000\n",
      "Louisiana              60568000          2243259.26         5472000\n",
      "Maine                   4762000           176370.37          495000\n",
      "Maryland                1975000           219444.44          308000\n",
      "Michigan              101063000          3743074.07         8924000\n",
      "Minnesota             176581000          6540037.04        13530000\n",
      "Mississippi            21235000           786481.48         1575000\n",
      "Missouri               17904000           663111.11         1848000\n",
      "Montana               197173000          7302703.70        14030000\n",
      "Nebraska               63655000          2357592.59         4875000\n",
      "Nevada                  7399000           493266.67          854000\n",
      "NewJersey               6913000           256037.04          539000\n",
      "NewMexico              10082000           560111.11         1235000\n",
      "NewYork                78444000          2905333.33         5880000\n",
      "NorthCarolina           8909000           329962.96          714000\n",
      "NorthDakota           513742000         19027481.48        35100000\n",
      "Ohio                   22485000           832777.78         1760000\n",
      "Oklahoma                2055000           228333.33          380000\n",
      "Oregon                 43789000          1621814.81         3245000\n",
      "Pennsylvania           21370000           791481.48         1620000\n",
      "SouthCarolina           2823000           235250.00          810000\n",
      "SouthDakota           355726000         13175037.04        28435000\n",
      "Tennessee               6857000           253962.96          549000\n",
      "Texas                 129441000          4794111.11         9964000\n",
      "Utah                   20369000           754407.41         1740000\n",
      "Vermont                 7032000           260444.44          623000\n",
      "Virginia                5153000           190851.85          468000\n",
      "Washington             53238000          1971777.78         3540000\n",
      "WestVirginia            6411000           237444.44          590000\n",
      "Wisconsin              99909000          3700333.33         8099000\n",
      "Wyoming                43921000          1626703.70         3627000\n"
     ]
    }
   ],
   "source": [
    "agg = honey.groupby('state').agg(\n",
    "    Total_production=('production','sum'),\n",
    "    Average_production=('production','mean'),\n",
    "    Max_production=('production','max')\n",
    ")\n",
    "print(agg)"
   ]
  },
  {
   "cell_type": "code",
   "execution_count": 51,
   "id": "8d03ffca-a155-4769-864b-2a7c09bf2667",
   "metadata": {},
   "outputs": [
    {
     "name": "stdout",
     "output_type": "stream",
     "text": [
      "      Unnamed: 0         state  colonies_number  yield_per_colony  production  \\\n",
      "0              0       Alabama            16000                58      928000   \n",
      "1              1       Arizona            52000                79     4108000   \n",
      "2              2      Arkansas            50000                60     3000000   \n",
      "3              3    California           420000                93    39060000   \n",
      "4              4      Colorado            45000                60     2700000   \n",
      "...          ...           ...              ...               ...         ...   \n",
      "1110        1110      Virginia             6000                40       79000   \n",
      "1111        1111    Washington            96000                32     1206000   \n",
      "1112        1112  WestVirginia             6000                43      136000   \n",
      "1113        1113     Wisconsin            42000                47      750000   \n",
      "1114        1114       Wyoming            38000                58      242000   \n",
      "\n",
      "       stocks  average_price  value_of_production  year  \n",
      "0       28000          62.00               575000  1995  \n",
      "1      986000          68.00              2793000  1995  \n",
      "2      900000          64.00              1920000  1995  \n",
      "3     4687000          60.00             23436000  1995  \n",
      "4     1404000          68.00              1836000  1995  \n",
      "...       ...            ...                  ...   ...  \n",
      "1110    79000           8.23              1975000  2021  \n",
      "1111  1206000           2.52              7741000  2021  \n",
      "1112   136000           4.80              1238000  2021  \n",
      "1113   750000           2.81              5547000  2021  \n",
      "1114   242000           2.07              4562000  2021  \n",
      "\n",
      "[1115 rows x 9 columns]\n"
     ]
    }
   ],
   "source": [
    "# Filter groups with total sales > 350\n",
    "filtered = honey.groupby('state').filter(lambda x: x['production'].sum() > 653000)\n",
    "print(filtered)"
   ]
  },
  {
   "cell_type": "code",
   "execution_count": 52,
   "id": "22cc9fd1-12e2-4bd0-bef1-81f8b842f5cb",
   "metadata": {},
   "outputs": [
    {
     "name": "stdout",
     "output_type": "stream",
     "text": [
      "0        392185.19\n",
      "1       2669333.33\n",
      "2       1079777.78\n",
      "3      23360888.89\n",
      "4       1490370.37\n",
      "           ...    \n",
      "1110    -111851.85\n",
      "1111    -765777.78\n",
      "1112    -101444.44\n",
      "1113   -2950333.33\n",
      "1114   -1384703.70\n",
      "Name: production, Length: 1115, dtype: float64\n"
     ]
    }
   ],
   "source": [
    "adjusted = honey.groupby('state')['production'].transform(lambda x: x - x.mean())\n",
    "print(adjusted)"
   ]
  },
  {
   "cell_type": "code",
   "execution_count": 53,
   "id": "e6e4ca62-1c9d-4199-bd01-897011d0dc4f",
   "metadata": {},
   "outputs": [],
   "source": [
    "new=honey[honey['state']=='Alabama']"
   ]
  },
  {
   "cell_type": "code",
   "execution_count": 54,
   "id": "4b82a3e5-27ad-4b26-87f6-e16b4d472370",
   "metadata": {},
   "outputs": [],
   "source": [
    "new.to_csv('outpur.csv', index=False, na_rep='MISSING')"
   ]
  },
  {
   "cell_type": "code",
   "execution_count": 55,
   "id": "9e3a6a38-0676-4ed7-8af5-4e55ea22a218",
   "metadata": {},
   "outputs": [
    {
     "ename": "FileNotFoundError",
     "evalue": "[Errno 2] No such file or directory: 'report.xlsx'",
     "output_type": "error",
     "traceback": [
      "\u001b[1;31m---------------------------------------------------------------------------\u001b[0m",
      "\u001b[1;31mFileNotFoundError\u001b[0m                         Traceback (most recent call last)",
      "Cell \u001b[1;32mIn[55], line 1\u001b[0m\n\u001b[1;32m----> 1\u001b[0m df_xl \u001b[38;5;241m=\u001b[39m pd\u001b[38;5;241m.\u001b[39mread_excel(\u001b[38;5;124m'\u001b[39m\u001b[38;5;124mreport.xlsx\u001b[39m\u001b[38;5;124m'\u001b[39m,\n\u001b[0;32m      2\u001b[0m                       sheet_name\u001b[38;5;241m=\u001b[39m\u001b[38;5;124m'\u001b[39m\u001b[38;5;124mSheet1\u001b[39m\u001b[38;5;124m'\u001b[39m,\n\u001b[0;32m      3\u001b[0m                       header\u001b[38;5;241m=\u001b[39m\u001b[38;5;241m0\u001b[39m,          \u001b[38;5;66;03m# row for column names\u001b[39;00m\n\u001b[0;32m      4\u001b[0m                       usecols\u001b[38;5;241m=\u001b[39m\u001b[38;5;124m'\u001b[39m\u001b[38;5;124mA:C\u001b[39m\u001b[38;5;124m'\u001b[39m)     \u001b[38;5;66;03m# select columns\u001b[39;00m\n\u001b[0;32m      5\u001b[0m \u001b[38;5;28mprint\u001b[39m(df_xl\u001b[38;5;241m.\u001b[39mhead())\n",
      "File \u001b[1;32mD:\\python\\Lib\\site-packages\\pandas\\io\\excel\\_base.py:495\u001b[0m, in \u001b[0;36mread_excel\u001b[1;34m(io, sheet_name, header, names, index_col, usecols, dtype, engine, converters, true_values, false_values, skiprows, nrows, na_values, keep_default_na, na_filter, verbose, parse_dates, date_parser, date_format, thousands, decimal, comment, skipfooter, storage_options, dtype_backend, engine_kwargs)\u001b[0m\n\u001b[0;32m    493\u001b[0m \u001b[38;5;28;01mif\u001b[39;00m \u001b[38;5;129;01mnot\u001b[39;00m \u001b[38;5;28misinstance\u001b[39m(io, ExcelFile):\n\u001b[0;32m    494\u001b[0m     should_close \u001b[38;5;241m=\u001b[39m \u001b[38;5;28;01mTrue\u001b[39;00m\n\u001b[1;32m--> 495\u001b[0m     io \u001b[38;5;241m=\u001b[39m ExcelFile(\n\u001b[0;32m    496\u001b[0m         io,\n\u001b[0;32m    497\u001b[0m         storage_options\u001b[38;5;241m=\u001b[39mstorage_options,\n\u001b[0;32m    498\u001b[0m         engine\u001b[38;5;241m=\u001b[39mengine,\n\u001b[0;32m    499\u001b[0m         engine_kwargs\u001b[38;5;241m=\u001b[39mengine_kwargs,\n\u001b[0;32m    500\u001b[0m     )\n\u001b[0;32m    501\u001b[0m \u001b[38;5;28;01melif\u001b[39;00m engine \u001b[38;5;129;01mand\u001b[39;00m engine \u001b[38;5;241m!=\u001b[39m io\u001b[38;5;241m.\u001b[39mengine:\n\u001b[0;32m    502\u001b[0m     \u001b[38;5;28;01mraise\u001b[39;00m \u001b[38;5;167;01mValueError\u001b[39;00m(\n\u001b[0;32m    503\u001b[0m         \u001b[38;5;124m\"\u001b[39m\u001b[38;5;124mEngine should not be specified when passing \u001b[39m\u001b[38;5;124m\"\u001b[39m\n\u001b[0;32m    504\u001b[0m         \u001b[38;5;124m\"\u001b[39m\u001b[38;5;124man ExcelFile - ExcelFile already has the engine set\u001b[39m\u001b[38;5;124m\"\u001b[39m\n\u001b[0;32m    505\u001b[0m     )\n",
      "File \u001b[1;32mD:\\python\\Lib\\site-packages\\pandas\\io\\excel\\_base.py:1550\u001b[0m, in \u001b[0;36mExcelFile.__init__\u001b[1;34m(self, path_or_buffer, engine, storage_options, engine_kwargs)\u001b[0m\n\u001b[0;32m   1548\u001b[0m     ext \u001b[38;5;241m=\u001b[39m \u001b[38;5;124m\"\u001b[39m\u001b[38;5;124mxls\u001b[39m\u001b[38;5;124m\"\u001b[39m\n\u001b[0;32m   1549\u001b[0m \u001b[38;5;28;01melse\u001b[39;00m:\n\u001b[1;32m-> 1550\u001b[0m     ext \u001b[38;5;241m=\u001b[39m inspect_excel_format(\n\u001b[0;32m   1551\u001b[0m         content_or_path\u001b[38;5;241m=\u001b[39mpath_or_buffer, storage_options\u001b[38;5;241m=\u001b[39mstorage_options\n\u001b[0;32m   1552\u001b[0m     )\n\u001b[0;32m   1553\u001b[0m     \u001b[38;5;28;01mif\u001b[39;00m ext \u001b[38;5;129;01mis\u001b[39;00m \u001b[38;5;28;01mNone\u001b[39;00m:\n\u001b[0;32m   1554\u001b[0m         \u001b[38;5;28;01mraise\u001b[39;00m \u001b[38;5;167;01mValueError\u001b[39;00m(\n\u001b[0;32m   1555\u001b[0m             \u001b[38;5;124m\"\u001b[39m\u001b[38;5;124mExcel file format cannot be determined, you must specify \u001b[39m\u001b[38;5;124m\"\u001b[39m\n\u001b[0;32m   1556\u001b[0m             \u001b[38;5;124m\"\u001b[39m\u001b[38;5;124man engine manually.\u001b[39m\u001b[38;5;124m\"\u001b[39m\n\u001b[0;32m   1557\u001b[0m         )\n",
      "File \u001b[1;32mD:\\python\\Lib\\site-packages\\pandas\\io\\excel\\_base.py:1402\u001b[0m, in \u001b[0;36minspect_excel_format\u001b[1;34m(content_or_path, storage_options)\u001b[0m\n\u001b[0;32m   1399\u001b[0m \u001b[38;5;28;01mif\u001b[39;00m \u001b[38;5;28misinstance\u001b[39m(content_or_path, \u001b[38;5;28mbytes\u001b[39m):\n\u001b[0;32m   1400\u001b[0m     content_or_path \u001b[38;5;241m=\u001b[39m BytesIO(content_or_path)\n\u001b[1;32m-> 1402\u001b[0m \u001b[38;5;28;01mwith\u001b[39;00m get_handle(\n\u001b[0;32m   1403\u001b[0m     content_or_path, \u001b[38;5;124m\"\u001b[39m\u001b[38;5;124mrb\u001b[39m\u001b[38;5;124m\"\u001b[39m, storage_options\u001b[38;5;241m=\u001b[39mstorage_options, is_text\u001b[38;5;241m=\u001b[39m\u001b[38;5;28;01mFalse\u001b[39;00m\n\u001b[0;32m   1404\u001b[0m ) \u001b[38;5;28;01mas\u001b[39;00m handle:\n\u001b[0;32m   1405\u001b[0m     stream \u001b[38;5;241m=\u001b[39m handle\u001b[38;5;241m.\u001b[39mhandle\n\u001b[0;32m   1406\u001b[0m     stream\u001b[38;5;241m.\u001b[39mseek(\u001b[38;5;241m0\u001b[39m)\n",
      "File \u001b[1;32mD:\\python\\Lib\\site-packages\\pandas\\io\\common.py:882\u001b[0m, in \u001b[0;36mget_handle\u001b[1;34m(path_or_buf, mode, encoding, compression, memory_map, is_text, errors, storage_options)\u001b[0m\n\u001b[0;32m    873\u001b[0m         handle \u001b[38;5;241m=\u001b[39m \u001b[38;5;28mopen\u001b[39m(\n\u001b[0;32m    874\u001b[0m             handle,\n\u001b[0;32m    875\u001b[0m             ioargs\u001b[38;5;241m.\u001b[39mmode,\n\u001b[1;32m   (...)\u001b[0m\n\u001b[0;32m    878\u001b[0m             newline\u001b[38;5;241m=\u001b[39m\u001b[38;5;124m\"\u001b[39m\u001b[38;5;124m\"\u001b[39m,\n\u001b[0;32m    879\u001b[0m         )\n\u001b[0;32m    880\u001b[0m     \u001b[38;5;28;01melse\u001b[39;00m:\n\u001b[0;32m    881\u001b[0m         \u001b[38;5;66;03m# Binary mode\u001b[39;00m\n\u001b[1;32m--> 882\u001b[0m         handle \u001b[38;5;241m=\u001b[39m \u001b[38;5;28mopen\u001b[39m(handle, ioargs\u001b[38;5;241m.\u001b[39mmode)\n\u001b[0;32m    883\u001b[0m     handles\u001b[38;5;241m.\u001b[39mappend(handle)\n\u001b[0;32m    885\u001b[0m \u001b[38;5;66;03m# Convert BytesIO or file objects passed with an encoding\u001b[39;00m\n",
      "\u001b[1;31mFileNotFoundError\u001b[0m: [Errno 2] No such file or directory: 'report.xlsx'"
     ]
    }
   ],
   "source": [
    "df_xl = pd.read_excel('report.xlsx',\n",
    "                      sheet_name='Sheet1',\n",
    "                      header=0,          # row for column names\n",
    "                      usecols='A:C')     # select columns\n",
    "print(df_xl.head())"
   ]
  },
  {
   "cell_type": "code",
   "execution_count": 56,
   "id": "028d4ea2-68f8-4a4c-b041-2b6cc2aa931c",
   "metadata": {},
   "outputs": [
    {
     "ename": "ValueError",
     "evalue": "If using all scalar values, you must pass an index",
     "output_type": "error",
     "traceback": [
      "\u001b[1;31m---------------------------------------------------------------------------\u001b[0m",
      "\u001b[1;31mValueError\u001b[0m                                Traceback (most recent call last)",
      "Cell \u001b[1;32mIn[56], line 1\u001b[0m\n\u001b[1;32m----> 1\u001b[0m df_json \u001b[38;5;241m=\u001b[39m pd\u001b[38;5;241m.\u001b[39mread_json(\u001b[38;5;124m'\u001b[39m\u001b[38;5;124mdata.json\u001b[39m\u001b[38;5;124m'\u001b[39m, orient\u001b[38;5;241m=\u001b[39m\u001b[38;5;124m'\u001b[39m\u001b[38;5;124mrecords\u001b[39m\u001b[38;5;124m'\u001b[39m)\n\u001b[0;32m      2\u001b[0m \u001b[38;5;28mprint\u001b[39m(df_json\u001b[38;5;241m.\u001b[39minfo())\n",
      "File \u001b[1;32mD:\\python\\Lib\\site-packages\\pandas\\io\\json\\_json.py:815\u001b[0m, in \u001b[0;36mread_json\u001b[1;34m(path_or_buf, orient, typ, dtype, convert_axes, convert_dates, keep_default_dates, precise_float, date_unit, encoding, encoding_errors, lines, chunksize, compression, nrows, storage_options, dtype_backend, engine)\u001b[0m\n\u001b[0;32m    813\u001b[0m     \u001b[38;5;28;01mreturn\u001b[39;00m json_reader\n\u001b[0;32m    814\u001b[0m \u001b[38;5;28;01melse\u001b[39;00m:\n\u001b[1;32m--> 815\u001b[0m     \u001b[38;5;28;01mreturn\u001b[39;00m json_reader\u001b[38;5;241m.\u001b[39mread()\n",
      "File \u001b[1;32mD:\\python\\Lib\\site-packages\\pandas\\io\\json\\_json.py:1025\u001b[0m, in \u001b[0;36mJsonReader.read\u001b[1;34m(self)\u001b[0m\n\u001b[0;32m   1023\u001b[0m         obj \u001b[38;5;241m=\u001b[39m \u001b[38;5;28mself\u001b[39m\u001b[38;5;241m.\u001b[39m_get_object_parser(\u001b[38;5;28mself\u001b[39m\u001b[38;5;241m.\u001b[39m_combine_lines(data_lines))\n\u001b[0;32m   1024\u001b[0m \u001b[38;5;28;01melse\u001b[39;00m:\n\u001b[1;32m-> 1025\u001b[0m     obj \u001b[38;5;241m=\u001b[39m \u001b[38;5;28mself\u001b[39m\u001b[38;5;241m.\u001b[39m_get_object_parser(\u001b[38;5;28mself\u001b[39m\u001b[38;5;241m.\u001b[39mdata)\n\u001b[0;32m   1026\u001b[0m \u001b[38;5;28;01mif\u001b[39;00m \u001b[38;5;28mself\u001b[39m\u001b[38;5;241m.\u001b[39mdtype_backend \u001b[38;5;129;01mis\u001b[39;00m \u001b[38;5;129;01mnot\u001b[39;00m lib\u001b[38;5;241m.\u001b[39mno_default:\n\u001b[0;32m   1027\u001b[0m     \u001b[38;5;28;01mreturn\u001b[39;00m obj\u001b[38;5;241m.\u001b[39mconvert_dtypes(\n\u001b[0;32m   1028\u001b[0m         infer_objects\u001b[38;5;241m=\u001b[39m\u001b[38;5;28;01mFalse\u001b[39;00m, dtype_backend\u001b[38;5;241m=\u001b[39m\u001b[38;5;28mself\u001b[39m\u001b[38;5;241m.\u001b[39mdtype_backend\n\u001b[0;32m   1029\u001b[0m     )\n",
      "File \u001b[1;32mD:\\python\\Lib\\site-packages\\pandas\\io\\json\\_json.py:1051\u001b[0m, in \u001b[0;36mJsonReader._get_object_parser\u001b[1;34m(self, json)\u001b[0m\n\u001b[0;32m   1049\u001b[0m obj \u001b[38;5;241m=\u001b[39m \u001b[38;5;28;01mNone\u001b[39;00m\n\u001b[0;32m   1050\u001b[0m \u001b[38;5;28;01mif\u001b[39;00m typ \u001b[38;5;241m==\u001b[39m \u001b[38;5;124m\"\u001b[39m\u001b[38;5;124mframe\u001b[39m\u001b[38;5;124m\"\u001b[39m:\n\u001b[1;32m-> 1051\u001b[0m     obj \u001b[38;5;241m=\u001b[39m FrameParser(json, \u001b[38;5;241m*\u001b[39m\u001b[38;5;241m*\u001b[39mkwargs)\u001b[38;5;241m.\u001b[39mparse()\n\u001b[0;32m   1053\u001b[0m \u001b[38;5;28;01mif\u001b[39;00m typ \u001b[38;5;241m==\u001b[39m \u001b[38;5;124m\"\u001b[39m\u001b[38;5;124mseries\u001b[39m\u001b[38;5;124m\"\u001b[39m \u001b[38;5;129;01mor\u001b[39;00m obj \u001b[38;5;129;01mis\u001b[39;00m \u001b[38;5;28;01mNone\u001b[39;00m:\n\u001b[0;32m   1054\u001b[0m     \u001b[38;5;28;01mif\u001b[39;00m \u001b[38;5;129;01mnot\u001b[39;00m \u001b[38;5;28misinstance\u001b[39m(dtype, \u001b[38;5;28mbool\u001b[39m):\n",
      "File \u001b[1;32mD:\\python\\Lib\\site-packages\\pandas\\io\\json\\_json.py:1187\u001b[0m, in \u001b[0;36mParser.parse\u001b[1;34m(self)\u001b[0m\n\u001b[0;32m   1185\u001b[0m \u001b[38;5;129m@final\u001b[39m\n\u001b[0;32m   1186\u001b[0m \u001b[38;5;28;01mdef\u001b[39;00m \u001b[38;5;21mparse\u001b[39m(\u001b[38;5;28mself\u001b[39m):\n\u001b[1;32m-> 1187\u001b[0m     \u001b[38;5;28mself\u001b[39m\u001b[38;5;241m.\u001b[39m_parse()\n\u001b[0;32m   1189\u001b[0m     \u001b[38;5;28;01mif\u001b[39;00m \u001b[38;5;28mself\u001b[39m\u001b[38;5;241m.\u001b[39mobj \u001b[38;5;129;01mis\u001b[39;00m \u001b[38;5;28;01mNone\u001b[39;00m:\n\u001b[0;32m   1190\u001b[0m         \u001b[38;5;28;01mreturn\u001b[39;00m \u001b[38;5;28;01mNone\u001b[39;00m\n",
      "File \u001b[1;32mD:\\python\\Lib\\site-packages\\pandas\\io\\json\\_json.py:1429\u001b[0m, in \u001b[0;36mFrameParser._parse\u001b[1;34m(self)\u001b[0m\n\u001b[0;32m   1427\u001b[0m     \u001b[38;5;28mself\u001b[39m\u001b[38;5;241m.\u001b[39mobj \u001b[38;5;241m=\u001b[39m parse_table_schema(json, precise_float\u001b[38;5;241m=\u001b[39m\u001b[38;5;28mself\u001b[39m\u001b[38;5;241m.\u001b[39mprecise_float)\n\u001b[0;32m   1428\u001b[0m \u001b[38;5;28;01melse\u001b[39;00m:\n\u001b[1;32m-> 1429\u001b[0m     \u001b[38;5;28mself\u001b[39m\u001b[38;5;241m.\u001b[39mobj \u001b[38;5;241m=\u001b[39m DataFrame(\n\u001b[0;32m   1430\u001b[0m         ujson_loads(json, precise_float\u001b[38;5;241m=\u001b[39m\u001b[38;5;28mself\u001b[39m\u001b[38;5;241m.\u001b[39mprecise_float), dtype\u001b[38;5;241m=\u001b[39m\u001b[38;5;28;01mNone\u001b[39;00m\n\u001b[0;32m   1431\u001b[0m     )\n",
      "File \u001b[1;32mD:\\python\\Lib\\site-packages\\pandas\\core\\frame.py:778\u001b[0m, in \u001b[0;36mDataFrame.__init__\u001b[1;34m(self, data, index, columns, dtype, copy)\u001b[0m\n\u001b[0;32m    772\u001b[0m     mgr \u001b[38;5;241m=\u001b[39m \u001b[38;5;28mself\u001b[39m\u001b[38;5;241m.\u001b[39m_init_mgr(\n\u001b[0;32m    773\u001b[0m         data, axes\u001b[38;5;241m=\u001b[39m{\u001b[38;5;124m\"\u001b[39m\u001b[38;5;124mindex\u001b[39m\u001b[38;5;124m\"\u001b[39m: index, \u001b[38;5;124m\"\u001b[39m\u001b[38;5;124mcolumns\u001b[39m\u001b[38;5;124m\"\u001b[39m: columns}, dtype\u001b[38;5;241m=\u001b[39mdtype, copy\u001b[38;5;241m=\u001b[39mcopy\n\u001b[0;32m    774\u001b[0m     )\n\u001b[0;32m    776\u001b[0m \u001b[38;5;28;01melif\u001b[39;00m \u001b[38;5;28misinstance\u001b[39m(data, \u001b[38;5;28mdict\u001b[39m):\n\u001b[0;32m    777\u001b[0m     \u001b[38;5;66;03m# GH#38939 de facto copy defaults to False only in non-dict cases\u001b[39;00m\n\u001b[1;32m--> 778\u001b[0m     mgr \u001b[38;5;241m=\u001b[39m dict_to_mgr(data, index, columns, dtype\u001b[38;5;241m=\u001b[39mdtype, copy\u001b[38;5;241m=\u001b[39mcopy, typ\u001b[38;5;241m=\u001b[39mmanager)\n\u001b[0;32m    779\u001b[0m \u001b[38;5;28;01melif\u001b[39;00m \u001b[38;5;28misinstance\u001b[39m(data, ma\u001b[38;5;241m.\u001b[39mMaskedArray):\n\u001b[0;32m    780\u001b[0m     \u001b[38;5;28;01mfrom\u001b[39;00m \u001b[38;5;21;01mnumpy\u001b[39;00m\u001b[38;5;21;01m.\u001b[39;00m\u001b[38;5;21;01mma\u001b[39;00m \u001b[38;5;28;01mimport\u001b[39;00m mrecords\n",
      "File \u001b[1;32mD:\\python\\Lib\\site-packages\\pandas\\core\\internals\\construction.py:503\u001b[0m, in \u001b[0;36mdict_to_mgr\u001b[1;34m(data, index, columns, dtype, typ, copy)\u001b[0m\n\u001b[0;32m    499\u001b[0m     \u001b[38;5;28;01melse\u001b[39;00m:\n\u001b[0;32m    500\u001b[0m         \u001b[38;5;66;03m# dtype check to exclude e.g. range objects, scalars\u001b[39;00m\n\u001b[0;32m    501\u001b[0m         arrays \u001b[38;5;241m=\u001b[39m [x\u001b[38;5;241m.\u001b[39mcopy() \u001b[38;5;28;01mif\u001b[39;00m \u001b[38;5;28mhasattr\u001b[39m(x, \u001b[38;5;124m\"\u001b[39m\u001b[38;5;124mdtype\u001b[39m\u001b[38;5;124m\"\u001b[39m) \u001b[38;5;28;01melse\u001b[39;00m x \u001b[38;5;28;01mfor\u001b[39;00m x \u001b[38;5;129;01min\u001b[39;00m arrays]\n\u001b[1;32m--> 503\u001b[0m \u001b[38;5;28;01mreturn\u001b[39;00m arrays_to_mgr(arrays, columns, index, dtype\u001b[38;5;241m=\u001b[39mdtype, typ\u001b[38;5;241m=\u001b[39mtyp, consolidate\u001b[38;5;241m=\u001b[39mcopy)\n",
      "File \u001b[1;32mD:\\python\\Lib\\site-packages\\pandas\\core\\internals\\construction.py:114\u001b[0m, in \u001b[0;36marrays_to_mgr\u001b[1;34m(arrays, columns, index, dtype, verify_integrity, typ, consolidate)\u001b[0m\n\u001b[0;32m    111\u001b[0m \u001b[38;5;28;01mif\u001b[39;00m verify_integrity:\n\u001b[0;32m    112\u001b[0m     \u001b[38;5;66;03m# figure out the index, if necessary\u001b[39;00m\n\u001b[0;32m    113\u001b[0m     \u001b[38;5;28;01mif\u001b[39;00m index \u001b[38;5;129;01mis\u001b[39;00m \u001b[38;5;28;01mNone\u001b[39;00m:\n\u001b[1;32m--> 114\u001b[0m         index \u001b[38;5;241m=\u001b[39m _extract_index(arrays)\n\u001b[0;32m    115\u001b[0m     \u001b[38;5;28;01melse\u001b[39;00m:\n\u001b[0;32m    116\u001b[0m         index \u001b[38;5;241m=\u001b[39m ensure_index(index)\n",
      "File \u001b[1;32mD:\\python\\Lib\\site-packages\\pandas\\core\\internals\\construction.py:667\u001b[0m, in \u001b[0;36m_extract_index\u001b[1;34m(data)\u001b[0m\n\u001b[0;32m    664\u001b[0m         \u001b[38;5;28;01mraise\u001b[39;00m \u001b[38;5;167;01mValueError\u001b[39;00m(\u001b[38;5;124m\"\u001b[39m\u001b[38;5;124mPer-column arrays must each be 1-dimensional\u001b[39m\u001b[38;5;124m\"\u001b[39m)\n\u001b[0;32m    666\u001b[0m \u001b[38;5;28;01mif\u001b[39;00m \u001b[38;5;129;01mnot\u001b[39;00m indexes \u001b[38;5;129;01mand\u001b[39;00m \u001b[38;5;129;01mnot\u001b[39;00m raw_lengths:\n\u001b[1;32m--> 667\u001b[0m     \u001b[38;5;28;01mraise\u001b[39;00m \u001b[38;5;167;01mValueError\u001b[39;00m(\u001b[38;5;124m\"\u001b[39m\u001b[38;5;124mIf using all scalar values, you must pass an index\u001b[39m\u001b[38;5;124m\"\u001b[39m)\n\u001b[0;32m    669\u001b[0m \u001b[38;5;28;01mif\u001b[39;00m have_series:\n\u001b[0;32m    670\u001b[0m     index \u001b[38;5;241m=\u001b[39m union_indexes(indexes)\n",
      "\u001b[1;31mValueError\u001b[0m: If using all scalar values, you must pass an index"
     ]
    }
   ],
   "source": [
    "df_json = pd.read_json('data.json', orient='records')\n",
    "print(df_json.info())"
   ]
  },
  {
   "cell_type": "code",
   "execution_count": null,
   "id": "0613252c-9fdd-4f1e-90e9-375e1d9b6044",
   "metadata": {},
   "outputs": [],
   "source": [
    "df_json.to_json('out.json',\n",
    "                orient='records',\n",
    "                date_format='iso',\n",
    "                indent=2)"
   ]
  },
  {
   "cell_type": "code",
   "execution_count": null,
   "id": "839abc17-447b-4808-9855-1aea559cc96b",
   "metadata": {},
   "outputs": [],
   "source": [
    "twostates=honey[honey['state'].isin(['Alabama', 'Arizona'])]"
   ]
  },
  {
   "cell_type": "code",
   "execution_count": null,
   "id": "5619b5cd-c97d-4d84-833e-4d3b89be6da6",
   "metadata": {},
   "outputs": [],
   "source": [
    "twostates=twostates[['state', 'production', 'year']]"
   ]
  },
  {
   "cell_type": "code",
   "execution_count": 57,
   "id": "45dcd08f-63da-453f-a881-f227d39918d8",
   "metadata": {},
   "outputs": [
    {
     "ename": "NameError",
     "evalue": "name 'twostates' is not defined",
     "output_type": "error",
     "traceback": [
      "\u001b[1;31m---------------------------------------------------------------------------\u001b[0m",
      "\u001b[1;31mNameError\u001b[0m                                 Traceback (most recent call last)",
      "Cell \u001b[1;32mIn[57], line 1\u001b[0m\n\u001b[1;32m----> 1\u001b[0m pivot_states\u001b[38;5;241m=\u001b[39mtwostates\u001b[38;5;241m.\u001b[39mpivot(index\u001b[38;5;241m=\u001b[39m\u001b[38;5;124m'\u001b[39m\u001b[38;5;124myear\u001b[39m\u001b[38;5;124m'\u001b[39m, columns\u001b[38;5;241m=\u001b[39m\u001b[38;5;124m'\u001b[39m\u001b[38;5;124mstate\u001b[39m\u001b[38;5;124m'\u001b[39m, values\u001b[38;5;241m=\u001b[39m\u001b[38;5;124m'\u001b[39m\u001b[38;5;124mproduction\u001b[39m\u001b[38;5;124m'\u001b[39m)\n",
      "\u001b[1;31mNameError\u001b[0m: name 'twostates' is not defined"
     ]
    }
   ],
   "source": [
    "pivot_states=twostates.pivot(index='year', columns='state', values='production')"
   ]
  },
  {
   "cell_type": "code",
   "execution_count": 58,
   "id": "6274e5bf-96b7-428f-b656-0f747e5090e5",
   "metadata": {},
   "outputs": [
    {
     "ename": "NameError",
     "evalue": "name 'pivot_states' is not defined",
     "output_type": "error",
     "traceback": [
      "\u001b[1;31m---------------------------------------------------------------------------\u001b[0m",
      "\u001b[1;31mNameError\u001b[0m                                 Traceback (most recent call last)",
      "Cell \u001b[1;32mIn[58], line 1\u001b[0m\n\u001b[1;32m----> 1\u001b[0m pivot_states\n",
      "\u001b[1;31mNameError\u001b[0m: name 'pivot_states' is not defined"
     ]
    }
   ],
   "source": [
    "pivot_states"
   ]
  },
  {
   "cell_type": "code",
   "execution_count": null,
   "id": "c63c7158-4a05-4fc7-98f1-26ce6846f051",
   "metadata": {},
   "outputs": [],
   "source": []
  },
  {
   "cell_type": "code",
   "execution_count": 59,
   "id": "1a629c9c-d854-45d7-ba81-986b03c899d7",
   "metadata": {},
   "outputs": [
    {
     "name": "stdout",
     "output_type": "stream",
     "text": [
      "                  production  colonies_number  yield_per_colony\n",
      "production              1.00             0.74              0.41\n",
      "colonies_number         0.74             1.00              0.20\n",
      "yield_per_colony        0.41             0.20              1.00\n"
     ]
    }
   ],
   "source": [
    "corr = honey[['production','colonies_number','yield_per_colony']].corr()\n",
    "print(corr)"
   ]
  },
  {
   "cell_type": "code",
   "execution_count": 60,
   "id": "9387000c-d8fb-4e9b-9c5d-54d33c42026b",
   "metadata": {},
   "outputs": [
    {
     "ename": "NameError",
     "evalue": "name 'pivot_states' is not defined",
     "output_type": "error",
     "traceback": [
      "\u001b[1;31m---------------------------------------------------------------------------\u001b[0m",
      "\u001b[1;31mNameError\u001b[0m                                 Traceback (most recent call last)",
      "Cell \u001b[1;32mIn[60], line 1\u001b[0m\n\u001b[1;32m----> 1\u001b[0m yoy \u001b[38;5;241m=\u001b[39m pivot_states\u001b[38;5;241m.\u001b[39mpct_change() \u001b[38;5;241m*\u001b[39m \u001b[38;5;241m100\u001b[39m\n\u001b[0;32m      2\u001b[0m \u001b[38;5;28mprint\u001b[39m(yoy\u001b[38;5;241m.\u001b[39mhead())\n",
      "\u001b[1;31mNameError\u001b[0m: name 'pivot_states' is not defined"
     ]
    }
   ],
   "source": [
    "yoy = pivot_states.pct_change() * 100\n",
    "print(yoy.head())"
   ]
  },
  {
   "cell_type": "code",
   "execution_count": 61,
   "id": "450b6f1b-74f4-4721-bb94-c39af9dbeb77",
   "metadata": {},
   "outputs": [
    {
     "name": "stdout",
     "output_type": "stream",
     "text": [
      "   CustomerID   Name  OrderID  Amount\n",
      "0           1  Alice      101     250\n",
      "1           2    Bob      102     450\n",
      "2           2    Bob      103     125\n"
     ]
    }
   ],
   "source": [
    "customers = pd.DataFrame({\n",
    "    'CustomerID': [1,2,3],\n",
    "    'Name': ['Alice','Bob','Charlie']\n",
    "})\n",
    "orders = pd.DataFrame({\n",
    "    'OrderID': [101,102,103],\n",
    "    'CustomerID': [1,2,2],\n",
    "    'Amount': [250, 450, 125]\n",
    "})\n",
    "merged_inner = pd.merge(customers, orders, on='CustomerID')\n",
    "print(merged_inner)"
   ]
  },
  {
   "cell_type": "code",
   "execution_count": 62,
   "id": "ebceef17-8a78-4c70-bd48-04488f67f2e7",
   "metadata": {},
   "outputs": [],
   "source": [
    "merged_outer = pd.merge(customers, orders, on='CustomerID', how='outer')"
   ]
  },
  {
   "cell_type": "code",
   "execution_count": 63,
   "id": "5c02a03e-5811-402a-bc2e-b870fbb24f86",
   "metadata": {},
   "outputs": [
    {
     "name": "stdout",
     "output_type": "stream",
     "text": [
      "   CustomerID     Name  OrderID  Amount\n",
      "0           1    Alice   101.00  250.00\n",
      "1           2      Bob   102.00  450.00\n",
      "2           2      Bob   103.00  125.00\n",
      "3           3  Charlie      NaN     NaN\n"
     ]
    }
   ],
   "source": [
    "print(merged_outer)"
   ]
  },
  {
   "cell_type": "code",
   "execution_count": 64,
   "id": "9bcebe14-31ba-4e18-96c8-7a20c32b3660",
   "metadata": {},
   "outputs": [],
   "source": [
    "merged_left = pd.merge(customers, orders, on='CustomerID', how='left')"
   ]
  },
  {
   "cell_type": "code",
   "execution_count": 65,
   "id": "61471cfb-16c3-42e5-acb9-56f13fdbe22f",
   "metadata": {},
   "outputs": [
    {
     "name": "stdout",
     "output_type": "stream",
     "text": [
      "   CustomerID     Name  OrderID  Amount\n",
      "0           1    Alice   101.00  250.00\n",
      "1           2      Bob   102.00  450.00\n",
      "2           2      Bob   103.00  125.00\n",
      "3           3  Charlie      NaN     NaN\n"
     ]
    }
   ],
   "source": [
    "print(merged_left)"
   ]
  },
  {
   "cell_type": "code",
   "execution_count": 66,
   "id": "8d4ec1e0-d81c-48cd-81ac-38312874936a",
   "metadata": {},
   "outputs": [],
   "source": [
    "merged_right = pd.merge(customers, orders, on='CustomerID', how='right')"
   ]
  },
  {
   "cell_type": "code",
   "execution_count": 67,
   "id": "c9fc43d0-f329-4d3b-9890-acf7c69e84d2",
   "metadata": {},
   "outputs": [
    {
     "name": "stdout",
     "output_type": "stream",
     "text": [
      "   CustomerID   Name  OrderID  Amount\n",
      "0           1  Alice      101     250\n",
      "1           2    Bob      102     450\n",
      "2           2    Bob      103     125\n"
     ]
    }
   ],
   "source": [
    "print(merged_right)"
   ]
  },
  {
   "cell_type": "code",
   "execution_count": 68,
   "id": "7686d4fb-32db-41ce-8446-7a804b215c7a",
   "metadata": {},
   "outputs": [],
   "source": [
    "mask = (honey['year'] >= 1995) & (honey['year'] <= 2000)"
   ]
  },
  {
   "cell_type": "code",
   "execution_count": 69,
   "id": "2824c676-9ee8-4b9a-a855-3e02b83778e9",
   "metadata": {},
   "outputs": [
    {
     "name": "stdout",
     "output_type": "stream",
     "text": [
      "0        True\n",
      "1        True\n",
      "2        True\n",
      "3        True\n",
      "4        True\n",
      "        ...  \n",
      "1110    False\n",
      "1111    False\n",
      "1112    False\n",
      "1113    False\n",
      "1114    False\n",
      "Name: year, Length: 1115, dtype: bool\n"
     ]
    }
   ],
   "source": [
    "print(mask)"
   ]
  },
  {
   "cell_type": "code",
   "execution_count": 79,
   "id": "8b2741a2-57fe-4b99-9c34-0b243b6ec64b",
   "metadata": {},
   "outputs": [],
   "source": [
    "rangee = honey[(honey['year'] >= 1995) & (honey['year'] <= 2000)][['production']]"
   ]
  },
  {
   "cell_type": "code",
   "execution_count": 80,
   "id": "c868f8d3-b6a5-487c-82a5-1cf698a539c5",
   "metadata": {},
   "outputs": [
    {
     "name": "stdout",
     "output_type": "stream",
     "text": [
      "     production\n",
      "0        928000\n",
      "1       4108000\n",
      "2       3000000\n",
      "3      39060000\n",
      "4       2700000\n",
      "..          ...\n",
      "255      294000\n",
      "256     2808000\n",
      "257      378000\n",
      "258     7560000\n",
      "259     3627000\n",
      "\n",
      "[260 rows x 1 columns]\n"
     ]
    }
   ],
   "source": [
    "print(rangee)"
   ]
  },
  {
   "cell_type": "code",
   "execution_count": 83,
   "id": "a28cb1c5-0d70-49ab-8338-c886947dddf8",
   "metadata": {},
   "outputs": [],
   "source": [
    "states=honey[['state', 'production', 'year']]"
   ]
  },
  {
   "cell_type": "code",
   "execution_count": 85,
   "id": "12c5cf10-7896-4441-8fad-0c70afd71030",
   "metadata": {},
   "outputs": [],
   "source": [
    "states=states[(states['year'] >= 1995) & (states['year'] <= 2000)]"
   ]
  },
  {
   "cell_type": "code",
   "execution_count": 88,
   "id": "169cbe00-5cbe-47b9-be4f-245099f17050",
   "metadata": {},
   "outputs": [
    {
     "data": {
      "text/html": [
       "<div>\n",
       "<style scoped>\n",
       "    .dataframe tbody tr th:only-of-type {\n",
       "        vertical-align: middle;\n",
       "    }\n",
       "\n",
       "    .dataframe tbody tr th {\n",
       "        vertical-align: top;\n",
       "    }\n",
       "\n",
       "    .dataframe thead th {\n",
       "        text-align: right;\n",
       "    }\n",
       "</style>\n",
       "<table border=\"1\" class=\"dataframe\">\n",
       "  <thead>\n",
       "    <tr style=\"text-align: right;\">\n",
       "      <th></th>\n",
       "      <th>Unnamed: 0</th>\n",
       "      <th>state</th>\n",
       "      <th>colonies_number</th>\n",
       "      <th>yield_per_colony</th>\n",
       "      <th>production</th>\n",
       "      <th>stocks</th>\n",
       "      <th>average_price</th>\n",
       "      <th>value_of_production</th>\n",
       "      <th>year</th>\n",
       "    </tr>\n",
       "  </thead>\n",
       "  <tbody>\n",
       "    <tr>\n",
       "      <th>217</th>\n",
       "      <td>217</td>\n",
       "      <td>Alabama</td>\n",
       "      <td>16000</td>\n",
       "      <td>78</td>\n",
       "      <td>1248000</td>\n",
       "      <td>187000</td>\n",
       "      <td>59.00</td>\n",
       "      <td>736000</td>\n",
       "      <td>2000</td>\n",
       "    </tr>\n",
       "    <tr>\n",
       "      <th>218</th>\n",
       "      <td>218</td>\n",
       "      <td>Arizona</td>\n",
       "      <td>40000</td>\n",
       "      <td>59</td>\n",
       "      <td>2360000</td>\n",
       "      <td>1322000</td>\n",
       "      <td>73.00</td>\n",
       "      <td>1723000</td>\n",
       "      <td>2000</td>\n",
       "    </tr>\n",
       "    <tr>\n",
       "      <th>219</th>\n",
       "      <td>219</td>\n",
       "      <td>Arkansas</td>\n",
       "      <td>55000</td>\n",
       "      <td>93</td>\n",
       "      <td>5115000</td>\n",
       "      <td>3529000</td>\n",
       "      <td>57.00</td>\n",
       "      <td>2916000</td>\n",
       "      <td>2000</td>\n",
       "    </tr>\n",
       "    <tr>\n",
       "      <th>220</th>\n",
       "      <td>220</td>\n",
       "      <td>California</td>\n",
       "      <td>440000</td>\n",
       "      <td>70</td>\n",
       "      <td>30800000</td>\n",
       "      <td>11396000</td>\n",
       "      <td>58.00</td>\n",
       "      <td>17864000</td>\n",
       "      <td>2000</td>\n",
       "    </tr>\n",
       "    <tr>\n",
       "      <th>221</th>\n",
       "      <td>221</td>\n",
       "      <td>Colorado</td>\n",
       "      <td>29000</td>\n",
       "      <td>60</td>\n",
       "      <td>1740000</td>\n",
       "      <td>957000</td>\n",
       "      <td>62.00</td>\n",
       "      <td>1079000</td>\n",
       "      <td>2000</td>\n",
       "    </tr>\n",
       "    <tr>\n",
       "      <th>...</th>\n",
       "      <td>...</td>\n",
       "      <td>...</td>\n",
       "      <td>...</td>\n",
       "      <td>...</td>\n",
       "      <td>...</td>\n",
       "      <td>...</td>\n",
       "      <td>...</td>\n",
       "      <td>...</td>\n",
       "      <td>...</td>\n",
       "    </tr>\n",
       "    <tr>\n",
       "      <th>467</th>\n",
       "      <td>467</td>\n",
       "      <td>Virginia</td>\n",
       "      <td>8000</td>\n",
       "      <td>37</td>\n",
       "      <td>296000</td>\n",
       "      <td>59000</td>\n",
       "      <td>221.00</td>\n",
       "      <td>654000</td>\n",
       "      <td>2005</td>\n",
       "    </tr>\n",
       "    <tr>\n",
       "      <th>468</th>\n",
       "      <td>468</td>\n",
       "      <td>Washington</td>\n",
       "      <td>51000</td>\n",
       "      <td>55</td>\n",
       "      <td>2805000</td>\n",
       "      <td>1935000</td>\n",
       "      <td>106.00</td>\n",
       "      <td>2973000</td>\n",
       "      <td>2005</td>\n",
       "    </tr>\n",
       "    <tr>\n",
       "      <th>469</th>\n",
       "      <td>469</td>\n",
       "      <td>WestVirginia</td>\n",
       "      <td>8000</td>\n",
       "      <td>51</td>\n",
       "      <td>408000</td>\n",
       "      <td>102000</td>\n",
       "      <td>124.00</td>\n",
       "      <td>506000</td>\n",
       "      <td>2005</td>\n",
       "    </tr>\n",
       "    <tr>\n",
       "      <th>470</th>\n",
       "      <td>470</td>\n",
       "      <td>Wisconsin</td>\n",
       "      <td>64000</td>\n",
       "      <td>83</td>\n",
       "      <td>5312000</td>\n",
       "      <td>2922000</td>\n",
       "      <td>114.00</td>\n",
       "      <td>6056000</td>\n",
       "      <td>2005</td>\n",
       "    </tr>\n",
       "    <tr>\n",
       "      <th>471</th>\n",
       "      <td>471</td>\n",
       "      <td>Wyoming</td>\n",
       "      <td>40000</td>\n",
       "      <td>56</td>\n",
       "      <td>2240000</td>\n",
       "      <td>291000</td>\n",
       "      <td>87.00</td>\n",
       "      <td>1949000</td>\n",
       "      <td>2005</td>\n",
       "    </tr>\n",
       "  </tbody>\n",
       "</table>\n",
       "<p>255 rows × 9 columns</p>\n",
       "</div>"
      ],
      "text/plain": [
       "     Unnamed: 0         state  colonies_number  yield_per_colony  production  \\\n",
       "217         217       Alabama            16000                78     1248000   \n",
       "218         218       Arizona            40000                59     2360000   \n",
       "219         219      Arkansas            55000                93     5115000   \n",
       "220         220    California           440000                70    30800000   \n",
       "221         221      Colorado            29000                60     1740000   \n",
       "..          ...           ...              ...               ...         ...   \n",
       "467         467      Virginia             8000                37      296000   \n",
       "468         468    Washington            51000                55     2805000   \n",
       "469         469  WestVirginia             8000                51      408000   \n",
       "470         470     Wisconsin            64000                83     5312000   \n",
       "471         471       Wyoming            40000                56     2240000   \n",
       "\n",
       "       stocks  average_price  value_of_production  year  \n",
       "217    187000          59.00               736000  2000  \n",
       "218   1322000          73.00              1723000  2000  \n",
       "219   3529000          57.00              2916000  2000  \n",
       "220  11396000          58.00             17864000  2000  \n",
       "221    957000          62.00              1079000  2000  \n",
       "..        ...            ...                  ...   ...  \n",
       "467     59000         221.00               654000  2005  \n",
       "468   1935000         106.00              2973000  2005  \n",
       "469    102000         124.00               506000  2005  \n",
       "470   2922000         114.00              6056000  2005  \n",
       "471    291000          87.00              1949000  2005  \n",
       "\n",
       "[255 rows x 9 columns]"
      ]
     },
     "execution_count": 88,
     "metadata": {},
     "output_type": "execute_result"
    }
   ],
   "source": [
    "honey[(honey['year']>=2000) & (honey['year']<=2005)]"
   ]
  },
  {
   "cell_type": "code",
   "execution_count": null,
   "id": "3a03f492-f1dd-40b0-90d5-e578d4ac67ea",
   "metadata": {},
   "outputs": [],
   "source": []
  }
 ],
 "metadata": {
  "kernelspec": {
   "display_name": "Python 3 (ipykernel)",
   "language": "python",
   "name": "python3"
  },
  "language_info": {
   "codemirror_mode": {
    "name": "ipython",
    "version": 3
   },
   "file_extension": ".py",
   "mimetype": "text/x-python",
   "name": "python",
   "nbconvert_exporter": "python",
   "pygments_lexer": "ipython3",
   "version": "3.12.7"
  }
 },
 "nbformat": 4,
 "nbformat_minor": 5
}
