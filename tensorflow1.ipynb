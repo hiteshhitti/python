{
 "cells": [
  {
   "cell_type": "code",
   "execution_count": 1,
   "id": "72304cfa-3989-4bdf-9fb5-43636898077f",
   "metadata": {},
   "outputs": [],
   "source": [
    "# ✅ Step 1: Import Required Libraries\n",
    "import tensorflow as tf\n",
    "from tensorflow.keras.models import Sequential\n",
    "from tensorflow.keras.layers import Dense, Conv2D, Flatten, MaxPooling2D\n",
    "from tensorflow.keras.datasets import mnist\n",
    "from tensorflow.keras.utils import to_categorical\n",
    "from PIL import Image"
   ]
  },
  {
   "cell_type": "code",
   "execution_count": null,
   "id": "17986abf-ab29-4ac9-862e-acfece3e179c",
   "metadata": {},
   "outputs": [
    {
     "name": "stdout",
     "output_type": "stream",
     "text": [
      "Training Data Shape: (60000, 28, 28)\n",
      "Test Data Shape: (10000, 28, 28)\n",
      "Epoch 1/5\n"
     ]
    },
    {
     "name": "stderr",
     "output_type": "stream",
     "text": [
      "D:\\python\\Lib\\site-packages\\keras\\src\\layers\\convolutional\\base_conv.py:113: UserWarning: Do not pass an `input_shape`/`input_dim` argument to a layer. When using Sequential models, prefer using an `Input(shape)` object as the first layer in the model instead.\n",
      "  super().__init__(activity_regularizer=activity_regularizer, **kwargs)\n"
     ]
    },
    {
     "name": "stdout",
     "output_type": "stream",
     "text": [
      "\u001b[1m469/469\u001b[0m \u001b[32m━━━━━━━━━━━━━━━━━━━━\u001b[0m\u001b[37m\u001b[0m \u001b[1m8s\u001b[0m 15ms/step - accuracy: 0.8788 - loss: 0.4467\n",
      "Epoch 2/5\n",
      "\u001b[1m469/469\u001b[0m \u001b[32m━━━━━━━━━━━━━━━━━━━━\u001b[0m\u001b[37m\u001b[0m \u001b[1m7s\u001b[0m 15ms/step - accuracy: 0.9784 - loss: 0.0739\n",
      "Epoch 3/5\n",
      "\u001b[1m469/469\u001b[0m \u001b[32m━━━━━━━━━━━━━━━━━━━━\u001b[0m\u001b[37m\u001b[0m \u001b[1m7s\u001b[0m 14ms/step - accuracy: 0.9857 - loss: 0.0477\n",
      "Epoch 4/5\n",
      "\u001b[1m469/469\u001b[0m \u001b[32m━━━━━━━━━━━━━━━━━━━━\u001b[0m\u001b[37m\u001b[0m \u001b[1m7s\u001b[0m 15ms/step - accuracy: 0.9898 - loss: 0.0335\n",
      "Epoch 5/5\n",
      "\u001b[1m310/469\u001b[0m \u001b[32m━━━━━━━━━━━━━\u001b[0m\u001b[37m━━━━━━━\u001b[0m \u001b[1m2s\u001b[0m 15ms/step - accuracy: 0.9932 - loss: 0.0239"
     ]
    }
   ],
   "source": [
    "# ✅ Step 2: Load the MNIST Dataset (Already available in TensorFlow)\n",
    "(X_train, y_train), (X_test, y_test) = mnist.load_data()\n",
    "\n",
    "print(f\"Training Data Shape: {X_train.shape}\")\n",
    "print(f\"Test Data Shape: {X_test.shape}\")\n",
    "\n",
    "# ✅ Step 3: Preprocess the Data\n",
    "# Reshape data to fit CNN input shape\n",
    "X_train = X_train.reshape((X_train.shape[0], 28, 28, 1)).astype('float32') / 255\n",
    "X_test = X_test.reshape((X_test.shape[0], 28, 28, 1)).astype('float32') / 255\n",
    "\n",
    "# Convert labels to one-hot encoding\n",
    "y_train = to_categorical(y_train)\n",
    "y_test = to_categorical(y_test)\n",
    "\n",
    "# ✅ Step 4: Build CNN Model\n",
    "model = Sequential()\n",
    "\n",
    "# Convolutional Layer\n",
    "model.add(Conv2D(32, kernel_size=(3,3), activation='relu', input_shape=(28,28,1)))\n",
    "model.add(MaxPooling2D(pool_size=(2,2)))\n",
    "\n",
    "# Flatten + Dense Layers\n",
    "model.add(Flatten())\n",
    "model.add(Dense(128, activation='relu'))\n",
    "model.add(Dense(10, activation='softmax'))  # 10 classes for digits 0-9\n",
    "\n",
    "# ✅ Step 5: Compile the Model\n",
    "model.compile(optimizer='adam', loss='categorical_crossentropy', metrics=['accuracy'])\n",
    "\n",
    "# ✅ Step 6: Train the Model\n",
    "model.fit(X_train, y_train, epochs=5, batch_size=128, verbose=1)\n",
    "\n",
    "# ✅ Step 7: Evaluate the Model\n",
    "loss, accuracy = model.evaluate(X_test, y_test)\n",
    "print(f\"\\nTest Accuracy: {accuracy*100:.2f}%\")\n",
    "\n",
    "# ✅ Step 8: Make Prediction on a Sample Test Image\n",
    "import numpy as np\n",
    "import matplotlib.pyplot as plt\n",
    "\n",
    "# Select one test image\n",
    "sample_image = X_test[0].reshape(1,28,28,1)\n",
    "\n",
    "# Show Image\n",
    "plt.imshow(X_test[0].reshape(28,28), cmap='gray')\n",
    "plt.title(\"Actual Label: \" + str(np.argmax(y_test[0])))\n",
    "plt.show()\n",
    "\n",
    "# Predict\n",
    "prediction = model.predict(sample_image)\n",
    "predicted_label = np.argmax(prediction)\n",
    "print(f\"Predicted Digit: {predicted_label}\")\n"
   ]
  },
  {
   "cell_type": "code",
   "execution_count": null,
   "id": "83e68c38-2803-4177-97c6-0da6cabce268",
   "metadata": {},
   "outputs": [],
   "source": [
    "img = Image.open('three.png').convert('L')"
   ]
  },
  {
   "cell_type": "code",
   "execution_count": null,
   "id": "474a627b-b94b-4647-9d8d-b92dcf56fc0f",
   "metadata": {},
   "outputs": [],
   "source": [
    "img = img.resize((28,28))"
   ]
  },
  {
   "cell_type": "code",
   "execution_count": null,
   "id": "c6cb559b-408c-4ef7-baef-9ea82435836b",
   "metadata": {},
   "outputs": [],
   "source": [
    "img_array = np.array(img)"
   ]
  },
  {
   "cell_type": "code",
   "execution_count": null,
   "id": "1310f339-0154-47f4-bc25-56c510bfa81a",
   "metadata": {},
   "outputs": [],
   "source": [
    "img_array = img_array / 255.0"
   ]
  },
  {
   "cell_type": "code",
   "execution_count": null,
   "id": "7d846955-a661-4617-a075-57956edefa84",
   "metadata": {},
   "outputs": [],
   "source": [
    "img_array = 1 - img_array "
   ]
  },
  {
   "cell_type": "code",
   "execution_count": null,
   "id": "f3559886-9e5a-479e-a364-4875e17f6022",
   "metadata": {},
   "outputs": [],
   "source": [
    "img_input = img_array.reshape(1,28,28,1)"
   ]
  },
  {
   "cell_type": "code",
   "execution_count": null,
   "id": "802a6ffa-dc17-4b08-9659-c64119263265",
   "metadata": {},
   "outputs": [],
   "source": [
    "plt.imshow(img_array, cmap='gray')\n",
    "plt.title(\"Your Digit Image\")\n",
    "plt.show()"
   ]
  },
  {
   "cell_type": "code",
   "execution_count": null,
   "id": "1fe204f9-934b-4b9f-901b-3af6936bf1f9",
   "metadata": {},
   "outputs": [],
   "source": [
    "prediction = model.predict(img_input)\n",
    "predicted_label = np.argmax(prediction)\n",
    "print(f\"Predicted Digit: {predicted_label}\")"
   ]
  },
  {
   "cell_type": "code",
   "execution_count": null,
   "id": "38e2c2b6-0c54-43b7-865c-e9bbfa726f4b",
   "metadata": {},
   "outputs": [],
   "source": []
  }
 ],
 "metadata": {
  "kernelspec": {
   "display_name": "Python 3 (ipykernel)",
   "language": "python",
   "name": "python3"
  },
  "language_info": {
   "codemirror_mode": {
    "name": "ipython",
    "version": 3
   },
   "file_extension": ".py",
   "mimetype": "text/x-python",
   "name": "python",
   "nbconvert_exporter": "python",
   "pygments_lexer": "ipython3",
   "version": "3.12.7"
  }
 },
 "nbformat": 4,
 "nbformat_minor": 5
}
