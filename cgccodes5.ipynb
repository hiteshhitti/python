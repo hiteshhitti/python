{
 "cells": [
  {
   "cell_type": "code",
   "execution_count": 1,
   "id": "6d3111f5-2769-4076-939d-674271a3ecb7",
   "metadata": {},
   "outputs": [],
   "source": [
    "import numpy as np"
   ]
  },
  {
   "cell_type": "code",
   "execution_count": 2,
   "id": "20b83ecf-1e87-41e7-b238-01ec5bd08d34",
   "metadata": {},
   "outputs": [],
   "source": [
    "array=np.array([1,2,3,4])"
   ]
  },
  {
   "cell_type": "code",
   "execution_count": 3,
   "id": "0a628e0a-8a41-4320-97f2-d917773e0d2e",
   "metadata": {},
   "outputs": [
    {
     "name": "stdout",
     "output_type": "stream",
     "text": [
      "[1 2 3 4] <class 'numpy.ndarray'> int32 (4,) 4 1\n"
     ]
    }
   ],
   "source": [
    "print(array, type(array), array.dtype, array.shape, array.size, array.ndim)"
   ]
  },
  {
   "cell_type": "code",
   "execution_count": 4,
   "id": "27573cbf-1006-4a7c-be79-9753472aaab5",
   "metadata": {},
   "outputs": [],
   "source": [
    "arr2=np.array([\n",
    "    [1,2,3,4],\n",
    "    [5,6,7,8]\n",
    "])"
   ]
  },
  {
   "cell_type": "code",
   "execution_count": 5,
   "id": "9926b5a5-2beb-42c5-8fd7-e21de2bd425f",
   "metadata": {},
   "outputs": [],
   "source": [
    "arr3=np.array([[\n",
    "    [1,2,3,4],\n",
    "    [5,6,7,8],\n",
    "    [3,4,5,6]\n",
    "],[\n",
    "    [9,8,7,6],\n",
    "    [5,4,3,2],\n",
    "    [5,4,3,2]\n",
    "]])"
   ]
  },
  {
   "cell_type": "code",
   "execution_count": 6,
   "id": "d7cba077-5612-4265-9a58-35fd61cb0fe5",
   "metadata": {},
   "outputs": [],
   "source": [
    "aar4=np.zeros((2,3))"
   ]
  },
  {
   "cell_type": "code",
   "execution_count": 7,
   "id": "2662f228-2be7-4ba7-a6be-bd25cc83bfc6",
   "metadata": {},
   "outputs": [
    {
     "name": "stdout",
     "output_type": "stream",
     "text": [
      "[[0. 0. 0.]\n",
      " [0. 0. 0.]]\n"
     ]
    }
   ],
   "source": [
    "print(aar4)"
   ]
  },
  {
   "cell_type": "code",
   "execution_count": 8,
   "id": "dcd8ca71-c694-4174-8cb8-46bc45688fbf",
   "metadata": {},
   "outputs": [],
   "source": [
    "arr5=np.zeros((3,3,4))"
   ]
  },
  {
   "cell_type": "code",
   "execution_count": 9,
   "id": "dfa78bae-9f54-42b5-8d20-54f83545a362",
   "metadata": {},
   "outputs": [
    {
     "name": "stdout",
     "output_type": "stream",
     "text": [
      "[[[0. 0. 0. 0.]\n",
      "  [0. 0. 0. 0.]\n",
      "  [0. 0. 0. 0.]]\n",
      "\n",
      " [[0. 0. 0. 0.]\n",
      "  [0. 0. 0. 0.]\n",
      "  [0. 0. 0. 0.]]\n",
      "\n",
      " [[0. 0. 0. 0.]\n",
      "  [0. 0. 0. 0.]\n",
      "  [0. 0. 0. 0.]]]\n"
     ]
    }
   ],
   "source": [
    "print(arr5)"
   ]
  },
  {
   "cell_type": "code",
   "execution_count": 10,
   "id": "a072a453-698d-4fd8-817e-ccc98c1866bf",
   "metadata": {},
   "outputs": [],
   "source": [
    "arr6=np.ones((2,3))"
   ]
  },
  {
   "cell_type": "code",
   "execution_count": 11,
   "id": "421d772c-090e-4c18-aa60-ead4e2d7d8f1",
   "metadata": {},
   "outputs": [
    {
     "name": "stdout",
     "output_type": "stream",
     "text": [
      "[[1. 1. 1.]\n",
      " [1. 1. 1.]]\n"
     ]
    }
   ],
   "source": [
    "print(arr6)"
   ]
  },
  {
   "cell_type": "code",
   "execution_count": 12,
   "id": "b06e09f6-db95-4376-a7b1-ab2ab91d0199",
   "metadata": {},
   "outputs": [],
   "source": [
    "arr7=np.ones((3,4,5))"
   ]
  },
  {
   "cell_type": "code",
   "execution_count": 13,
   "id": "fb9259dc-7691-4c51-a88a-820ccc95dbff",
   "metadata": {},
   "outputs": [
    {
     "name": "stdout",
     "output_type": "stream",
     "text": [
      "[[[1. 1. 1. 1. 1.]\n",
      "  [1. 1. 1. 1. 1.]\n",
      "  [1. 1. 1. 1. 1.]\n",
      "  [1. 1. 1. 1. 1.]]\n",
      "\n",
      " [[1. 1. 1. 1. 1.]\n",
      "  [1. 1. 1. 1. 1.]\n",
      "  [1. 1. 1. 1. 1.]\n",
      "  [1. 1. 1. 1. 1.]]\n",
      "\n",
      " [[1. 1. 1. 1. 1.]\n",
      "  [1. 1. 1. 1. 1.]\n",
      "  [1. 1. 1. 1. 1.]\n",
      "  [1. 1. 1. 1. 1.]]]\n"
     ]
    }
   ],
   "source": [
    "print(arr7)"
   ]
  },
  {
   "cell_type": "code",
   "execution_count": 113,
   "id": "49b89ce4-920f-4a18-b310-a3c2be8b7d67",
   "metadata": {},
   "outputs": [],
   "source": [
    "arr8=np.arange(2,50,.3)"
   ]
  },
  {
   "cell_type": "code",
   "execution_count": 114,
   "id": "e2e25e54-c233-4901-8c10-8736fefb4f2d",
   "metadata": {},
   "outputs": [
    {
     "name": "stdout",
     "output_type": "stream",
     "text": [
      "[ 2.   2.3  2.6  2.9  3.2  3.5  3.8  4.1  4.4  4.7  5.   5.3  5.6  5.9\n",
      "  6.2  6.5  6.8  7.1  7.4  7.7  8.   8.3  8.6  8.9  9.2  9.5  9.8 10.1\n",
      " 10.4 10.7 11.  11.3 11.6 11.9 12.2 12.5 12.8 13.1 13.4 13.7 14.  14.3\n",
      " 14.6 14.9 15.2 15.5 15.8 16.1 16.4 16.7 17.  17.3 17.6 17.9 18.2 18.5\n",
      " 18.8 19.1 19.4 19.7 20.  20.3 20.6 20.9 21.2 21.5 21.8 22.1 22.4 22.7\n",
      " 23.  23.3 23.6 23.9 24.2 24.5 24.8 25.1 25.4 25.7 26.  26.3 26.6 26.9\n",
      " 27.2 27.5 27.8 28.1 28.4 28.7 29.  29.3 29.6 29.9 30.2 30.5 30.8 31.1\n",
      " 31.4 31.7 32.  32.3 32.6 32.9 33.2 33.5 33.8 34.1 34.4 34.7 35.  35.3\n",
      " 35.6 35.9 36.2 36.5 36.8 37.1 37.4 37.7 38.  38.3 38.6 38.9 39.2 39.5\n",
      " 39.8 40.1 40.4 40.7 41.  41.3 41.6 41.9 42.2 42.5 42.8 43.1 43.4 43.7\n",
      " 44.  44.3 44.6 44.9 45.2 45.5 45.8 46.1 46.4 46.7 47.  47.3 47.6 47.9\n",
      " 48.2 48.5 48.8 49.1 49.4 49.7]\n"
     ]
    }
   ],
   "source": [
    "print(arr8)"
   ]
  },
  {
   "cell_type": "code",
   "execution_count": 123,
   "id": "7a806f58-ce3d-4e9f-962f-5e7f0a09375c",
   "metadata": {},
   "outputs": [],
   "source": [
    "arr9=np.linspace(1,10,10)"
   ]
  },
  {
   "cell_type": "code",
   "execution_count": 124,
   "id": "9729bc87-27e4-4fcd-8c85-7d392ebb3f8d",
   "metadata": {},
   "outputs": [
    {
     "name": "stdout",
     "output_type": "stream",
     "text": [
      "[ 1.  2.  3.  4.  5.  6.  7.  8.  9. 10.]\n"
     ]
    }
   ],
   "source": [
    "print(arr9)"
   ]
  },
  {
   "cell_type": "code",
   "execution_count": 34,
   "id": "866f7427-4955-4443-8ad0-f0edb76006f6",
   "metadata": {},
   "outputs": [],
   "source": [
    "arr10=np.linspace(10,100,10)"
   ]
  },
  {
   "cell_type": "code",
   "execution_count": 35,
   "id": "a4fc1013-c27a-4da2-99c1-298b9117da31",
   "metadata": {},
   "outputs": [
    {
     "name": "stdout",
     "output_type": "stream",
     "text": [
      "[ 10.  20.  30.  40.  50.  60.  70.  80.  90. 100.]\n"
     ]
    }
   ],
   "source": [
    "print(arr10)"
   ]
  },
  {
   "cell_type": "code",
   "execution_count": 67,
   "id": "fd111804-5e09-4a3d-bc0f-ff88feb3de34",
   "metadata": {},
   "outputs": [],
   "source": [
    "arr10=np.eye(5,5,k=-1)"
   ]
  },
  {
   "cell_type": "code",
   "execution_count": 68,
   "id": "c4f2512c-0226-4007-9325-4b239e3660c5",
   "metadata": {},
   "outputs": [
    {
     "name": "stdout",
     "output_type": "stream",
     "text": [
      "[[0. 0. 0. 0. 0.]\n",
      " [1. 0. 0. 0. 0.]\n",
      " [0. 1. 0. 0. 0.]\n",
      " [0. 0. 1. 0. 0.]\n",
      " [0. 0. 0. 1. 0.]]\n"
     ]
    }
   ],
   "source": [
    "print(arr10)"
   ]
  },
  {
   "cell_type": "code",
   "execution_count": 75,
   "id": "a33e3669-d162-4d8d-865a-da17770b2964",
   "metadata": {},
   "outputs": [],
   "source": [
    "arr11=np.random.rand(4,2,5)"
   ]
  },
  {
   "cell_type": "code",
   "execution_count": 76,
   "id": "3124d1b8-ab22-4b51-a493-8f00b1ba4f86",
   "metadata": {},
   "outputs": [
    {
     "name": "stdout",
     "output_type": "stream",
     "text": [
      "[[[0.2375267  0.66763759 0.33163921 0.86989365 0.72830975]\n",
      "  [0.66824026 0.71857566 0.13448318 0.20801828 0.93413758]]\n",
      "\n",
      " [[0.93679768 0.40062965 0.52443266 0.10735967 0.06870673]\n",
      "  [0.69965894 0.52487961 0.22781338 0.8992973  0.07400968]]\n",
      "\n",
      " [[0.89116492 0.84204746 0.06182275 0.25489026 0.81786174]\n",
      "  [0.74008658 0.9829351  0.77464274 0.22015978 0.30439155]]\n",
      "\n",
      " [[0.1490166  0.85730439 0.83687028 0.62458851 0.84032859]\n",
      "  [0.3993636  0.62097726 0.20857627 0.08085093 0.89884933]]]\n"
     ]
    }
   ],
   "source": [
    "print(arr11)"
   ]
  },
  {
   "cell_type": "code",
   "execution_count": 100,
   "id": "8032cfb3-8cd3-4f3e-954e-352ffd2ac999",
   "metadata": {},
   "outputs": [
    {
     "name": "stdout",
     "output_type": "stream",
     "text": [
      "[0.11505457 0.60906654 0.13339096 0.24058962]\n"
     ]
    }
   ],
   "source": [
    "arr12=np.random.seed(43)\n",
    "arr12=np.random.rand(4)\n",
    "print(arr12)"
   ]
  },
  {
   "cell_type": "code",
   "execution_count": 102,
   "id": "b486cefc-7dfb-40a3-9a10-475212627d74",
   "metadata": {},
   "outputs": [
    {
     "name": "stdout",
     "output_type": "stream",
     "text": [
      "[0.37454012 0.95071431 0.73199394 0.59865848]\n"
     ]
    }
   ],
   "source": [
    "arr12=np.random.seed(42)\n",
    "arr12=np.random.rand(4)\n",
    "print(arr12)"
   ]
  },
  {
   "cell_type": "code",
   "execution_count": 103,
   "id": "32ff74fe-0b52-4d8a-bf14-2b36aecdae2f",
   "metadata": {},
   "outputs": [
    {
     "name": "stdout",
     "output_type": "stream",
     "text": [
      "[0.37454012 0.95071431 0.73199394 0.59865848]\n"
     ]
    }
   ],
   "source": [
    "print(arr12)"
   ]
  },
  {
   "cell_type": "code",
   "execution_count": 168,
   "id": "afc5dc69-5944-482c-b31d-c592335f412b",
   "metadata": {},
   "outputs": [
    {
     "name": "stdout",
     "output_type": "stream",
     "text": [
      "[[[5 0 3]\n",
      "  [3 7 9]\n",
      "  [3 5 2]]\n",
      "\n",
      " [[4 7 6]\n",
      "  [8 8 1]\n",
      "  [6 7 7]]\n",
      "\n",
      " [[8 1 5]\n",
      "  [9 8 9]\n",
      "  [4 3 0]]]\n"
     ]
    }
   ],
   "source": [
    "arr13=np.random.seed(0)\n",
    "arr13=np.random.randint(0,10, size=(3,3,3))\n",
    "print(arr13)"
   ]
  },
  {
   "cell_type": "code",
   "execution_count": 169,
   "id": "d8681332-8377-4b4b-b2cb-16146b3f2880",
   "metadata": {},
   "outputs": [
    {
     "name": "stdout",
     "output_type": "stream",
     "text": [
      "7\n"
     ]
    }
   ],
   "source": [
    "print(arr13[1,2,1])"
   ]
  },
  {
   "cell_type": "code",
   "execution_count": 170,
   "id": "6ffdac87-66ce-4572-a820-1256eda41c66",
   "metadata": {},
   "outputs": [
    {
     "name": "stdout",
     "output_type": "stream",
     "text": [
      "[[[7]]\n",
      "\n",
      " [[8]]\n",
      "\n",
      " [[8]]]\n"
     ]
    }
   ],
   "source": [
    "print(arr13[0:, 1:2, 1:2])"
   ]
  },
  {
   "cell_type": "code",
   "execution_count": 171,
   "id": "6ede23c4-8d56-4e1e-81a0-bf695ad7a5fa",
   "metadata": {},
   "outputs": [
    {
     "name": "stdout",
     "output_type": "stream",
     "text": [
      "[0 2 4 6 8 8 6 8 8 4 0]\n"
     ]
    }
   ],
   "source": [
    "print(arr13[arr13%2==0])"
   ]
  },
  {
   "cell_type": "code",
   "execution_count": 172,
   "id": "ed46ae0d-0e74-4a33-90e9-21b89ab777cf",
   "metadata": {},
   "outputs": [
    {
     "name": "stdout",
     "output_type": "stream",
     "text": [
      "\n",
      "original\n",
      "[[[5 0 3]\n",
      "  [3 7 9]\n",
      "  [3 5 2]]\n",
      "\n",
      " [[4 7 6]\n",
      "  [8 8 1]\n",
      "  [6 7 7]]\n",
      "\n",
      " [[8 1 5]\n",
      "  [9 8 9]\n",
      "  [4 3 0]]]\n",
      "\n",
      "fancy\n",
      "[[[5 0 3]\n",
      "  [3 7 9]\n",
      "  [3 5 2]]]\n"
     ]
    }
   ],
   "source": [
    "print('\\noriginal')\n",
    "print(arr13)\n",
    "print('\\nfancy')\n",
    "print(arr13[[0]])"
   ]
  },
  {
   "cell_type": "code",
   "execution_count": 173,
   "id": "a71a0217-0572-486d-8c65-668fcd19546a",
   "metadata": {},
   "outputs": [
    {
     "name": "stdout",
     "output_type": "stream",
     "text": [
      "[[3 5 2]\n",
      " [3 5 2]\n",
      " [3 5 2]] [[8 8 1]\n",
      " [4 7 6]\n",
      " [6 7 7]]\n"
     ]
    }
   ],
   "source": [
    "print(arr13[0][[2,2,2]], arr13[1][[1,0,2]])  # its outpur will confuse you"
   ]
  },
  {
   "cell_type": "code",
   "execution_count": 174,
   "id": "4ff35fba-ddc8-4052-935d-ab938d8d5419",
   "metadata": {},
   "outputs": [
    {
     "name": "stdout",
     "output_type": "stream",
     "text": [
      "array 13 0 index array\n",
      " [[3 5 2]\n",
      " [3 7 9]\n",
      " [5 0 3]]\n",
      "Array 13 index 1 array\n",
      "[[4 7 6]\n",
      " [6 7 7]\n",
      " [8 8 1]]\n"
     ]
    }
   ],
   "source": [
    "a=arr13[0][[2,1,0]]\n",
    "b=arr13[1][[0,2,1]]\n",
    "print(f'array 13 0 index array\\n {a}\\nArray 13 index 1 array\\n{b}')"
   ]
  },
  {
   "cell_type": "code",
   "execution_count": 175,
   "id": "f330e5f3-70b4-4f70-a290-4800052d2620",
   "metadata": {},
   "outputs": [
    {
     "name": "stdout",
     "output_type": "stream",
     "text": [
      "[[[16 19 16]\n",
      "  [11 11 12]\n",
      "  [18 17 13]]\n",
      "\n",
      " [[15 16 13]\n",
      "  [15 13 15]\n",
      "  [18 18 12]]\n",
      "\n",
      " [[18 11 17]\n",
      "  [18 17 12]\n",
      "  [11 12 19]]]\n"
     ]
    }
   ],
   "source": [
    "arr14=np.random.seed(1)\n",
    "arr14=np.random.randint(11,20, size=(3,3,3))\n",
    "print(arr14)"
   ]
  },
  {
   "cell_type": "code",
   "execution_count": 176,
   "id": "0543479d-9962-4561-a61b-6bea251e1fb5",
   "metadata": {},
   "outputs": [
    {
     "name": "stdout",
     "output_type": "stream",
     "text": [
      "[[[21 19 19]\n",
      "  [14 18 21]\n",
      "  [21 22 15]]\n",
      "\n",
      " [[19 23 19]\n",
      "  [23 21 16]\n",
      "  [24 25 19]]\n",
      "\n",
      " [[26 12 22]\n",
      "  [27 25 21]\n",
      "  [15 15 19]]]\n"
     ]
    }
   ],
   "source": [
    "print(arr13+arr14)"
   ]
  },
  {
   "cell_type": "code",
   "execution_count": 177,
   "id": "9b36c6c7-0107-4a60-81a7-08656b275542",
   "metadata": {},
   "outputs": [
    {
     "name": "stdout",
     "output_type": "stream",
     "text": [
      "[[29 29 27]\n",
      " [23 29 28]\n",
      " [23 22 26]]\n"
     ]
    }
   ],
   "source": [
    "arr15=np.random.seed(2)\n",
    "arr15=np.random.randint(21,30, size=(3,3))\n",
    "print(arr15)"
   ]
  },
  {
   "cell_type": "code",
   "execution_count": 182,
   "id": "b1409a4c-5a54-4b83-953a-0a25aa74d11c",
   "metadata": {},
   "outputs": [
    {
     "name": "stdout",
     "output_type": "stream",
     "text": [
      "sum of arr15\n",
      "[[29 29 27]\n",
      " [23 29 28]\n",
      " [23 22 26]]\n",
      " and arr14 \n",
      "[[[16 19 16]\n",
      "  [11 11 12]\n",
      "  [18 17 13]]\n",
      "\n",
      " [[15 16 13]\n",
      "  [15 13 15]\n",
      "  [18 18 12]]\n",
      "\n",
      " [[18 11 17]\n",
      "  [18 17 12]\n",
      "  [11 12 19]]]\n",
      " is \n",
      " ==\n",
      "[[[45 48 43]\n",
      "  [34 40 40]\n",
      "  [41 39 39]]\n",
      "\n",
      " [[44 45 40]\n",
      "  [38 42 43]\n",
      "  [41 40 38]]\n",
      "\n",
      " [[47 40 44]\n",
      "  [41 46 40]\n",
      "  [34 34 45]]]\n"
     ]
    }
   ],
   "source": [
    "print(f'sum of arr15\\n{arr15}\\n and arr14 \\n{arr14}\\n is \\n ==')\n",
    "print(arr15+arr14)"
   ]
  },
  {
   "cell_type": "code",
   "execution_count": 184,
   "id": "8326aede-553d-442b-a37e-89d28b59c56e",
   "metadata": {},
   "outputs": [],
   "source": [
    "arr16=np.random.seed(2)\n",
    "arr16=np.random.randint(31,40, size=(3,3))\n",
    "\n",
    "arr17=np.array([2,3])"
   ]
  },
  {
   "cell_type": "code",
   "execution_count": 185,
   "id": "be4377d2-b44c-4f45-982f-a3648abda2fe",
   "metadata": {},
   "outputs": [
    {
     "ename": "ValueError",
     "evalue": "operands could not be broadcast together with shapes (3,3) (2,) ",
     "output_type": "error",
     "traceback": [
      "\u001b[1;31m---------------------------------------------------------------------------\u001b[0m",
      "\u001b[1;31mValueError\u001b[0m                                Traceback (most recent call last)",
      "Cell \u001b[1;32mIn[185], line 1\u001b[0m\n\u001b[1;32m----> 1\u001b[0m \u001b[38;5;28mprint\u001b[39m(\u001b[38;5;124mf\u001b[39m\u001b[38;5;124m'\u001b[39m\u001b[38;5;124marr16 \u001b[39m\u001b[38;5;132;01m{\u001b[39;00marr16\u001b[38;5;132;01m}\u001b[39;00m\u001b[38;5;130;01m\\n\u001b[39;00m\u001b[38;5;124m +\u001b[39m\u001b[38;5;130;01m\\n\u001b[39;00m\u001b[38;5;124m arr17 \u001b[39m\u001b[38;5;132;01m{\u001b[39;00marr17\u001b[38;5;132;01m}\u001b[39;00m\u001b[38;5;130;01m\\n\u001b[39;00m\u001b[38;5;124m == \u001b[39m\u001b[38;5;130;01m\\n\u001b[39;00m\u001b[38;5;124m \u001b[39m\u001b[38;5;132;01m{\u001b[39;00marr16\u001b[38;5;241m+\u001b[39marr17\u001b[38;5;132;01m}\u001b[39;00m\u001b[38;5;124m \u001b[39m\u001b[38;5;124m'\u001b[39m)\n",
      "\u001b[1;31mValueError\u001b[0m: operands could not be broadcast together with shapes (3,3) (2,) "
     ]
    }
   ],
   "source": [
    "print(f'arr16 {arr16}\\n +\\n arr17 {arr17}\\n == \\n {arr16+arr17} ')"
   ]
  },
  {
   "cell_type": "code",
   "execution_count": 186,
   "id": "51980abd-5696-4219-95b1-9547b1b8b75e",
   "metadata": {},
   "outputs": [
    {
     "ename": "ValueError",
     "evalue": "operands could not be broadcast together with shapes (3,3) (2,) ",
     "output_type": "error",
     "traceback": [
      "\u001b[1;31m---------------------------------------------------------------------------\u001b[0m",
      "\u001b[1;31mValueError\u001b[0m                                Traceback (most recent call last)",
      "Cell \u001b[1;32mIn[186], line 1\u001b[0m\n\u001b[1;32m----> 1\u001b[0m \u001b[38;5;28mprint\u001b[39m(arr16\u001b[38;5;241m+\u001b[39marr17)\n",
      "\u001b[1;31mValueError\u001b[0m: operands could not be broadcast together with shapes (3,3) (2,) "
     ]
    }
   ],
   "source": [
    "print(arr16+arr17)"
   ]
  },
  {
   "cell_type": "code",
   "execution_count": 188,
   "id": "d1785fa8-fc0b-42ac-a06b-af5d5a814cad",
   "metadata": {},
   "outputs": [
    {
     "name": "stdout",
     "output_type": "stream",
     "text": [
      "[0.90929743 0.14112001]\n"
     ]
    }
   ],
   "source": [
    "print(np.sin(arr17))"
   ]
  },
  {
   "cell_type": "code",
   "execution_count": 189,
   "id": "8b467cae-95b8-4c6d-9d7b-bbd75a405401",
   "metadata": {},
   "outputs": [
    {
     "name": "stdout",
     "output_type": "stream",
     "text": [
      "403\n"
     ]
    }
   ],
   "source": [
    "print(arr14.sum())"
   ]
  },
  {
   "cell_type": "code",
   "execution_count": 190,
   "id": "c238fde2-d0e5-4f4e-8ddf-7b89d43462b0",
   "metadata": {},
   "outputs": [
    {
     "name": "stdout",
     "output_type": "stream",
     "text": [
      "14.925925925925926\n"
     ]
    }
   ],
   "source": [
    "print(arr14.mean())"
   ]
  },
  {
   "cell_type": "code",
   "execution_count": 192,
   "id": "e80f46d0-750f-4e9d-b1ea-e3ee57ea4711",
   "metadata": {},
   "outputs": [
    {
     "name": "stdout",
     "output_type": "stream",
     "text": [
      "19\n"
     ]
    }
   ],
   "source": [
    "print(arr14.max())"
   ]
  },
  {
   "cell_type": "code",
   "execution_count": 193,
   "id": "8d38a99d-f3a7-455f-9b4c-a3fe4291123e",
   "metadata": {},
   "outputs": [
    {
     "name": "stdout",
     "output_type": "stream",
     "text": [
      "11\n"
     ]
    }
   ],
   "source": [
    "print(arr14.min())"
   ]
  },
  {
   "cell_type": "code",
   "execution_count": 196,
   "id": "a534484c-9528-437a-90df-a3509a85909a",
   "metadata": {},
   "outputs": [
    {
     "name": "stdout",
     "output_type": "stream",
     "text": [
      "[[[16 19 16]\n",
      "  [11 11 12]\n",
      "  [18 17 13]]\n",
      "\n",
      " [[15 16 13]\n",
      "  [15 13 15]\n",
      "  [18 18 12]]\n",
      "\n",
      " [[18 11 17]\n",
      "  [18 17 12]\n",
      "  [11 12 19]]] \n",
      "\n",
      "[ 16  35  51  62  73  85 103 120 133 148 164 177 192 205 220 238 256 268\n",
      " 286 297 314 332 349 361 372 384 403]\n"
     ]
    }
   ],
   "source": [
    "print(arr14,'\\n')\n",
    "print(arr14.cumsum())"
   ]
  },
  {
   "cell_type": "code",
   "execution_count": 197,
   "id": "a721aca7-7f7d-44e5-9cb1-078eda3ac6ad",
   "metadata": {},
   "outputs": [
    {
     "name": "stdout",
     "output_type": "stream",
     "text": [
      "8\n"
     ]
    }
   ],
   "source": [
    "print(arr14.ptp())"
   ]
  },
  {
   "cell_type": "code",
   "execution_count": null,
   "id": "d787940d-fb3f-4949-91f7-e022e8826888",
   "metadata": {},
   "outputs": [],
   "source": []
  }
 ],
 "metadata": {
  "kernelspec": {
   "display_name": "Python 3 (ipykernel)",
   "language": "python",
   "name": "python3"
  },
  "language_info": {
   "codemirror_mode": {
    "name": "ipython",
    "version": 3
   },
   "file_extension": ".py",
   "mimetype": "text/x-python",
   "name": "python",
   "nbconvert_exporter": "python",
   "pygments_lexer": "ipython3",
   "version": "3.12.7"
  }
 },
 "nbformat": 4,
 "nbformat_minor": 5
}
