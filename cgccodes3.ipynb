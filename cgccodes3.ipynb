{
 "cells": [
  {
   "cell_type": "code",
   "execution_count": 1,
   "id": "20e86d2f-5023-4f54-8ca6-4a683638eb7c",
   "metadata": {},
   "outputs": [],
   "source": [
    "# functions"
   ]
  },
  {
   "cell_type": "code",
   "execution_count": 2,
   "id": "d6d3b8b2-480c-494d-8b78-9d81ee827d43",
   "metadata": {},
   "outputs": [],
   "source": [
    "def greet():\n",
    "    print(\"good morning\")"
   ]
  },
  {
   "cell_type": "code",
   "execution_count": 3,
   "id": "a681ca33-8bd4-4212-9f08-1597330f1022",
   "metadata": {},
   "outputs": [
    {
     "name": "stdout",
     "output_type": "stream",
     "text": [
      "good morning\n"
     ]
    }
   ],
   "source": [
    "greet()"
   ]
  },
  {
   "cell_type": "code",
   "execution_count": 4,
   "id": "5cc4e3e4-b28f-4d11-ad5e-ad8cb0846fbf",
   "metadata": {},
   "outputs": [],
   "source": [
    "def square(n):\n",
    "    print(n**2)"
   ]
  },
  {
   "cell_type": "code",
   "execution_count": 5,
   "id": "1a04e4ee-f2b0-48c7-ac03-2cd2b56357ca",
   "metadata": {},
   "outputs": [
    {
     "name": "stdout",
     "output_type": "stream",
     "text": [
      "25\n"
     ]
    }
   ],
   "source": [
    "square(5)"
   ]
  },
  {
   "cell_type": "code",
   "execution_count": 6,
   "id": "ccd73720-4f0f-4862-82e9-b558d739d4b0",
   "metadata": {},
   "outputs": [],
   "source": [
    "def sum_upto(n):\n",
    "    total=0\n",
    "    for i in range(1, n+1):\n",
    "        total+=i\n",
    "    return total"
   ]
  },
  {
   "cell_type": "code",
   "execution_count": 7,
   "id": "a2d8e062-03db-4160-b382-8b720eecbdcd",
   "metadata": {},
   "outputs": [
    {
     "data": {
      "text/plain": [
       "3"
      ]
     },
     "execution_count": 7,
     "metadata": {},
     "output_type": "execute_result"
    }
   ],
   "source": [
    "sum_upto(2)"
   ]
  },
  {
   "cell_type": "code",
   "execution_count": 8,
   "id": "cf8d3c5e-7443-4702-aedb-74d3f8328c10",
   "metadata": {},
   "outputs": [],
   "source": [
    "def greet2(name='guest'):\n",
    "    print('hello', name)"
   ]
  },
  {
   "cell_type": "code",
   "execution_count": 9,
   "id": "7180a76f-1c64-48ed-8624-95b3ae458ad6",
   "metadata": {},
   "outputs": [
    {
     "name": "stdout",
     "output_type": "stream",
     "text": [
      "hello hitesh\n"
     ]
    }
   ],
   "source": [
    "greet2('hitesh')"
   ]
  },
  {
   "cell_type": "code",
   "execution_count": 10,
   "id": "95802df1-3136-432c-a25d-2c2793c140f1",
   "metadata": {},
   "outputs": [],
   "source": [
    "def cube(n):\n",
    "    return n**3"
   ]
  },
  {
   "cell_type": "code",
   "execution_count": 11,
   "id": "0ab95d0b-7358-4fda-a546-37de6b4ca3cf",
   "metadata": {},
   "outputs": [],
   "source": [
    "result=cube(3)"
   ]
  },
  {
   "cell_type": "code",
   "execution_count": 12,
   "id": "c52781a5-aca5-4fbd-a7cd-58cb992a92f5",
   "metadata": {},
   "outputs": [],
   "source": [
    "#\"print() is used to display output on the screen, while return is used to send a value from a function back to the caller. \n",
    "#return can be used in expressions and calculations — print cannot.\""
   ]
  },
  {
   "cell_type": "code",
   "execution_count": 13,
   "id": "4bfbcb3c-0332-411d-bc43-f377516303ec",
   "metadata": {},
   "outputs": [
    {
     "name": "stdout",
     "output_type": "stream",
     "text": [
      "54\n"
     ]
    }
   ],
   "source": [
    "print(result*2)"
   ]
  },
  {
   "cell_type": "code",
   "execution_count": 14,
   "id": "0f000275-3ba8-44a5-ac81-8f9718d1df51",
   "metadata": {},
   "outputs": [],
   "source": [
    "def calc(a,b):\n",
    "    return a+b, a*b"
   ]
  },
  {
   "cell_type": "code",
   "execution_count": 15,
   "id": "b3e86fda-c270-4db2-a35a-dd128e325b00",
   "metadata": {},
   "outputs": [],
   "source": [
    "s,m=calc(2,3)"
   ]
  },
  {
   "cell_type": "code",
   "execution_count": 16,
   "id": "2edf7ab7-2392-49f6-b039-8193527c47f2",
   "metadata": {},
   "outputs": [
    {
     "name": "stdout",
     "output_type": "stream",
     "text": [
      "5\n",
      "6\n"
     ]
    }
   ],
   "source": [
    "print(s)\n",
    "print(m)"
   ]
  },
  {
   "cell_type": "code",
   "execution_count": 17,
   "id": "1b28c77c-f4d9-4bba-a069-1d044f4e38ba",
   "metadata": {},
   "outputs": [],
   "source": [
    "def total(*args):\n",
    "    ssum=0\n",
    "    for num in args:\n",
    "        ssum+=num\n",
    "    return ssum"
   ]
  },
  {
   "cell_type": "code",
   "execution_count": 18,
   "id": "2ae4beac-2208-4a81-a4ea-621cf0266d39",
   "metadata": {},
   "outputs": [
    {
     "data": {
      "text/plain": [
       "91"
      ]
     },
     "execution_count": 18,
     "metadata": {},
     "output_type": "execute_result"
    }
   ],
   "source": [
    "total(12,34,45)"
   ]
  },
  {
   "cell_type": "code",
   "execution_count": 19,
   "id": "5ee279b6-df14-4d02-920c-1c9e1aa76ff4",
   "metadata": {},
   "outputs": [],
   "source": [
    "def outer():\n",
    "    def inner():\n",
    "        print(\"Inside inner\")\n",
    "    print(\"Inside outer\")\n",
    "    inner()"
   ]
  },
  {
   "cell_type": "code",
   "execution_count": 20,
   "id": "ac09fd3e-4e3a-4ebb-89ad-0fe6a2b4bb6b",
   "metadata": {},
   "outputs": [
    {
     "name": "stdout",
     "output_type": "stream",
     "text": [
      "Inside outer\n",
      "Inside inner\n"
     ]
    }
   ],
   "source": [
    "outer()"
   ]
  },
  {
   "cell_type": "code",
   "execution_count": 21,
   "id": "d06f5e52-5e8f-4cef-90cd-1904e7e737e6",
   "metadata": {},
   "outputs": [],
   "source": [
    "#recursion"
   ]
  },
  {
   "cell_type": "markdown",
   "id": "f47242e4-ffa0-474c-a8d4-6ac6509d0375",
   "metadata": {},
   "source": [
    "def sum_digits(n):\n",
    "    if n == 0:\n",
    "        return 0\n",
    "    return n % 10 + sum_digits(n // 10)"
   ]
  },
  {
   "cell_type": "code",
   "execution_count": 22,
   "id": "bf3ad743-9e69-408c-97c5-8f786485b59b",
   "metadata": {},
   "outputs": [],
   "source": [
    "def factorial(n):\n",
    "    if n == 1:\n",
    "        return 1\n",
    "    return n * factorial(n - 1)"
   ]
  },
  {
   "cell_type": "code",
   "execution_count": 23,
   "id": "8dfd5eb8-196c-44c3-8fc7-3e75e6da9ea7",
   "metadata": {},
   "outputs": [],
   "source": [
    "#lambda function or anonymous function"
   ]
  },
  {
   "cell_type": "code",
   "execution_count": 24,
   "id": "459a5a79-1a33-4b84-a407-8f3094cf5f4c",
   "metadata": {},
   "outputs": [],
   "source": [
    "square = lambda x: x * x"
   ]
  },
  {
   "cell_type": "code",
   "execution_count": 25,
   "id": "1afe6bdb-39c4-47d5-b7f2-0f3ded5ade8e",
   "metadata": {},
   "outputs": [
    {
     "data": {
      "text/plain": [
       "9"
      ]
     },
     "execution_count": 25,
     "metadata": {},
     "output_type": "execute_result"
    }
   ],
   "source": [
    "square(3)"
   ]
  },
  {
   "cell_type": "code",
   "execution_count": 26,
   "id": "91fa69c0-8aa9-4695-a7fd-37e050a682d8",
   "metadata": {},
   "outputs": [],
   "source": [
    "sum2=lambda x,y:x+y"
   ]
  },
  {
   "cell_type": "code",
   "execution_count": 27,
   "id": "c08a8984-781b-4df6-879c-a2106180e60b",
   "metadata": {},
   "outputs": [
    {
     "data": {
      "text/plain": [
       "6"
      ]
     },
     "execution_count": 27,
     "metadata": {},
     "output_type": "execute_result"
    }
   ],
   "source": [
    "sum2(2,4)"
   ]
  },
  {
   "cell_type": "code",
   "execution_count": 28,
   "id": "0d05c773-2783-47d9-8974-4f9a851aa7c1",
   "metadata": {},
   "outputs": [],
   "source": [
    "# nested functions"
   ]
  },
  {
   "cell_type": "code",
   "execution_count": 29,
   "id": "9fabee04-8da2-4cf7-8b06-4bd1374f3f3f",
   "metadata": {},
   "outputs": [],
   "source": [
    "def process_user(name):\n",
    "    def validate(n):\n",
    "        return n.isalpha()\n",
    "\n",
    "    if validate(name):\n",
    "        print(\"Welcome\", name)\n",
    "    else:\n",
    "        print(\"Invalid name\")"
   ]
  },
  {
   "cell_type": "code",
   "execution_count": 30,
   "id": "578abe29-7948-4fc0-a3e8-aec21e20744d",
   "metadata": {},
   "outputs": [
    {
     "name": "stdout",
     "output_type": "stream",
     "text": [
      "Welcome hello\n"
     ]
    }
   ],
   "source": [
    "process_user('hello')"
   ]
  },
  {
   "cell_type": "code",
   "execution_count": 31,
   "id": "f98a4184-c676-4ee0-9055-884cd5e72ecc",
   "metadata": {},
   "outputs": [],
   "source": [
    "def make_discount(discount):\n",
    "    def apply(price):\n",
    "        return price - (price * discount)\n",
    "    return apply"
   ]
  },
  {
   "cell_type": "code",
   "execution_count": 32,
   "id": "33e5aac9-beed-4fb5-a7d9-3d9e0c4e120c",
   "metadata": {},
   "outputs": [],
   "source": [
    "def discount(disc):\n",
    "    disc=disc/100\n",
    "    def apply (price):\n",
    "        return price-(price*disc)\n",
    "    def apply2 (price):\n",
    "        return price+(price*disc)\n",
    "    return apply, apply2"
   ]
  },
  {
   "cell_type": "code",
   "execution_count": 33,
   "id": "483110eb-6879-4061-9cae-dd5b544cf8d1",
   "metadata": {},
   "outputs": [],
   "source": [
    "def tables(n):\n",
    "    for i in range (1,11):\n",
    "        print(n,'X',i, '=', (i*n))"
   ]
  },
  {
   "cell_type": "code",
   "execution_count": 34,
   "id": "97004a04-8ec4-4797-adf6-e28b587ca3af",
   "metadata": {},
   "outputs": [],
   "source": [
    "def tables2(n,x):\n",
    "    for i in range (n,x+1):\n",
    "        for j in range (1,11):\n",
    "            print(i, 'X', j,'=', (i*j))"
   ]
  },
  {
   "cell_type": "code",
   "execution_count": null,
   "id": "92c7bff3-3c88-4c22-ba6a-3e6124b0912b",
   "metadata": {},
   "outputs": [],
   "source": [
    "def is_prime(n):\n",
    "    if n <= 1:\n",
    "        return False\n",
    "    for i in range(2, int(n**0.5)+1):\n",
    "        if n % i == 0:\n",
    "            return False\n",
    "    return True\n"
   ]
  }
 ],
 "metadata": {
  "kernelspec": {
   "display_name": "Python 3 (ipykernel)",
   "language": "python",
   "name": "python3"
  },
  "language_info": {
   "codemirror_mode": {
    "name": "ipython",
    "version": 3
   },
   "file_extension": ".py",
   "mimetype": "text/x-python",
   "name": "python",
   "nbconvert_exporter": "python",
   "pygments_lexer": "ipython3",
   "version": "3.12.7"
  }
 },
 "nbformat": 4,
 "nbformat_minor": 5
}
