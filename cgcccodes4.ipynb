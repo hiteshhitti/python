{
 "cells": [
  {
   "cell_type": "code",
   "execution_count": 1,
   "id": "818df88b-09f6-4c58-a210-c09b1896c660",
   "metadata": {},
   "outputs": [],
   "source": [
    "class greets:\n",
    "    def greet_morning(self,name):\n",
    "        print('good morning', name)\n",
    "    def greet_night(self,name):\n",
    "        print('good night', name)"
   ]
  },
  {
   "cell_type": "code",
   "execution_count": 2,
   "id": "4d29b959-68a6-4570-8eb2-cfe20e428407",
   "metadata": {},
   "outputs": [],
   "source": [
    "king=greets()"
   ]
  },
  {
   "cell_type": "code",
   "execution_count": 3,
   "id": "fc80f3ca-113e-4746-aab5-af87a38d4d61",
   "metadata": {},
   "outputs": [
    {
     "name": "stdout",
     "output_type": "stream",
     "text": [
      "good morning amar\n"
     ]
    }
   ],
   "source": [
    "king.greet_morning('amar')"
   ]
  },
  {
   "cell_type": "code",
   "execution_count": 4,
   "id": "06f2aaa7-5f23-4278-9763-4f4ecfb4623e",
   "metadata": {},
   "outputs": [
    {
     "name": "stdout",
     "output_type": "stream",
     "text": [
      "good night raman\n"
     ]
    }
   ],
   "source": [
    "king.greet_night('raman')"
   ]
  },
  {
   "cell_type": "code",
   "execution_count": 5,
   "id": "35811512-660b-4b2c-b133-6fd335021f94",
   "metadata": {},
   "outputs": [],
   "source": [
    "class newclass:\n",
    "    def __init__(self, name, roll):\n",
    "        self.name=name\n",
    "        self.roll=roll\n",
    "    def show(self):\n",
    "        print(f'my name is {self.name} and my roll no is {self.roll}')"
   ]
  },
  {
   "cell_type": "code",
   "execution_count": 6,
   "id": "95aab544-5f6d-4df2-bc25-4fba71fd01eb",
   "metadata": {},
   "outputs": [],
   "source": [
    "queen=newclass('aman', 45)"
   ]
  },
  {
   "cell_type": "code",
   "execution_count": 7,
   "id": "1364634c-74c2-4f8e-a4b1-57f70f685150",
   "metadata": {},
   "outputs": [
    {
     "name": "stdout",
     "output_type": "stream",
     "text": [
      "my name is aman and my roll no is 45\n"
     ]
    }
   ],
   "source": [
    "queen.show()"
   ]
  },
  {
   "cell_type": "code",
   "execution_count": 8,
   "id": "b31abbc8-4be4-4349-9103-837f80d0db2c",
   "metadata": {},
   "outputs": [],
   "source": [
    "class bank:\n",
    "    def __init__(self, name, balance):\n",
    "        self.name=name\n",
    "        self.balance=balance\n",
    "    def deposit(self, amount):\n",
    "        self.balance+=amount\n",
    "    def withdraw(self, amount):\n",
    "        self.balance-=amount\n",
    "    def show(self):\n",
    "        print(f'name is {self.name} and balance is {self.balance} ')"
   ]
  },
  {
   "cell_type": "code",
   "execution_count": 9,
   "id": "0d0d727e-8577-4e68-87a0-f94a71e8522c",
   "metadata": {},
   "outputs": [],
   "source": [
    "hitesh=bank('hitesh', 5000)"
   ]
  },
  {
   "cell_type": "code",
   "execution_count": 10,
   "id": "ec41bcb7-1bb9-4af3-b225-3553acac3278",
   "metadata": {},
   "outputs": [
    {
     "name": "stdout",
     "output_type": "stream",
     "text": [
      "name is hitesh and balance is 5000 \n"
     ]
    }
   ],
   "source": [
    "hitesh.show()"
   ]
  },
  {
   "cell_type": "code",
   "execution_count": 11,
   "id": "ffc23e73-4b7b-4aba-9ec4-2c5bce2f6a88",
   "metadata": {},
   "outputs": [],
   "source": [
    "hitesh.deposit(2500)"
   ]
  },
  {
   "cell_type": "code",
   "execution_count": 12,
   "id": "0ce4b9d7-65a2-4b2d-90fd-1475ba34064c",
   "metadata": {},
   "outputs": [
    {
     "name": "stdout",
     "output_type": "stream",
     "text": [
      "name is hitesh and balance is 7500 \n"
     ]
    }
   ],
   "source": [
    "hitesh.show()"
   ]
  },
  {
   "cell_type": "code",
   "execution_count": 13,
   "id": "905ed995-af75-4039-ac8c-4a1fce3068fc",
   "metadata": {},
   "outputs": [],
   "source": [
    "hitesh.withdraw(3465)"
   ]
  },
  {
   "cell_type": "code",
   "execution_count": 14,
   "id": "f918455b-bd41-4c85-8b08-f757e6a8e798",
   "metadata": {},
   "outputs": [
    {
     "name": "stdout",
     "output_type": "stream",
     "text": [
      "name is hitesh and balance is 4035 \n"
     ]
    }
   ],
   "source": [
    "hitesh.show()"
   ]
  },
  {
   "cell_type": "code",
   "execution_count": 15,
   "id": "911d39ba-69e2-473e-bb67-95eca527ad14",
   "metadata": {},
   "outputs": [],
   "source": [
    "class student:\n",
    "    school='UIT'\n",
    "    def __init__(self, name, roll):\n",
    "        self.name=name\n",
    "        self.roll=roll"
   ]
  },
  {
   "cell_type": "code",
   "execution_count": 16,
   "id": "3e5fee3e-3ccf-424c-86f5-03fce1e8cee1",
   "metadata": {},
   "outputs": [],
   "source": [
    "s1=student('aman', 34)\n",
    "s2=student('raman', 92)"
   ]
  },
  {
   "cell_type": "code",
   "execution_count": 17,
   "id": "be93c938-d3c7-47c0-a59c-67f7d35e2b9c",
   "metadata": {},
   "outputs": [
    {
     "data": {
      "text/plain": [
       "'UIT'"
      ]
     },
     "execution_count": 17,
     "metadata": {},
     "output_type": "execute_result"
    }
   ],
   "source": [
    "s1.school"
   ]
  },
  {
   "cell_type": "code",
   "execution_count": 18,
   "id": "fca6c893-f394-4d20-8a43-e18b210f4238",
   "metadata": {},
   "outputs": [
    {
     "data": {
      "text/plain": [
       "'aman'"
      ]
     },
     "execution_count": 18,
     "metadata": {},
     "output_type": "execute_result"
    }
   ],
   "source": [
    "s1.name"
   ]
  },
  {
   "cell_type": "code",
   "execution_count": 19,
   "id": "917fd3f6-000d-46a2-aebd-d89e55f990ff",
   "metadata": {},
   "outputs": [
    {
     "name": "stdout",
     "output_type": "stream",
     "text": [
      "name and roll no of student is (aman,34) and name of school is UIT\n"
     ]
    }
   ],
   "source": [
    "print(f'name and roll no of student is ({s1.name},{s1.roll}) and name of school is {s1.school}')"
   ]
  },
  {
   "cell_type": "code",
   "execution_count": 20,
   "id": "0d2c7b11-f106-4be8-9bf8-61b547ea6155",
   "metadata": {},
   "outputs": [],
   "source": [
    "s1.name='rajat'"
   ]
  },
  {
   "cell_type": "code",
   "execution_count": 21,
   "id": "e7719cb5-6e1c-4df8-b991-41f69015955f",
   "metadata": {},
   "outputs": [
    {
     "data": {
      "text/plain": [
       "'rajat'"
      ]
     },
     "execution_count": 21,
     "metadata": {},
     "output_type": "execute_result"
    }
   ],
   "source": [
    "s1.name"
   ]
  },
  {
   "cell_type": "code",
   "execution_count": 22,
   "id": "eae8c4af-d0a7-4c7b-a013-f46fab4496c3",
   "metadata": {},
   "outputs": [],
   "source": [
    "del s1.name"
   ]
  },
  {
   "cell_type": "code",
   "execution_count": 23,
   "id": "28eb941f-557d-43be-b2ff-16cf5d9cc576",
   "metadata": {},
   "outputs": [],
   "source": [
    "s1.name='sonam'"
   ]
  },
  {
   "cell_type": "code",
   "execution_count": 24,
   "id": "76ed2f58-ef0f-4bdb-8fc9-ca57e22dec7e",
   "metadata": {},
   "outputs": [
    {
     "data": {
      "text/plain": [
       "'sonam'"
      ]
     },
     "execution_count": 24,
     "metadata": {},
     "output_type": "execute_result"
    }
   ],
   "source": [
    "s1.name"
   ]
  },
  {
   "cell_type": "code",
   "execution_count": 25,
   "id": "fc461822-0d00-41e7-bb66-470b6b8e9e4e",
   "metadata": {},
   "outputs": [],
   "source": [
    "class Employee:\n",
    "    def __init__(self, name, salary):\n",
    "        self.name = name\n",
    "        self.salary = salary\n",
    "    def show(self):\n",
    "        print(\"Name:\", self.name, \"Salary:\", self.salary)"
   ]
  },
  {
   "cell_type": "code",
   "execution_count": 26,
   "id": "74537f26-928c-4472-87fb-5c39af8730b2",
   "metadata": {},
   "outputs": [],
   "source": [
    "e1 = Employee(\"Amit\", 50000)\n",
    "e2 = Employee(\"Seema\", 60000)"
   ]
  },
  {
   "cell_type": "code",
   "execution_count": 27,
   "id": "5fad58bb-6a32-4968-bb68-1900a7cd7ffa",
   "metadata": {},
   "outputs": [
    {
     "name": "stdout",
     "output_type": "stream",
     "text": [
      "Name: Amit Salary: 50000\n",
      "Name: Seema Salary: 60000\n"
     ]
    }
   ],
   "source": [
    "e1.show()\n",
    "e2.show()"
   ]
  },
  {
   "cell_type": "code",
   "execution_count": 28,
   "id": "1260137a-2acd-4dae-9a3a-4ed7e182e164",
   "metadata": {},
   "outputs": [],
   "source": [
    "class student:\n",
    "    def __init__(self, name):\n",
    "        self.name=name\n",
    "    def __str__(self):\n",
    "        return f'name of student is {self.name}'"
   ]
  },
  {
   "cell_type": "code",
   "execution_count": 29,
   "id": "d5c4dfb5-ec5d-49df-a277-4cc36b3b6890",
   "metadata": {},
   "outputs": [],
   "source": [
    "st1=student('kamal')"
   ]
  },
  {
   "cell_type": "code",
   "execution_count": 30,
   "id": "aa0650c9-efb9-4bcb-956b-6767b7f6d780",
   "metadata": {},
   "outputs": [
    {
     "name": "stdout",
     "output_type": "stream",
     "text": [
      "name of student is kamal\n"
     ]
    }
   ],
   "source": [
    "print(st1)"
   ]
  },
  {
   "cell_type": "code",
   "execution_count": 31,
   "id": "731f982d-496a-4fa8-bfb6-53a53c996024",
   "metadata": {},
   "outputs": [],
   "source": [
    "class animal:\n",
    "    def sound(self):\n",
    "        print('burrrr')"
   ]
  },
  {
   "cell_type": "code",
   "execution_count": 32,
   "id": "ef1a1aa1-49b3-40df-bb1b-05bd8adc5ec2",
   "metadata": {},
   "outputs": [],
   "source": [
    "class dog(animal):\n",
    "    def sound(self):\n",
    "        print('meow')\n",
    "    def sound_parent(self):\n",
    "        super().sound()"
   ]
  },
  {
   "cell_type": "code",
   "execution_count": 33,
   "id": "df7a937d-a0a0-4fd5-a66d-74006cf1e86e",
   "metadata": {},
   "outputs": [],
   "source": [
    "hhh=dog()"
   ]
  },
  {
   "cell_type": "code",
   "execution_count": 34,
   "id": "afb88b6e-9187-4dd7-ba40-e8527ac93cb5",
   "metadata": {},
   "outputs": [
    {
     "name": "stdout",
     "output_type": "stream",
     "text": [
      "meow\n"
     ]
    }
   ],
   "source": [
    "hhh.sound()"
   ]
  },
  {
   "cell_type": "code",
   "execution_count": 35,
   "id": "081ee588-c152-466f-9982-80b9e032a50d",
   "metadata": {},
   "outputs": [
    {
     "name": "stdout",
     "output_type": "stream",
     "text": [
      "burrrr\n"
     ]
    }
   ],
   "source": [
    "hhh.sound_parent()"
   ]
  },
  {
   "cell_type": "code",
   "execution_count": 36,
   "id": "0cf16828-a443-4460-9fd4-8ff066a269d2",
   "metadata": {},
   "outputs": [],
   "source": [
    "class hello:\n",
    "    def greet(self):\n",
    "        print('good morning')\n",
    "    def greet_eve(self):\n",
    "        print('good eve')"
   ]
  },
  {
   "cell_type": "code",
   "execution_count": 37,
   "id": "f7c2c21d-7bc0-4c62-a352-9dad40a37159",
   "metadata": {},
   "outputs": [],
   "source": [
    "class wish(hello):\n",
    "    def greet(self):\n",
    "        print('hello')\n",
    "    def greet_sup(self):\n",
    "        super().greet()"
   ]
  },
  {
   "cell_type": "code",
   "execution_count": 38,
   "id": "43c9145d-b4dc-4781-8154-8388503cc9f3",
   "metadata": {},
   "outputs": [],
   "source": [
    "a=wish()"
   ]
  },
  {
   "cell_type": "code",
   "execution_count": 39,
   "id": "4dc54f42-771a-4947-acdc-644788ca404b",
   "metadata": {},
   "outputs": [
    {
     "name": "stdout",
     "output_type": "stream",
     "text": [
      "good eve\n"
     ]
    }
   ],
   "source": [
    "a.greet_eve()"
   ]
  },
  {
   "cell_type": "code",
   "execution_count": 40,
   "id": "060b3c03-435d-4b01-aff4-98a9c7be18dc",
   "metadata": {},
   "outputs": [
    {
     "name": "stdout",
     "output_type": "stream",
     "text": [
      "hello\n"
     ]
    }
   ],
   "source": [
    "a.greet()"
   ]
  },
  {
   "cell_type": "code",
   "execution_count": 41,
   "id": "953d15d4-4058-4e8f-8b23-2547014ea9b6",
   "metadata": {},
   "outputs": [
    {
     "name": "stdout",
     "output_type": "stream",
     "text": [
      "good morning\n"
     ]
    }
   ],
   "source": [
    "a.greet_sup()"
   ]
  },
  {
   "cell_type": "code",
   "execution_count": 42,
   "id": "c6bacaeb-3a76-429d-834b-ba3453365340",
   "metadata": {},
   "outputs": [],
   "source": [
    "class A:\n",
    "    def __init__(self):\n",
    "        self.x=10\n",
    "        self.y=5"
   ]
  },
  {
   "cell_type": "code",
   "execution_count": 43,
   "id": "0f2995ac-ca8c-4525-b75a-c6bc6c034457",
   "metadata": {},
   "outputs": [],
   "source": [
    "class B(A):\n",
    "    def __init__(self):\n",
    "        super().__init__()\n",
    "        self.x=20"
   ]
  },
  {
   "cell_type": "code",
   "execution_count": 44,
   "id": "a2b3c1cb-0e98-425e-a215-9a59600156e6",
   "metadata": {},
   "outputs": [],
   "source": [
    "c=B()"
   ]
  },
  {
   "cell_type": "code",
   "execution_count": 45,
   "id": "0dee3e37-cb1d-45a7-9d6d-22c12c086527",
   "metadata": {},
   "outputs": [
    {
     "data": {
      "text/plain": [
       "20"
      ]
     },
     "execution_count": 45,
     "metadata": {},
     "output_type": "execute_result"
    }
   ],
   "source": [
    "c.x"
   ]
  },
  {
   "cell_type": "code",
   "execution_count": 46,
   "id": "ad35c2bf-b61a-4793-a3bf-aba3b4769bd6",
   "metadata": {},
   "outputs": [
    {
     "data": {
      "text/plain": [
       "5"
      ]
     },
     "execution_count": 46,
     "metadata": {},
     "output_type": "execute_result"
    }
   ],
   "source": [
    "c.y"
   ]
  },
  {
   "cell_type": "code",
   "execution_count": 47,
   "id": "e724bf85-beaa-4bb3-9513-b479872f6321",
   "metadata": {},
   "outputs": [],
   "source": [
    "import math"
   ]
  },
  {
   "cell_type": "code",
   "execution_count": 48,
   "id": "d3800209-0ed9-4a2a-9d33-3842add19ace",
   "metadata": {},
   "outputs": [],
   "source": [
    "class circle:\n",
    "    def __init__(self, radius):\n",
    "        self.radius=radius\n",
    "    def area(self):\n",
    "        print(math.pi*self.radius**2)\n",
    "    def perimeter(self):\n",
    "        print(2*math.pi*self.radius)"
   ]
  },
  {
   "cell_type": "code",
   "execution_count": 49,
   "id": "08293d88-f829-4db5-b6d6-1ef064e66429",
   "metadata": {},
   "outputs": [],
   "source": [
    "c1=circle(47)"
   ]
  },
  {
   "cell_type": "code",
   "execution_count": 50,
   "id": "ea30c91e-c0bf-48a0-a9cd-0ec6e46a4791",
   "metadata": {},
   "outputs": [
    {
     "name": "stdout",
     "output_type": "stream",
     "text": [
      "6939.778171779853\n"
     ]
    }
   ],
   "source": [
    "c1.area()"
   ]
  },
  {
   "cell_type": "code",
   "execution_count": 51,
   "id": "69f0f518-9c30-40b4-875b-cb5ecc333ef7",
   "metadata": {},
   "outputs": [
    {
     "name": "stdout",
     "output_type": "stream",
     "text": [
      "295.3097094374406\n"
     ]
    }
   ],
   "source": [
    "c1.perimeter()"
   ]
  },
  {
   "cell_type": "code",
   "execution_count": 52,
   "id": "373d7a20-e5d1-4c4f-99d5-0b1a3b3d1b04",
   "metadata": {},
   "outputs": [],
   "source": [
    "def checkvowel(word):\n",
    "    word=word.lower()\n",
    "    vowels='aeiou'\n",
    "    for ch in word:\n",
    "        if ch.isalpha():\n",
    "            if ch in vowels:\n",
    "                print(ch)"
   ]
  },
  {
   "cell_type": "code",
   "execution_count": 53,
   "id": "18a5a06f-b841-4f85-a09c-c2828deb512f",
   "metadata": {},
   "outputs": [
    {
     "name": "stdout",
     "output_type": "stream",
     "text": [
      "i\n",
      "e\n"
     ]
    }
   ],
   "source": [
    "checkvowel('hitesh')"
   ]
  },
  {
   "cell_type": "code",
   "execution_count": 54,
   "id": "fb2e676b-53a4-43f3-baf8-5d1ae57c7bc2",
   "metadata": {},
   "outputs": [],
   "source": [
    "class checkvow:\n",
    "    def __init__(self, word):\n",
    "        self.word=word\n",
    "    def checkvowel(self):\n",
    "        self.word=self.word.lower()\n",
    "        vowels='aeiou'\n",
    "        for ch in self.word:\n",
    "            if ch.isalpha():\n",
    "                if ch in vowels:\n",
    "                    print(ch)\n",
    "    def checkvowelcount(self):\n",
    "        self.word=self.word.lower()\n",
    "        vowels='aeiou'\n",
    "        vc=cc=0\n",
    "        for ch in self.word:\n",
    "            if ch.isalpha():\n",
    "                if ch in vowels:\n",
    "                    vc+=1\n",
    "                else:\n",
    "                    cc+=1\n",
    "        print('vowels are: ', vc)\n",
    "        print('consonants are: ',cc)"
   ]
  },
  {
   "cell_type": "code",
   "execution_count": 55,
   "id": "d755f0d4-db90-4f09-9f90-c0d25d6d9e20",
   "metadata": {},
   "outputs": [],
   "source": [
    "w1=checkvow('hitesh')"
   ]
  },
  {
   "cell_type": "code",
   "execution_count": 56,
   "id": "88f93258-7dba-456f-9992-466fbb7a2005",
   "metadata": {},
   "outputs": [
    {
     "name": "stdout",
     "output_type": "stream",
     "text": [
      "i\n",
      "e\n"
     ]
    }
   ],
   "source": [
    "w1.checkvowel()"
   ]
  },
  {
   "cell_type": "code",
   "execution_count": 57,
   "id": "1578a784-0b9c-43a1-9cec-32441d79579e",
   "metadata": {},
   "outputs": [
    {
     "name": "stdout",
     "output_type": "stream",
     "text": [
      "vowels are:  2\n",
      "consonants are:  4\n"
     ]
    }
   ],
   "source": [
    "w1.checkvowelcount()"
   ]
  },
  {
   "cell_type": "code",
   "execution_count": 58,
   "id": "492f3132-0a3d-4363-8f76-d277c7f2de5a",
   "metadata": {},
   "outputs": [],
   "source": [
    "def count(word):\n",
    "    count=0\n",
    "    for i in word:\n",
    "        count+=1\n",
    "    print(count)"
   ]
  },
  {
   "cell_type": "code",
   "execution_count": 59,
   "id": "df49c5df-c85b-47f1-bdac-85728f03ba27",
   "metadata": {},
   "outputs": [
    {
     "name": "stdout",
     "output_type": "stream",
     "text": [
      "6\n"
     ]
    }
   ],
   "source": [
    "count('hitesh')"
   ]
  },
  {
   "cell_type": "code",
   "execution_count": 60,
   "id": "6397725e-a86a-4ef6-967d-fd3e5528a6c4",
   "metadata": {},
   "outputs": [],
   "source": [
    "class wordspropr(checkvow):\n",
    "    def count(self):\n",
    "        count=0\n",
    "        for i in self.word:\n",
    "            count+=1\n",
    "        print(count)"
   ]
  },
  {
   "cell_type": "code",
   "execution_count": 61,
   "id": "0ec7b33e-3fe9-49c6-a43b-a9b787492c4b",
   "metadata": {},
   "outputs": [],
   "source": [
    "w2=wordspropr('sumitra')"
   ]
  },
  {
   "cell_type": "code",
   "execution_count": 62,
   "id": "4b3149e1-28da-4740-94e7-71873ac2481f",
   "metadata": {},
   "outputs": [
    {
     "name": "stdout",
     "output_type": "stream",
     "text": [
      "u\n",
      "i\n",
      "a\n"
     ]
    }
   ],
   "source": [
    "w2.checkvowel()"
   ]
  },
  {
   "cell_type": "code",
   "execution_count": 63,
   "id": "07395467-93b6-4a70-ac58-d57f1bb4c7c3",
   "metadata": {},
   "outputs": [
    {
     "name": "stdout",
     "output_type": "stream",
     "text": [
      "vowels are:  3\n",
      "consonants are:  4\n"
     ]
    }
   ],
   "source": [
    "w2.checkvowelcount()"
   ]
  },
  {
   "cell_type": "code",
   "execution_count": 64,
   "id": "a0a06a99-746a-429a-8411-46ec05b8b876",
   "metadata": {},
   "outputs": [
    {
     "name": "stdout",
     "output_type": "stream",
     "text": [
      "7\n"
     ]
    }
   ],
   "source": [
    "w2.count()"
   ]
  },
  {
   "cell_type": "code",
   "execution_count": 65,
   "id": "8847f347-5c62-4920-b70b-e9c1fa4fee28",
   "metadata": {},
   "outputs": [],
   "source": [
    "from abc import ABC, abstractmethod"
   ]
  },
  {
   "cell_type": "code",
   "execution_count": 66,
   "id": "869b349d-cbbd-4d4d-823c-c13808a913c1",
   "metadata": {},
   "outputs": [],
   "source": [
    "class Shape(ABC):\n",
    "    @abstractmethod\n",
    "    def area(self):\n",
    "        pass\n",
    "\n",
    "    @abstractmethod\n",
    "    def perimeter(self):\n",
    "        pass"
   ]
  },
  {
   "cell_type": "code",
   "execution_count": 70,
   "id": "3611188c-4a59-4778-abb6-96065f7f9cc1",
   "metadata": {},
   "outputs": [],
   "source": [
    "class circular(Shape):\n",
    "    def __init__(self, w,h):\n",
    "        self.w=w\n",
    "        self.h=h\n",
    "    def area(self):\n",
    "        print(w*h)\n",
    "    def perimeter(self):\n",
    "        print(w/h)"
   ]
  },
  {
   "cell_type": "code",
   "execution_count": 72,
   "id": "19318b4d-e01d-49ef-a895-bc0a09fc4dd5",
   "metadata": {},
   "outputs": [],
   "source": [
    "sh=circular(2,3)"
   ]
  },
  {
   "cell_type": "code",
   "execution_count": null,
   "id": "90c1e69e-6ca8-4d5c-97ac-28ec87eeb5ab",
   "metadata": {},
   "outputs": [],
   "source": []
  }
 ],
 "metadata": {
  "kernelspec": {
   "display_name": "Python 3 (ipykernel)",
   "language": "python",
   "name": "python3"
  },
  "language_info": {
   "codemirror_mode": {
    "name": "ipython",
    "version": 3
   },
   "file_extension": ".py",
   "mimetype": "text/x-python",
   "name": "python",
   "nbconvert_exporter": "python",
   "pygments_lexer": "ipython3",
   "version": "3.12.7"
  }
 },
 "nbformat": 4,
 "nbformat_minor": 5
}
